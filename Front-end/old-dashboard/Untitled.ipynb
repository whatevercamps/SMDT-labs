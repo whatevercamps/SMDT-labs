{
 "cells": [
  {
   "cell_type": "code",
   "execution_count": 1,
   "metadata": {},
   "outputs": [],
   "source": [
    "from twitterscraper import query_tweets"
   ]
  },
  {
   "cell_type": "code",
   "execution_count": 28,
   "metadata": {},
   "outputs": [],
   "source": [
    "import json"
   ]
  },
  {
   "cell_type": "code",
   "execution_count": 3,
   "metadata": {},
   "outputs": [],
   "source": [
    "lista = []\n",
    "nombre_archivo = \"prueba_tweets1\"\n",
    "file_reports = open(\"{0}.txt\".format(nombre_archivo),\"w\")\n",
    "file_tweets = open(\"tweets_version1.txt\",\"w\")\n",
    "query = \"uribe\""
   ]
  },
  {
   "cell_type": "code",
   "execution_count": 12,
   "metadata": {},
   "outputs": [
    {
     "name": "stderr",
     "output_type": "stream",
     "text": [
      "INFO: queries: ['uribe near:Barranquilla within:100mi -filter:nativeretweets since:2006-03-21 until:2006-11-27', 'uribe near:Barranquilla within:100mi -filter:nativeretweets since:2006-11-27 until:2007-08-05', 'uribe near:Barranquilla within:100mi -filter:nativeretweets since:2007-08-05 until:2008-04-12', 'uribe near:Barranquilla within:100mi -filter:nativeretweets since:2008-04-12 until:2008-12-19', 'uribe near:Barranquilla within:100mi -filter:nativeretweets since:2008-12-19 until:2009-08-27', 'uribe near:Barranquilla within:100mi -filter:nativeretweets since:2009-08-27 until:2010-05-05', 'uribe near:Barranquilla within:100mi -filter:nativeretweets since:2010-05-05 until:2011-01-11', 'uribe near:Barranquilla within:100mi -filter:nativeretweets since:2011-01-11 until:2011-09-19', 'uribe near:Barranquilla within:100mi -filter:nativeretweets since:2011-09-19 until:2012-05-27', 'uribe near:Barranquilla within:100mi -filter:nativeretweets since:2012-05-27 until:2013-02-03', 'uribe near:Barranquilla within:100mi -filter:nativeretweets since:2013-02-03 until:2013-10-12', 'uribe near:Barranquilla within:100mi -filter:nativeretweets since:2013-10-12 until:2014-06-20', 'uribe near:Barranquilla within:100mi -filter:nativeretweets since:2014-06-20 until:2015-02-26', 'uribe near:Barranquilla within:100mi -filter:nativeretweets since:2015-02-26 until:2015-11-04', 'uribe near:Barranquilla within:100mi -filter:nativeretweets since:2015-11-04 until:2016-07-12', 'uribe near:Barranquilla within:100mi -filter:nativeretweets since:2016-07-12 until:2017-03-20', 'uribe near:Barranquilla within:100mi -filter:nativeretweets since:2017-03-20 until:2017-11-26', 'uribe near:Barranquilla within:100mi -filter:nativeretweets since:2017-11-26 until:2018-08-04', 'uribe near:Barranquilla within:100mi -filter:nativeretweets since:2018-08-04 until:2019-04-12', 'uribe near:Barranquilla within:100mi -filter:nativeretweets since:2019-04-12 until:2019-12-20']\n",
      "INFO: Querying uribe near:Barranquilla within:100mi -filter:nativeretweets since:2006-11-27 until:2007-08-05\n",
      "INFO: Querying uribe near:Barranquilla within:100mi -filter:nativeretweets since:2006-03-21 until:2006-11-27\n",
      "INFO: Querying uribe near:Barranquilla within:100mi -filter:nativeretweets since:2007-08-05 until:2008-04-12\n",
      "INFO: Querying uribe near:Barranquilla within:100mi -filter:nativeretweets since:2008-04-12 until:2008-12-19\n",
      "INFO: Querying uribe near:Barranquilla within:100mi -filter:nativeretweets since:2008-12-19 until:2009-08-27\n",
      "INFO: Querying uribe near:Barranquilla within:100mi -filter:nativeretweets since:2009-08-27 until:2010-05-05\n",
      "INFO: Querying uribe near:Barranquilla within:100mi -filter:nativeretweets since:2013-02-03 until:2013-10-12\n",
      "INFO: Querying uribe near:Barranquilla within:100mi -filter:nativeretweets since:2011-01-11 until:2011-09-19\n",
      "INFO: Querying uribe near:Barranquilla within:100mi -filter:nativeretweets since:2010-05-05 until:2011-01-11\n",
      "INFO: Querying uribe near:Barranquilla within:100mi -filter:nativeretweets since:2013-10-12 until:2014-06-20\n",
      "INFO: Querying uribe near:Barranquilla within:100mi -filter:nativeretweets since:2019-04-12 until:2019-12-20\n",
      "INFO: Querying uribe near:Barranquilla within:100mi -filter:nativeretweets since:2011-09-19 until:2012-05-27\n",
      "INFO: Querying uribe near:Barranquilla within:100mi -filter:nativeretweets since:2015-02-26 until:2015-11-04\n",
      "INFO: Querying uribe near:Barranquilla within:100mi -filter:nativeretweets since:2014-06-20 until:2015-02-26\n",
      "INFO: Querying uribe near:Barranquilla within:100mi -filter:nativeretweets since:2012-05-27 until:2013-02-03\n",
      "INFO: Querying uribe near:Barranquilla within:100mi -filter:nativeretweets since:2016-07-12 until:2017-03-20\n",
      "INFO: Querying uribe near:Barranquilla within:100mi -filter:nativeretweets since:2018-08-04 until:2019-04-12\n",
      "INFO: Querying uribe near:Barranquilla within:100mi -filter:nativeretweets since:2017-11-26 until:2018-08-04\n",
      "INFO: Querying uribe near:Barranquilla within:100mi -filter:nativeretweets since:2017-03-20 until:2017-11-26\n",
      "INFO: Querying uribe near:Barranquilla within:100mi -filter:nativeretweets since:2015-11-04 until:2016-07-12\n",
      "Process 'ForkPoolWorker-40' pid:19964 exited with 'signal 11 (SIGSEGV)'\n",
      "Process 'ForkPoolWorker-39' pid:19963 exited with 'signal 11 (SIGSEGV)'\n",
      "Process 'ForkPoolWorker-38' pid:19962 exited with 'signal 11 (SIGSEGV)'\n",
      "Process 'ForkPoolWorker-37' pid:19961 exited with 'signal 11 (SIGSEGV)'\n",
      "Process 'ForkPoolWorker-36' pid:19960 exited with 'signal 11 (SIGSEGV)'\n",
      "Process 'ForkPoolWorker-35' pid:19959 exited with 'signal 11 (SIGSEGV)'\n",
      "Process 'ForkPoolWorker-34' pid:19958 exited with 'signal 11 (SIGSEGV)'\n",
      "Process 'ForkPoolWorker-33' pid:19957 exited with 'signal 11 (SIGSEGV)'\n",
      "Process 'ForkPoolWorker-32' pid:19956 exited with 'signal 11 (SIGSEGV)'\n",
      "Process 'ForkPoolWorker-31' pid:19955 exited with 'signal 11 (SIGSEGV)'\n",
      "Process 'ForkPoolWorker-30' pid:19954 exited with 'signal 11 (SIGSEGV)'\n",
      "Process 'ForkPoolWorker-29' pid:19953 exited with 'signal 11 (SIGSEGV)'\n",
      "Process 'ForkPoolWorker-28' pid:19952 exited with 'signal 11 (SIGSEGV)'\n",
      "Process 'ForkPoolWorker-27' pid:19951 exited with 'signal 11 (SIGSEGV)'\n",
      "Process 'ForkPoolWorker-26' pid:19950 exited with 'signal 11 (SIGSEGV)'\n",
      "Process 'ForkPoolWorker-25' pid:19949 exited with 'signal 11 (SIGSEGV)'\n",
      "Process 'ForkPoolWorker-24' pid:19948 exited with 'signal 11 (SIGSEGV)'\n",
      "Process 'ForkPoolWorker-23' pid:19947 exited with 'signal 11 (SIGSEGV)'\n",
      "Process 'ForkPoolWorker-22' pid:19946 exited with 'signal 11 (SIGSEGV)'\n",
      "Process 'ForkPoolWorker-21' pid:19945 exited with 'signal 11 (SIGSEGV)'\n"
     ]
    },
    {
     "ename": "Exception",
     "evalue": "Traceback (most recent call last):\n  File \"/Users/whatevercamps/anaconda3/lib/python3.7/site-packages/billiard/pool.py\", line 1267, in mark_as_worker_lost\n    human_status(exitcode)),\nbilliard.exceptions.WorkerLostError: Worker exited prematurely: signal 11 (SIGSEGV).\n",
     "output_type": "error",
     "traceback": [
      "\u001b[0;31m---------------------------------------------------------------------------\u001b[0m",
      "\u001b[0;31mException\u001b[0m                                 Traceback (most recent call last)",
      "\u001b[0;32m<ipython-input-12-528fa0293b90>\u001b[0m in \u001b[0;36m<module>\u001b[0;34m\u001b[0m\n\u001b[0;32m----> 1\u001b[0;31m \u001b[0;32mfor\u001b[0m \u001b[0mtweet\u001b[0m \u001b[0;32min\u001b[0m \u001b[0mquery_tweets\u001b[0m\u001b[0;34m(\u001b[0m\u001b[0;34m\"{0} near:Barranquilla within:100mi -filter:nativeretweets\"\u001b[0m\u001b[0;34m.\u001b[0m\u001b[0mformat\u001b[0m\u001b[0;34m(\u001b[0m\u001b[0mquery\u001b[0m\u001b[0;34m)\u001b[0m\u001b[0;34m)\u001b[0m\u001b[0;34m:\u001b[0m\u001b[0;34m\u001b[0m\u001b[0;34m\u001b[0m\u001b[0m\n\u001b[0m\u001b[1;32m      2\u001b[0m     \u001b[0mlista\u001b[0m\u001b[0;34m.\u001b[0m\u001b[0mappend\u001b[0m\u001b[0;34m(\u001b[0m\u001b[0mtweet\u001b[0m\u001b[0;34m.\u001b[0m\u001b[0m_json\u001b[0m\u001b[0;34m)\u001b[0m\u001b[0;34m\u001b[0m\u001b[0;34m\u001b[0m\u001b[0m\n\u001b[1;32m      3\u001b[0m     \u001b[0;31m#file_tweets.write(tweet.encode('utf-8'))\u001b[0m\u001b[0;34m\u001b[0m\u001b[0;34m\u001b[0m\u001b[0;34m\u001b[0m\u001b[0m\n\u001b[1;32m      4\u001b[0m     \u001b[0;32mbreak\u001b[0m\u001b[0;34m\u001b[0m\u001b[0;34m\u001b[0m\u001b[0m\n\u001b[1;32m      5\u001b[0m \u001b[0;31m#file_tweets.write(\"{0} -- {1}\".format(query, len(lista)))\u001b[0m\u001b[0;34m\u001b[0m\u001b[0;34m\u001b[0m\u001b[0;34m\u001b[0m\u001b[0m\n",
      "\u001b[0;32m~/anaconda3/lib/python3.7/site-packages/twitterscraper/query.py\u001b[0m in \u001b[0;36mquery_tweets\u001b[0;34m(query, limit, begindate, enddate, poolsize, lang)\u001b[0m\n\u001b[1;32m    233\u001b[0m         \u001b[0mlogger\u001b[0m\u001b[0;34m.\u001b[0m\u001b[0minfo\u001b[0m\u001b[0;34m(\u001b[0m\u001b[0;34m'queries: {}'\u001b[0m\u001b[0;34m.\u001b[0m\u001b[0mformat\u001b[0m\u001b[0;34m(\u001b[0m\u001b[0mqueries\u001b[0m\u001b[0;34m)\u001b[0m\u001b[0;34m)\u001b[0m\u001b[0;34m\u001b[0m\u001b[0;34m\u001b[0m\u001b[0m\n\u001b[1;32m    234\u001b[0m         \u001b[0;32mtry\u001b[0m\u001b[0;34m:\u001b[0m\u001b[0;34m\u001b[0m\u001b[0;34m\u001b[0m\u001b[0m\n\u001b[0;32m--> 235\u001b[0;31m             \u001b[0;32mfor\u001b[0m \u001b[0mnew_tweets\u001b[0m \u001b[0;32min\u001b[0m \u001b[0mpool\u001b[0m\u001b[0;34m.\u001b[0m\u001b[0mimap_unordered\u001b[0m\u001b[0;34m(\u001b[0m\u001b[0mpartial\u001b[0m\u001b[0;34m(\u001b[0m\u001b[0mquery_tweets_once\u001b[0m\u001b[0;34m,\u001b[0m \u001b[0mlimit\u001b[0m\u001b[0;34m=\u001b[0m\u001b[0mlimit_per_pool\u001b[0m\u001b[0;34m,\u001b[0m \u001b[0mlang\u001b[0m\u001b[0;34m=\u001b[0m\u001b[0mlang\u001b[0m\u001b[0;34m)\u001b[0m\u001b[0;34m,\u001b[0m \u001b[0mqueries\u001b[0m\u001b[0;34m)\u001b[0m\u001b[0;34m:\u001b[0m\u001b[0;34m\u001b[0m\u001b[0;34m\u001b[0m\u001b[0m\n\u001b[0m\u001b[1;32m    236\u001b[0m                 \u001b[0;32mfor\u001b[0m \u001b[0mxtweet\u001b[0m \u001b[0;32min\u001b[0m \u001b[0mnew_tweets\u001b[0m\u001b[0;34m:\u001b[0m\u001b[0;34m\u001b[0m\u001b[0;34m\u001b[0m\u001b[0m\n\u001b[1;32m    237\u001b[0m                     \u001b[0;32myield\u001b[0m \u001b[0mxtweet\u001b[0m\u001b[0;34m\u001b[0m\u001b[0;34m\u001b[0m\u001b[0m\n",
      "\u001b[0;32m~/anaconda3/lib/python3.7/site-packages/billiard/pool.py\u001b[0m in \u001b[0;36mnext\u001b[0;34m(self, timeout)\u001b[0m\n\u001b[1;32m   1962\u001b[0m         \u001b[0;32mif\u001b[0m \u001b[0msuccess\u001b[0m\u001b[0;34m:\u001b[0m\u001b[0;34m\u001b[0m\u001b[0;34m\u001b[0m\u001b[0m\n\u001b[1;32m   1963\u001b[0m             \u001b[0;32mreturn\u001b[0m \u001b[0mvalue\u001b[0m\u001b[0;34m\u001b[0m\u001b[0;34m\u001b[0m\u001b[0m\n\u001b[0;32m-> 1964\u001b[0;31m         \u001b[0;32mraise\u001b[0m \u001b[0mException\u001b[0m\u001b[0;34m(\u001b[0m\u001b[0mvalue\u001b[0m\u001b[0;34m)\u001b[0m\u001b[0;34m\u001b[0m\u001b[0;34m\u001b[0m\u001b[0m\n\u001b[0m\u001b[1;32m   1965\u001b[0m \u001b[0;34m\u001b[0m\u001b[0m\n\u001b[1;32m   1966\u001b[0m     \u001b[0m__next__\u001b[0m \u001b[0;34m=\u001b[0m \u001b[0mnext\u001b[0m                    \u001b[0;31m# XXX\u001b[0m\u001b[0;34m\u001b[0m\u001b[0;34m\u001b[0m\u001b[0m\n",
      "\u001b[0;31mException\u001b[0m: Traceback (most recent call last):\n  File \"/Users/whatevercamps/anaconda3/lib/python3.7/site-packages/billiard/pool.py\", line 1267, in mark_as_worker_lost\n    human_status(exitcode)),\nbilliard.exceptions.WorkerLostError: Worker exited prematurely: signal 11 (SIGSEGV).\n"
     ]
    }
   ],
   "source": [
    "for tweet in query_tweets(\"{0} near:Barranquilla within:100mi -filter:nativeretweets\".format(query)):\n",
    "    lista.append(tweet._json)\n",
    "    #file_tweets.write(tweet.encode('utf-8'))\n",
    "    break\n",
    "#file_tweets.write(\"{0} -- {1}\".format(query, len(lista)))"
   ]
  },
  {
   "cell_type": "code",
   "execution_count": 38,
   "metadata": {},
   "outputs": [],
   "source": [
    "lista2 = []\n",
    "for tweet in lista:\n",
    "    tw = {}\n",
    "    tw['fullname'] = tweet.fullname\n",
    "    tw['user_id'] = tweet.user_id\n",
    "    tw['tweet_id'] = tweet.tweet_id\n",
    "    tw['tweet_url'] = tweet.tweet_url\n",
    "    tw['timestamp'] = tweet.timestamp.strftime(\"%d-%b-%Y\")\n",
    "    tw['timestamp_epochs'] = tweet.timestamp_epochs\n",
    "    tw['replies'] = tweet.replies\n",
    "    tw['retweets'] = tweet.retweets\n",
    "    tw['likes'] = tweet.likes\n",
    "    tw['is_retweet'] = tweet.is_retweet\n",
    "    tw['retweeter_username'] = tweet.retweeter_username\n",
    "    tw['retweeter_userid'] = tweet.retweeter_userid\n",
    "    tw['retweet_id'] = tweet.retweet_id\n",
    "    tw['text'] = tweet.text\n",
    "    tw['html'] = tweet.html\n",
    "    lista2.append(tw)"
   ]
  },
  {
   "cell_type": "code",
   "execution_count": 39,
   "metadata": {},
   "outputs": [
    {
     "data": {
      "text/plain": [
       "[{'fullname': 'Política en Colombia',\n",
       "  'user_id': '133751287',\n",
       "  'tweet_id': '20909700396617728',\n",
       "  'tweet_url': '/elcolbot/status/20909700396617728',\n",
       "  'timestamp': '31-Dec-2010',\n",
       "  'timestamp_epochs': 1293820235,\n",
       "  'replies': 0,\n",
       "  'retweets': 0,\n",
       "  'likes': 0,\n",
       "  'is_retweet': 0,\n",
       "  'retweeter_username': '',\n",
       "  'retweeter_userid': '',\n",
       "  'retweet_id': '',\n",
       "  'text': 'http://bit.ly/g0Jd3m En el país quemarán en Noche Vieja a Chávez, a Jojoy, a Uribe y a ebrios lafm.com.co',\n",
       "  'html': '<p class=\"TweetTextSize js-tweet-text tweet-text\" data-aria-label-part=\"0\" lang=\"es\">http://bit.ly/g0Jd3m En el país quemarán en Noche Vieja a Chávez, a Jojoy, a <strong>Uribe</strong> y a ebrios lafm.com.co</p>'}]"
      ]
     },
     "execution_count": 39,
     "metadata": {},
     "output_type": "execute_result"
    }
   ],
   "source": [
    "[tw for tw in lista2]"
   ]
  },
  {
   "cell_type": "code",
   "execution_count": 42,
   "metadata": {},
   "outputs": [
    {
     "data": {
      "text/plain": [
       "'{\"fullname\": \"Política en Colombia\", \"user_id\": \"133751287\", \"tweet_id\": \"20909700396617728\", \"tweet_url\": \"/elcolbot/status/20909700396617728\", \"timestamp\": \"31-Dec-2010\", \"timestamp_epochs\": 1293820235, \"replies\": 0, \"retweets\": 0, \"likes\": 0, \"is_retweet\": 0, \"retweeter_username\": \"\", \"retweeter_userid\": \"\", \"retweet_id\": \"\", \"text\": \"http://bit.ly/g0Jd3m En el país quemarán en Noche Vieja a Chávez, a Jojoy, a Uribe y a ebrios lafm.com.co\", \"html\": \"<p class=\\\\\"TweetTextSize js-tweet-text tweet-text\\\\\" data-aria-label-part=\\\\\"0\\\\\" lang=\\\\\"es\\\\\">http://bit.ly/g0Jd3m En el país quemarán en Noche Vieja a Chávez, a Jojoy, a <strong>Uribe</strong> y a ebrios lafm.com.co</p>\"}'"
      ]
     },
     "execution_count": 42,
     "metadata": {},
     "output_type": "execute_result"
    }
   ],
   "source": [
    "json.dumps(lista2[0], ensure_ascii=False)"
   ]
  },
  {
   "cell_type": "code",
   "execution_count": null,
   "metadata": {},
   "outputs": [],
   "source": []
  }
 ],
 "metadata": {
  "kernelspec": {
   "display_name": "Python 3",
   "language": "python",
   "name": "python3"
  },
  "language_info": {
   "codemirror_mode": {
    "name": "ipython",
    "version": 3
   },
   "file_extension": ".py",
   "mimetype": "text/x-python",
   "name": "python",
   "nbconvert_exporter": "python",
   "pygments_lexer": "ipython3",
   "version": "3.7.3"
  }
 },
 "nbformat": 4,
 "nbformat_minor": 2
}
