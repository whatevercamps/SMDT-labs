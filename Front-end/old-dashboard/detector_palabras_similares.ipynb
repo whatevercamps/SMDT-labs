{
 "cells": [
  {
   "cell_type": "code",
   "execution_count": 23,
   "metadata": {},
   "outputs": [],
   "source": [
    "import pandas as pd"
   ]
  },
  {
   "cell_type": "code",
   "execution_count": 24,
   "metadata": {},
   "outputs": [],
   "source": [
    "from twitterscraper import query_tweets"
   ]
  },
  {
   "cell_type": "code",
   "execution_count": 3,
   "metadata": {},
   "outputs": [],
   "source": [
    "df = pd.read_csv(\"palabras_similares.csv\")"
   ]
  },
  {
   "cell_type": "code",
   "execution_count": 15,
   "metadata": {},
   "outputs": [],
   "source": [
    "rta = {}\n",
    "for d in df:\n",
    "    lista = []\n",
    "    for palabra in df[d]:\n",
    "        if(type(palabra) == str):\n",
    "            lista.append(palabra)\n",
    "    rta[d] = lista"
   ]
  },
  {
   "cell_type": "code",
   "execution_count": 16,
   "metadata": {},
   "outputs": [
    {
     "data": {
      "text/plain": [
       "{'condon': ['gorrito',\n",
       "  'chupito',\n",
       "  'gorro',\n",
       "  'forro',\n",
       "  'casco',\n",
       "  'forrito',\n",
       "  'goma',\n",
       "  'funda',\n",
       "  'gomita',\n",
       "  'fundita'],\n",
       " 'embarazo': ['bendicion',\n",
       "  'la preñaron',\n",
       "  'preñada',\n",
       "  'le metieron el gol',\n",
       "  'le llenaron la piñata',\n",
       "  'encinta',\n",
       "  'la premiaron '],\n",
       " 'vagina': ['cuca', 'chocha', 'papaya', 'coño', 'concha'],\n",
       " 'menstruacion': ['regla', 'andrés', 'cada mes'],\n",
       " 'boli': ['helao'],\n",
       " 'bolsa': ['bolsita'],\n",
       " 'alergia': ['pica', 'roncha'],\n",
       " 'latex': [],\n",
       " 'rompe': ['roto', 'parte', 'partido', 'rompido', 'no da'],\n",
       " 'pastillas': ['pastas'],\n",
       " 'postday': ['al dia siguiente', 'al acto', 'después', 'un día después'],\n",
       " 'hormonas': [],\n",
       " 'infertilidad': ['estéril', 'sin hijos', 'inútil'],\n",
       " 'aborto': ['abortar', 'aborte', 'abortamos', 'perdi el bebe'],\n",
       " 'efectiva': ['funcionó', 'funciona'],\n",
       " 'sin condon': ['sin goma', 'al natural'],\n",
       " 'venirse adentro': ['se vino adentro'],\n",
       " 'coca cola': [],\n",
       " 'te la tomas': ['tomátela', 'tómala', 'bébela', 'te la bebes'],\n",
       " 'se la echas': ['la pones ahí',\n",
       "  'se la pones',\n",
       "  'la untas',\n",
       "  'te la lavas con eso'],\n",
       " 'ritmo/calendario': ['en esas fechas',\n",
       "  'en el periodo',\n",
       "  'ovulación',\n",
       "  'en mis días',\n",
       "  'en sus días'],\n",
       " 'mestruacion': ['cada mes',\n",
       "  'regla',\n",
       "  'sangrar',\n",
       "  'cada mes',\n",
       "  'andres',\n",
       "  'periodo'],\n",
       " 'prevencion': ['protegerse', 'protegernos', 'protegerme'],\n",
       " 'no se siente igual': ['no es igual de rico', 'no es lo mismo']}"
      ]
     },
     "execution_count": 16,
     "metadata": {},
     "output_type": "execute_result"
    }
   ],
   "source": [
    "rta"
   ]
  },
  {
   "cell_type": "code",
   "execution_count": 17,
   "metadata": {},
   "outputs": [],
   "source": [
    "a = 2"
   ]
  },
  {
   "cell_type": "code",
   "execution_count": 19,
   "metadata": {},
   "outputs": [],
   "source": [
    "file_reports = open(\"pruebafile.txt\",\"w\")"
   ]
  },
  {
   "cell_type": "code",
   "execution_count": null,
   "metadata": {},
   "outputs": [],
   "source": []
  },
  {
   "cell_type": "code",
   "execution_count": 22,
   "metadata": {},
   "outputs": [
    {
     "ename": "AttributeError",
     "evalue": "'dict' object has no attribute 'encode'",
     "output_type": "error",
     "traceback": [
      "\u001b[0;31m---------------------------------------------------------------------------\u001b[0m",
      "\u001b[0;31mAttributeError\u001b[0m                            Traceback (most recent call last)",
      "\u001b[0;32m<ipython-input-22-4c372790cd38>\u001b[0m in \u001b[0;36m<module>\u001b[0;34m\u001b[0m\n\u001b[0;32m----> 1\u001b[0;31m \u001b[0mfile_reports\u001b[0m\u001b[0;34m.\u001b[0m\u001b[0mwrite\u001b[0m\u001b[0;34m(\u001b[0m\u001b[0mrta\u001b[0m\u001b[0;34m.\u001b[0m\u001b[0mencode\u001b[0m\u001b[0;34m(\u001b[0m\u001b[0;34m'utf-8'\u001b[0m\u001b[0;34m)\u001b[0m\u001b[0;34m)\u001b[0m\u001b[0;34m\u001b[0m\u001b[0;34m\u001b[0m\u001b[0m\n\u001b[0m",
      "\u001b[0;31mAttributeError\u001b[0m: 'dict' object has no attribute 'encode'"
     ]
    }
   ],
   "source": [
    "file_reports.write(rta.encode('utf-8'))"
   ]
  },
  {
   "cell_type": "code",
   "execution_count": null,
   "metadata": {},
   "outputs": [],
   "source": []
  }
 ],
 "metadata": {
  "kernelspec": {
   "display_name": "Python 3",
   "language": "python",
   "name": "python3"
  },
  "language_info": {
   "codemirror_mode": {
    "name": "ipython",
    "version": 3
   },
   "file_extension": ".py",
   "mimetype": "text/x-python",
   "name": "python",
   "nbconvert_exporter": "python",
   "pygments_lexer": "ipython3",
   "version": "3.7.3"
  }
 },
 "nbformat": 4,
 "nbformat_minor": 2
}
