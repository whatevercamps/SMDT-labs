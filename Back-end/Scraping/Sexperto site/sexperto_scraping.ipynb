{
 "cells": [
  {
   "cell_type": "markdown",
   "metadata": {},
   "source": [
    "# Sexperto.co scraping\n",
    "## Made by David Bautista"
   ]
  },
  {
   "cell_type": "code",
   "execution_count": 183,
   "metadata": {},
   "outputs": [],
   "source": [
    "from bs4 import BeautifulSoup\n",
    "import re\n",
    "import urllib.parse\n",
    "from urllib.parse import urlparse\n",
    "import numpy as np\n",
    "import sys\n",
    "import time\n",
    "import requests\n",
    "import unicodedata\n",
    "import pandas as pd\n",
    "pd.set_option('max_colwidth', 1000)\n",
    "import unidecode"
   ]
  },
  {
   "cell_type": "code",
   "execution_count": 78,
   "metadata": {},
   "outputs": [],
   "source": [
    "def getAnswers(query):\n",
    "    response = None\n",
    "    ret = []\n",
    "    ht = requests.get('http://54.90.49.105:8899/api/v1/proxies?https=true&limit=5')\n",
    "    url = 'https://sexperto.co/pregunta/{}'.format(query)\n",
    "    if(ht.status_code == 200):\n",
    "        proxies = ht.json()\n",
    "        proxies = [None] + proxies['proxies']\n",
    "        while(len(proxies) > 0):\n",
    "            try:\n",
    "                print(\"quedan {} de 6 proxies\".format(len(proxies)))\n",
    "                proxy_info = proxies.pop()\n",
    "                proxy = {\"https\": 'https://{}:{}'.format(proxy_info['ip'], proxy_info['port'])}\n",
    "                time.sleep(2)\n",
    "                response = requests.get(url)\n",
    "                if(response.status_code == 429):\n",
    "                    raise Exception(\"429 :/\") \n",
    "                else:\n",
    "                    break\n",
    "            except Except as e:\n",
    "                print(\"paila\", e)\n",
    "                continue\n",
    "    if response != None and response.status_code == 200:\n",
    "        print(\"response 200 :D\")\n",
    "        soup = BeautifulSoup(response.text, 'lxml')\n",
    "        targets = soup.find_all([\"span\", \"div\"], [\"masinfo\", \"respuesta-corta\"])\n",
    "        ret = [target.text for target in targets]\n",
    "    return ret"
   ]
  },
  {
   "cell_type": "code",
   "execution_count": 38,
   "metadata": {},
   "outputs": [],
   "source": [
    "soup = BeautifulSoup(response.text, 'lxml')"
   ]
  },
  {
   "cell_type": "code",
   "execution_count": 40,
   "metadata": {},
   "outputs": [],
   "source": [
    "targets = soup.find_all([\"span\", \"div\"], [\"masinfo\", \"respuesta-corta\"])"
   ]
  },
  {
   "cell_type": "code",
   "execution_count": 68,
   "metadata": {},
   "outputs": [],
   "source": [
    "file = open(\"sexperto_preguntas.json\", 'r')\n",
    "questions = json.load(file)"
   ]
  },
  {
   "cell_type": "code",
   "execution_count": null,
   "metadata": {},
   "outputs": [],
   "source": [
    "for index, question in enumerate(questions):\n",
    "    question[\"respuestas\"] = getAnswers(question[\"FriendlyName\"])\n",
    "    print(\"terminada la pregunta\", index)\n",
    "    print(\"*****************************\")"
   ]
  },
  {
   "cell_type": "code",
   "execution_count": 184,
   "metadata": {},
   "outputs": [],
   "source": [
    "df = pd.DataFrame(questions)\n",
    "for i in df:\n",
    "    df[i] = df[i].apply(lambda x: re.sub(r'(<.*?>)?', \"\", unidecode.unidecode(str(x))))\n",
    "df['respuestas'] = df[\"respuestas\"].apply(lambda x: \". \".join(x).replace(u\"\\xa0\", u\"\"))"
   ]
  },
  {
   "cell_type": "code",
   "execution_count": 186,
   "metadata": {},
   "outputs": [],
   "source": [
    "df[[\"Name\", \"respuestas_juntas\"]].to_json(\"sin_tildes_sexperto.json\", orient=\"records\")"
   ]
  },
  {
   "cell_type": "code",
   "execution_count": 171,
   "metadata": {},
   "outputs": [
    {
     "data": {
      "text/plain": [
       "{'QuestionID': 1496,\n",
       " 'FriendlyName': 'es-necesario-tomar-anticoncepcion-de-emergencia-cuando-se-utiliza-el-anillo-anticonceptivo-vaginal-nuvaring-sin-condon',\n",
       " 'Name': \"¿Es necesario tomar <a class='bold'>anticoncepción</a> de <a class='bold'>emergencia</a> cuando se utiliza el anillo <a class='bold'>anticonceptivo</a> <a class='bold'>vagina</a>l (NuvaRing) sin <a class='bold'>condón</a>?\",\n",
       " 'Count': 5050,\n",
       " 'respuestas': 'Solo cuando comienzas a usar el anillo anticonceptivo vaginal en un día diferente a los primeros cinco días de la menstruación, es necesario utilizar un método anticonceptivo adicional. Si este es tu caso y no usaste condón si sería necesario usar anticoncepción de emergencia. Te recomiendo asistir a una asesoría en anticoncepción en tu centro de atención en salud. Recuerda utilizar condón en todas las relaciones sexuales.',\n",
       " 'respuestas_juntas': 'Solo cuando comienzas a usar el anillo anticonceptivo vaginal en un día diferente a los primeros cinco días de la menstruación, es necesario utilizar un método anticonceptivo adicional. Si este es tu caso y no usaste condón si sería necesario usar anticoncepción de emergencia. Te recomiendo asistir a una asesoría en anticoncepción en tu centro de atención en salud. Recuerda utilizar condón en todas las relaciones sexuales.'}"
      ]
     },
     "execution_count": 171,
     "metadata": {},
     "output_type": "execute_result"
    }
   ],
   "source": [
    "questions[0]"
   ]
  },
  {
   "cell_type": "code",
   "execution_count": 45,
   "metadata": {},
   "outputs": [
    {
     "data": {
      "text/plain": [
       "[]"
      ]
     },
     "execution_count": 45,
     "metadata": {},
     "output_type": "execute_result"
    }
   ],
   "source": [
    "re.findall(r\"\\>\\s*(([a-zA-Z]|[áéíóú])(\\.|\\,|\\;)*\\s*)+\\s*\\<\", targets[0])"
   ]
  },
  {
   "cell_type": "code",
   "execution_count": 50,
   "metadata": {},
   "outputs": [
    {
     "data": {
      "text/plain": [
       "'El pegging es un término en inglés que se refiere a la práctica sexual en la que la mujer penetra al hombre utilizando un consolador que se sostiene con un arnés el cual se ajusta en la cintura y la cadera.\\xa0'"
      ]
     },
     "execution_count": 50,
     "metadata": {},
     "output_type": "execute_result"
    }
   ],
   "source": [
    "targets[0].text"
   ]
  },
  {
   "cell_type": "code",
   "execution_count": null,
   "metadata": {},
   "outputs": [],
   "source": []
  },
  {
   "cell_type": "code",
   "execution_count": null,
   "metadata": {},
   "outputs": [],
   "source": [
    "[target.text for target in targets]"
   ]
  },
  {
   "cell_type": "code",
   "execution_count": 152,
   "metadata": {},
   "outputs": [],
   "source": [
    "file_out = open(\"sexperto_preguntas_y_respuestas.json\", 'w')\n",
    "json.dump(questions, file_out)"
   ]
  },
  {
   "cell_type": "code",
   "execution_count": 161,
   "metadata": {},
   "outputs": [],
   "source": [
    "df = pd.DataFrame(questions)"
   ]
  },
  {
   "cell_type": "code",
   "execution_count": 168,
   "metadata": {},
   "outputs": [
    {
     "data": {
      "text/plain": [
       "0    Solo cuando comienzas a usar el anillo anticonceptivo vaginal en un día diferente a los primeros cinco días de la menstruación, es necesario utilizar un método anticonceptivo adicional. Si este es tu caso y no usaste condón si sería necesario usar anticoncepción de emergencia. Te recomiendo asistir a una asesoría en anticoncepción en tu centro de atención en salud. Recuerda utilizar condón en todas las relaciones sexuales.\n",
       "Name: respuestas_juntas, dtype: object"
      ]
     },
     "execution_count": 168,
     "metadata": {},
     "output_type": "execute_result"
    }
   ],
   "source": [
    "df[df[\"QuestionID\"] == 1496][\"respuestas_juntas\"]"
   ]
  },
  {
   "cell_type": "code",
   "execution_count": 172,
   "metadata": {},
   "outputs": [],
   "source": [
    "df.to_json(\"hola.json\", orient='records')"
   ]
  },
  {
   "cell_type": "code",
   "execution_count": 136,
   "metadata": {},
   "outputs": [
    {
     "data": {
      "text/plain": [
       "\"['Solo cuando\\\\xa0 comienzas a usar el anillo anticonceptivo vaginal en un día diferente a los primeros cinco días de la menstruación, es necesario utilizar un método anticonceptivo adicional. Si este es tu caso y no usaste condón si sería necesario usar anticoncepción de emergencia.\\\\xa0 Te recomiendo asistir a una asesoría en anticoncepción en tu centro de atención en salud. Recuerda utilizar condón en todas las relaciones sexuales.']\""
      ]
     },
     "execution_count": 136,
     "metadata": {},
     "output_type": "execute_result"
    }
   ],
   "source": [
    "df[df[\"QuestionID\"]== \"1496\"][\"respuestas\"][0]"
   ]
  },
  {
   "cell_type": "code",
   "execution_count": 175,
   "metadata": {},
   "outputs": [],
   "source": [
    "file_pr = open(\"hola.json\", 'r')\n",
    "js = json.load(file_pr)"
   ]
  },
  {
   "cell_type": "code",
   "execution_count": 176,
   "metadata": {},
   "outputs": [
    {
     "data": {
      "text/plain": [
       "{'QuestionID': 1496,\n",
       " 'FriendlyName': 'es-necesario-tomar-anticoncepcion-de-emergencia-cuando-se-utiliza-el-anillo-anticonceptivo-vaginal-nuvaring-sin-condon',\n",
       " 'Name': \"¿Es necesario tomar <a class='bold'>anticoncepción</a> de <a class='bold'>emergencia</a> cuando se utiliza el anillo <a class='bold'>anticonceptivo</a> <a class='bold'>vagina</a>l (NuvaRing) sin <a class='bold'>condón</a>?\",\n",
       " 'Count': 5050,\n",
       " 'respuestas': ['Solo cuando\\xa0 comienzas a usar el anillo anticonceptivo vaginal en un día diferente a los primeros cinco días de la menstruación, es necesario utilizar un método anticonceptivo adicional. Si este es tu caso y no usaste condón si sería necesario usar anticoncepción de emergencia.\\xa0 Te recomiendo asistir a una asesoría en anticoncepción en tu centro de atención en salud. Recuerda utilizar condón en todas las relaciones sexuales.'],\n",
       " 'respuestas_juntas': 'Solo cuando comienzas a usar el anillo anticonceptivo vaginal en un día diferente a los primeros cinco días de la menstruación, es necesario utilizar un método anticonceptivo adicional. Si este es tu caso y no usaste condón si sería necesario usar anticoncepción de emergencia. Te recomiendo asistir a una asesoría en anticoncepción en tu centro de atención en salud. Recuerda utilizar condón en todas las relaciones sexuales.'}"
      ]
     },
     "execution_count": 176,
     "metadata": {},
     "output_type": "execute_result"
    }
   ],
   "source": [
    "js[0]"
   ]
  },
  {
   "cell_type": "code",
   "execution_count": 187,
   "metadata": {},
   "outputs": [
    {
     "data": {
      "text/html": [
       "<div>\n",
       "<style scoped>\n",
       "    .dataframe tbody tr th:only-of-type {\n",
       "        vertical-align: middle;\n",
       "    }\n",
       "\n",
       "    .dataframe tbody tr th {\n",
       "        vertical-align: top;\n",
       "    }\n",
       "\n",
       "    .dataframe thead th {\n",
       "        text-align: right;\n",
       "    }\n",
       "</style>\n",
       "<table border=\"1\" class=\"dataframe\">\n",
       "  <thead>\n",
       "    <tr style=\"text-align: right;\">\n",
       "      <th></th>\n",
       "      <th>QuestionID</th>\n",
       "      <th>FriendlyName</th>\n",
       "      <th>Name</th>\n",
       "      <th>Count</th>\n",
       "      <th>respuestas</th>\n",
       "      <th>respuestas_juntas</th>\n",
       "    </tr>\n",
       "  </thead>\n",
       "  <tbody>\n",
       "    <tr>\n",
       "      <td>0</td>\n",
       "      <td>1496</td>\n",
       "      <td>es-necesario-tomar-anticoncepcion-de-emergencia-cuando-se-utiliza-el-anillo-anticonceptivo-vaginal-nuvaring-sin-condon</td>\n",
       "      <td>?Es necesario tomar anticoncepcion de emergencia cuando se utiliza el anillo anticonceptivo vaginal (NuvaRing) sin condon?</td>\n",
       "      <td>5050</td>\n",
       "      <td>S. o. l. o.  . c. u. a. n. d. o.  . c. o. m. i. e. n. z. a. s.  . a.  . u. s. a. r.  . e. l.  . a. n. i. l. l. o.  . a. n. t. i. c. o. n. c. e. p. t. i. v. o.  . v. a. g. i. n. a. l.  . e. n.  . u. n.  . d. i. a.  . d. i. f. e. r. e. n. t. e.  . a.  . l. o. s.  . p. r. i. m. e. r. o. s.  . c. i. n. c. o.  . d. i. a. s.  . d. e.  . l. a.  . m. e. n. s. t. r. u. a. c. i. o. n. ,.  . e. s.  . n. e. c. e. s. a. r. i. o.  . u. t. i. l. i. z. a. r.  . u. n.  . m. e. t. o. d. o.  . a. n. t. i. c. o. n. c. e. p. t. i. v. o.  . a. d. i. c. i. o. n. a. l. ..  . S. i.  . e. s. t. e.  . e. s.  . t. u.  . c. a. s. o.  . y.  . n. o.  . u. s. a. s. t. e.  . c. o. n. d. o. n.  . s. i.  . s. e. r. i. a.  . n. e. c. e. s. a. r. i. o.  . u. s. a. r.  . a. n. t. i. c. o. n. c. e. p. c. i. o. n.  . d. e.  . e. m. e. r. g. e. n. c. i. a. ..  . T. e.  . r. e. c. o. m. i. e. n. d. o.  . a. s. i. s. t. i. r.  . a.  . u. n. a.  . a. s. e. s. o. r. i. a.  . e. n.  . a. n. t. i. c. o. n. c. e. p. c. i. o. n. ...</td>\n",
       "      <td>Solo cuando comienzas a usar el anillo anticonceptivo vaginal en un dia diferente a los primeros cinco dias de la menstruacion, es necesario utilizar un metodo anticonceptivo adicional. Si este es tu caso y no usaste condon si seria necesario usar anticoncepcion de emergencia. Te recomiendo asistir a una asesoria en anticoncepcion en tu centro de atencion en salud. Recuerda utilizar condon en todas las relaciones sexuales.</td>\n",
       "    </tr>\n",
       "    <tr>\n",
       "      <td>1</td>\n",
       "      <td>3804</td>\n",
       "      <td>es-posible-que-mi-pareja-quede-embarazada-si-eyacule-fuera-de-la-vagina-antes-de-la-penetracion-y-ademas-tomo-el-anticonceptivo-de-emergencia</td>\n",
       "      <td>?Es posible que mi pareja quede embarazada si eyacule fuera de la vagina antes de la penetracion y ademas tomo el anticonceptivo de emergencia?</td>\n",
       "      <td>5044</td>\n",
       "      <td>A. u. n. q. u. e.  . d. u. r. a. n. t. e.  . l. a.  . p. e. n. e. t. r. a. c. i. o. n.  . v. a. g. i. n. a. l.  . l. u. e. g. o.  . d. e.  . l. a.  . e. y. a. c. u. l. a. c. i. o. n.  . p. u. e. d. e. n.  . q. u. e. d. a. r.  . p. e. q. u. e. n. a. s.  . c. a. n. t. i. d. a. d. e. s.  . d. e.  . s. e. m. e. n. ,.  . s. i.  . u. s. a. r. o. n.  . u. n.  . a. n. t. i. c. o. n. c. e. p. t. i. v. o.  . o.  . p. i. l. d. o. r. a.  . d. e.  . e. m. e. r. g. e. n. c. i. a. ,.  . e. s.  . m. u. y.  . p. o. c. o.  . p. r. o. b. a. b. l. e.  . q. u. e.  . s. e.  . p. r. e. s. e. n. t. e.  . u. n.  . e. m. b. a. r. a. z. o. ,.  . e. s. p. e. c. i. a. l. m. e. n. t. e.  . s. i.  . t. u.  . p. a. r. e. j. a.  . l. o.  . t. o. m. o.  . e. n.  . l. a. s.  . s. i. g. u. i. e. n. t. e. s.  . 7. 2.  . a.  . 1. 2. 0.  . h. o. r. a. s.  . l. u. e. g. o.  . d. e.  . l. a.  . r. e. l. a. c. i. o. n.  . s. e. x. u. a. l. ..  . E. s. t. e.  . m. e. t. o. d. o.  . e. s.  . a. l. t. a. m. e. n. t. e.  . e. ...</td>\n",
       "      <td>Aunque durante la penetracion vaginal luego de la eyaculacion pueden quedar pequenas cantidades de semen, si usaron un anticonceptivo o pildora de emergencia, es muy poco probable que se presente un embarazo, especialmente si tu pareja lo tomo en las siguientes 72 a 120 horas luego de la relacion sexual. Este metodo es altamente efectivo para la prevencion de un embarazo no planeado, pero esta efectividad depende de que se tome en el tiempo indicado, ademas no debe ser usado como metodo de planificacion regular. En todo caso, te recomiendo usar condon siempre en tus relaciones sexuales, no solo para prevenir embarazos sino tambien para prevenir infecciones de transmision sexual.. Para mayor informacion te invitamos a consultar los siguientes contenidos de Sexperto:?Cuales son los riesgos de tomar la \"pastilla del dia despues\" en mas de una ocasion?</td>\n",
       "    </tr>\n",
       "    <tr>\n",
       "      <td>2</td>\n",
       "      <td>510</td>\n",
       "      <td>la-anticoncepcion-de-emergencia-solo-me-la-pueden-vender-con-formula-medica</td>\n",
       "      <td>?La anticoncepcion de emergencia solo me la pueden vender con formula medica?</td>\n",
       "      <td>4037</td>\n",
       "      <td>\\n. N. o. ,.  . l. a.  . a. n. t. i. c. o. n. c. e. p. c. i. o. n.  . d. e.  . e. m. e. r. g. e. n. c. i. a.  . d. e. b. e.  . s. e. r.  . g. a. r. a. n. t. i. z. a. d. a.  . p. o. r.  . t. u.  . e. n. t. i. d. a. d.  . d. e.  . s. a. l. u. d.  . c. u. a. n. d. o.  . l. a.  . r. e. q. u. i. e. r. e. s. ,.  . s. i. n.  . e. m. b. a. r. g. o. ,.  . s. i.  . d. e. c. i. d. e. s.  . c. o. m. p. r. a. r. l. a.  . e. n.  . u. n. a.  . f. a. r. m. a. c. i. a.  . n. o.  . e. s.  . n. e. c. e. s. a. r. i. o.  . q. u. e.  . t. e. n. g. a. s.  . u. n. a.  . f. o. r. m. u. l. a.  . m. e. d. i. c. a. ..  . T. e. n.  . e. n.  . c. u. e. n. t. a.  . q. u. e.  . c. o. m. o.  . s. u.  . n. o. m. b. r. e.  . l. o.  . i. n. d. i. c. a.  . e. s.  . u. n. i. c. a. m. e. n. t. e.  . p. a. r. a.  . \". u. n. a.  . e. m. e. r. g. e. n. c. i. a. \".  . y.  . n. o.  . c. o. m. o.  . u. n.  . m. e. t. o. d. o.  . d. e.  . a. n. t. i. c. o. n. c. e. p. c. i. o. n.  . c. a. d. a.  . v. e. z.  . q. u. e.  . s. e....</td>\n",
       "      <td>\\nNo, la anticoncepcion de emergencia debe ser garantizada por tu entidad de salud cuando la requieres, sin embargo, si decides comprarla en una farmacia no es necesario que tengas una formula medica. Ten en cuenta que como su nombre lo indica es unicamente para \"una emergencia\" y no como un metodo de anticoncepcion cada vez que se tienen relaciones sexuales no protegidas.. \\n\\r\\np.p1 {margin: 0.0px 0.0px 0.0px 0.0px; font: 11.0px Calibri; -webkit-text-stroke: #000000}\\r\\nspan.s1 {font-kerning: none}\\r\\nspan.s2 {font-kerning: none; color: #0170c0; -webkit-text-stroke: 0px #0170c0}\\r\\nspan.s3 {font-kerning: none; color: #ff2500; -webkit-text-stroke: 0px #ff2500}\\r\\n\\nLa anticoncepcion de emergencia es un metodo anticonceptivo que debe ser usado dentro de las primeras 72 horas posteriores a la relacion sexual no protegida. No es un metodo abortivo porque actua impidiendo la fecundacion del ovulo por el espermatozoide. Este anticonceptivo no debe usarse regularmente porque pierde su e...</td>\n",
       "    </tr>\n",
       "    <tr>\n",
       "      <td>3</td>\n",
       "      <td>302</td>\n",
       "      <td>puedo-quedar-embarazada-al-no-tomar-los-anticonceptivos-orales-durante-mi-periodo-menstrual</td>\n",
       "      <td>?Puedo quedar embarazada al no tomar los anticonceptivos orales durante mi periodo menstrual?</td>\n",
       "      <td>3033</td>\n",
       "      <td>\\n. S. i.  . t. o. m. a. s.  . l. a.  . p. i. l. d. o. r. a.  . a. n. t. i. c. o. n. c. e. p. t. i. v. a.  . d. e.  . m. a. n. e. r. a.  . r. e. g. u. l. a. r.  . y.  . s. e. g. u. n.  . l. a. s.  . i. n. d. i. c. a. c. i. o. n. e. s. ,.  . e. s.  . m. u. y.  . e. f. e. c. t. i. v. a. ..  . L. a.  . e. f. e. c. t. i. v. i. d. a. d.  . d. i. s. m. i. n. u. y. e.  . c. u. a. n. d. o.  . n. o.  . l. a.  . t. o. m. a. s.  . t. o. d. o. s.  . l. o. s.  . d. i. a. s.  . o.  . l. a.  . t. o. m. a. s.  . a.  . d. i. f. e. r. e. n. t. e. s.  . h. o. r. a. s.  . c. a. d. a.  . d. i. a. ..  . E. n.  . e. l.  . m. o. m. e. n. t. o.  . q. u. e.  . e. x. i. s. t. a.  . l. a.  . d. u. d. a. d.  . d. e.  . e. s. t. a. r.  . e. n.  . e. m. b. a. r. a. z. o. ,.  . d. e. b. e. s.  . r. e. a. l. i. z. a. r. t. e.  . u. n. a.  . p. r. u. e. b. a.  . d. e.  . e. m. b. a. r. a. z. o.  . p. a. r. a.  . c. o. n. o. c. e. r.  . t. u.  . e. s. t. a. d. o. ..  . T. e.  . a. c. o. n. s. e. j. o.  . a. s. i. s....</td>\n",
       "      <td>\\nSi tomas la pildora anticonceptiva de manera regular y segun las indicaciones, es muy efectiva. La efectividad disminuye cuando no la tomas todos los dias o la tomas a diferentes horas cada dia. En el momento que exista la dudad de estar en embarazo, debes realizarte una prueba de embarazo para conocer tu estado. Te aconsejo asistir a una cita de anticoncepcion si continuas con dudas relacionadas con el metodo anticonceptivo, la cita es gratuita y puedes asistir sin adultos, si eres mayor de 14 anos. Recuerda utilizar un metodo de barrera como lo es el preservativo para prevenir contagio de infecciones de transmision sexual.</td>\n",
       "    </tr>\n",
       "    <tr>\n",
       "      <td>4</td>\n",
       "      <td>1458</td>\n",
       "      <td>se-puede-utilizar-el-implante-subdermico-como-anticonceptivo-de-emergencia</td>\n",
       "      <td>?Se puede utilizar el implante subdermico como anticonceptivo de emergencia?</td>\n",
       "      <td>3032</td>\n",
       "      <td>N. o. ..  . L. o. s.  . d. o. s.  . m. e. t. o. d. o. s.  . q. u. e.  . p. u. e. d. e. n.  . s. e. r.  . u. t. i. l. i. z. a. d. o. s.  . c. o. m. o.  . a. n. t. i. c. o. n. c. e. p. t. i. v. o. s.  . d. e.  . e. m. e. r. g. e. n. c. i. a. ,.  . e. n.  . C. o. l. o. m. b. i. a.  . s. o. n. :.  . l. a.  . p. i. l. d. o. r. a.  . d. e. l.  . d. i. a.  . d. e. s. p. u. e. s.  . y.  . e. l.  . d. i. s. p. o. s. i. t. i. v. o.  . i. n. t. r. a.  . u. t. e. r. i. n. o. ..  . T. e.  . r. e. c. o. m. i. e. n. d. o.  . q. u. e.  . a. s. i. s. t. a. s.  . a.  . u. n. a.  . a. s. e. s. o. r. i. a.  . a. n. t. i. c. o. n. c. e. p. c. i. o. n.  . e. n.  . t. u.  . c. e. n. t. r. o.  . d. e.  . a. t. e. n. c. i. o. n.  . e. n.  . s. a. l. u. d.  . y.  . a. d. i. c. i. o. n. a. l. m. e. n. t. e. ,.  . u. t. i. l. i. c. e. s.  . c. o. n. d. o. n.  . p. a. r. a.  . p. r. o. t. e. g. e. r. t. e.  . d. e.  . l. a. s.  . i. n. f. e. c. c. i. o. n. e. s.  . d. e.  . t. r. a. n. s. m. i. s. i. o. n.  . ...</td>\n",
       "      <td>No. Los dos metodos que pueden ser utilizados como anticonceptivos de emergencia, en Colombia son: la pildora del dia despues y el dispositivo intra uterino. Te recomiendo que asistas a una asesoria anticoncepcion en tu centro de atencion en salud y adicionalmente, utilices condon para protegerte de las infecciones de transmision sexual.. Dentro de los metodos anticonceptivos hormonales ( inyectables, pildoras, implante), existen diferentes dosis y hormonas. Dado que la inyeccion y el implante, estan disenados para tener un efecto en un tiempo determinado, no son efectivos como metodos efectivos en este caso. La pildora de emergencia, por su parte, tiene una dosis alta de hormonas que puede impedir la ovulacion o evitar que los espermatozoides se unan al ovulo, pero no se debe utilizar de forma rutinaria. Te recomiendo que asistas a una asesoria en anticoncepcion en tu centro de atencion en salud y adicionalmente, utilices condon para protegerte de las infecciones de transmision se...</td>\n",
       "    </tr>\n",
       "    <tr>\n",
       "      <td>...</td>\n",
       "      <td>...</td>\n",
       "      <td>...</td>\n",
       "      <td>...</td>\n",
       "      <td>...</td>\n",
       "      <td>...</td>\n",
       "      <td>...</td>\n",
       "    </tr>\n",
       "    <tr>\n",
       "      <td>1132</td>\n",
       "      <td>3597</td>\n",
       "      <td>tengo-el-diu-hace-una-semana-no-siento-los-hilos-y-tengo-un-flujo-blanco-con-sangre-esto-es-normal</td>\n",
       "      <td>Tengo el DIU hace una semana, no siento los hilos y tengo un flujo blanco con sangre. ?Esto es normal?</td>\n",
       "      <td>0</td>\n",
       "      <td>E. n.  . a. l. g. u. n. o. s.  . c. a. s. o. s.  . s. e.  . p. u. e. d. e.  . p. r. e. s. e. n. t. a. r.  . s. a. n. g. r. a. d. o.  . y.  . d. o. l. o. r.  . d. u. r. a. n. t. e.  . u. n.  . p. a. r.  . d. e.  . s. e. m. a. n. a. s.  . d. e. s. p. u. e. s.  . d. e.  . q. u. e.  . e. l.  . D. I. U.  . e. s.  . i. n. s. e. r. t. a. d. o. ,.  . p. e. r. o.  . s. i.  . a.  . p. e. s. a. r.  . d. e.  . i. n. t. r. o. d. u. c. i. r.  . l. o. s.  . d. e. d. o. s.  . e. n.  . t. u.  . v. a. g. i. n. a.  . n. o.  . s. i. e. n. t. e. s.  . l. o. s.  . h. i. l. o. s. ,.  .  . t. e.  . r. e. c. o. m. i. e. n. d. o.  . a. s. i. s. t. i. r.  . a. l.  . s. e. r. v. i. c. i. o.  . m. e. d. i. c. o.  . p. a. r. a.  . v. e. r. i. f. i. c. a. r.  . s. i.  . e. l.  . d. i. s. p. o. s. i. t. i. v. o.  . f. u. e.  . e. x. p. u. l. s. a. d. o.  . o.  . s. e.  . d. e. s. p. l. a. z. o.  . d. e.  . s. u.  . l. u. g. a. r. ..  . S. i.  . e. s. t. e.  . e. s.  . e. l.  . c. a. s. o.  . e. l.  . m. e. t. o. ...</td>\n",
       "      <td>En algunos casos se puede presentar sangrado y dolor durante un par de semanas despues de que el DIU es insertado, pero si a pesar de introducir los dedos en tu vagina no sientes los hilos,  te recomiendo asistir al servicio medico para verificar si el dispositivo fue expulsado o se desplazo de su lugar. Si este es el caso el metodo no sera efectivo para prevenir un embarazo. Recuerda utilizar el condon en todas tus relaciones sexuales para prevenir las infecciones de transmision sexual.</td>\n",
       "    </tr>\n",
       "    <tr>\n",
       "      <td>1133</td>\n",
       "      <td>62</td>\n",
       "      <td>tengo-la-sospecha-de-estar-en-embarazo-porque-tengo-todos-los-sintomas-pero-tuve-un-pequeno-sangrado-que-debo-hacer</td>\n",
       "      <td>Tengo la sospecha de estar en embarazo porque tengo todos los sintomas, pero tuve un pequeno sangrado. ?Que debo hacer?</td>\n",
       "      <td>0</td>\n",
       "      <td>\\n. R. e. a. l. i. z. a.  . u. n. a.  . p. r. u. e. b. a.  . d. e.  . e. m. b. a. r. a. z. o.  . p. a. r. a.  . c. o. n. f. i. r. m. a. r.  . t. u.  . e. s. t. a. d. o. ..  . D. e. b. e. s.  . s. a. b. e. r.  . q. u. e.  . n. o.  . t. o. d. o.  . s. a. n. g. r. a. d. o.  . e. s.  . l. a.  . m. e. n. s. t. r. u. a. c. i. o. n.  . y.  . q. u. e.  . e. l.  . e. m. p. l. e. o.  . d. e.  . m. e. t. o. d. o. s.  . a. n. t. i. c. o. n. c. e. p. t. i. v. o. s.  . d. i. s. m. i. n. u. y. e.  . d. e.  . m. a. n. e. r. a.  . i. m. p. o. r. t. a. n. t. e.  . e. l.  . r. i. e. s. g. o.  . d. e.  . q. u. e. d. a. r.  . e. n.  . e. m. b. a. r. a. z. o. ..  . D. e. b. e. s.  . c. o. n. s. u. l. t. a. r.  . a.  . t. u.  . s. e. r. v. i. c. i. o.  . d. e.  . s. a. l. u. d. ,.  . e. s.  . g. r. a. t. i. s.  . y.  . p. u. e. d. e. n.  . a. c. c. e. d. e. r.  . s. i. n.  . c. o. m. p. a. n. i. a.  . d. e.  . a. d. u. l. t. o. s.  . s. i.  . e. r. e. s.  . m. a. y. o. r.  . d. e.  . 1. 4.  . a. n. o. s....</td>\n",
       "      <td>\\nRealiza una prueba de embarazo para confirmar tu estado. Debes saber que no todo sangrado es la menstruacion y que el empleo de metodos anticonceptivos disminuye de manera importante el riesgo de quedar en embarazo. Debes consultar a tu servicio de salud, es gratis y pueden acceder sin compania de adultos si eres mayor de 14 anos. Recuerda que el uso de preservativo disminuye la posibilidad de contagio de enfermedades de transmision sexual.</td>\n",
       "    </tr>\n",
       "    <tr>\n",
       "      <td>1134</td>\n",
       "      <td>2247</td>\n",
       "      <td>todos-mis-amigos-tienen-sexo-deberia-iniciar-mi-vida-sexual</td>\n",
       "      <td>Todos mis amigos tienen sexo, ?deberia iniciar mi vida sexual?</td>\n",
       "      <td>0</td>\n",
       "      <td>S. i.  . l. a.  . r. a. z. o. n.  . p. a. r. a.  . q. u. e.  . e. m. p. i. e. c. e. s.  . a.  . t. e. n. e. r.  . r. e. l. a. c. i. o. n. e. s.  . s. e. x. u. a. l. e. s.  . e. s.  . q. u. e.  . t. o. d. o. s.  . t. u. s.  . a. m. i. g. o. s.  . l. o.  . h. a. c. e. n. ,.  . n. o.  . d. e. b. e. r. i. a. s.  . i. n. i. c. i. a. r.  . t. u.  . v. i. d. a.  . s. e. x. u. a. l. ..  . A. u. n. q. u. e.  . p. a. r. e. z. c. a.  . q. u. e.  . t. o. d. o. s.  . t. u. s.  . a. m. i. g. o. s.  . y. a.  . h. a. n.  . t. e. n. i. d. o.  . r. e. l. a. c. i. o. n. e. s.  . s. e. x. u. a. l. e. s. ,.  . e. s.  . m. u. y.  . p. r. o. b. a. b. l. e.  . q. u. e.  . n. o.  . s. e. a.  . c. i. e. r. t. o.  . y.  . q. u. e.  . s. i.  . l. o.  . h. a. n.  . h. e. c. h. o.  . n. o.  . l. o.  . h. a. c. e. n.  . t. a. n.  . f. r. e. c. u. e. n. t. e. m. e. n. t. e.  . c. o. m. o.  . p. i. e. n. s. a. s. .. ..  . S. o. l. o.  . d. e. b. e. r. i. a. s.  . t. e. n. e. r.  . r. e. l. a. c. i. o. n. e. s.  . ...</td>\n",
       "      <td>Si la razon para que empieces a tener relaciones sexuales es que todos tus amigos lo hacen, no deberias iniciar tu vida sexual. Aunque parezca que todos tus amigos ya han tenido relaciones sexuales, es muy probable que no sea cierto y que si lo han hecho no lo hacen tan frecuentemente como piensas.. Solo deberias tener relaciones sexuales cuando te sientas preparado para hacerlo, si lo haces por otras razones como presion de tus amigos o pareja puedes arrepentirte despues y sentirte mal. El sexo nunca deberia ser una fuente de sentimientos negativos, piensa si tener relaciones es algo que tu realmente quieres hacer o es algo que te sientes presionado a hacer.</td>\n",
       "    </tr>\n",
       "    <tr>\n",
       "      <td>1135</td>\n",
       "      <td>254</td>\n",
       "      <td>tuve-relaciones-sexuales-con-preservativo-y-mi-menstruacion-fue-escasa-que-debo-hacer</td>\n",
       "      <td>Tuve relaciones sexuales con preservativo y mi menstruacion fue escasa ?Que debo hacer?</td>\n",
       "      <td>0</td>\n",
       "      <td>\\n. L. a.  . p. r. e. s. e. n. c. i. a.  . d. e.  . m. a. n. c. h. a. d. o. s.  . o. c. a. s. i. o. n. a. l. e. s.  . c. o. n.  . a. u. s. e. n. c. i. a.  . d. e.  . m. e. n. s. t. r. u. a. c. i. o. n.  . d. u. r. a. n. t. e.  . e. l.  . c. i. c. l. o.  . m. e. n. s. t. r. u. a. l.  . p. u. e. d. e.  . s. u. c. e. d. e. r.  . p. o. r.  . d. i. f. e. r. e. n. t. e. s.  . c. i. r. c. u. n. s. t. a. n. c. i. a. s. ,.  . e. n. t. r. e.  . l. a. s.  . c. u. a. l. e. s.  . e. x. i. s. t. e. n.  . c. a. m. b. i. o. s.  . h. o. r. m. o. n. a. l. e. s. ,.  . e. l.  . e. s. t. r. e. s.  . y.  . e. l.  . e. m. b. a. r. a. z. o. ..  . T. e.  . r. e. c. o. m. i. e. n. d. o.  . r. e. a. l. i. z. a. r. t. e.  . u. n. a.  . p. r. u. e. b. a.  . d. e.  . e. m. b. a. r. a. z. o.  . e. n.  . o. r. i. n. a.  . y.  . a. s. i. s. t. i. r.  . a.  . t. u.  . e. n. t. i. d. a. d.  . d. e.  . s. a. l. u. d.  . p. a. r. a.  . q. u. e.  . u. n.  . p. r. o. f. e. s. i. o. n. a. l.  . t. e.  . v. a. l. o. r. e....</td>\n",
       "      <td>\\nLa presencia de manchados ocasionales con ausencia de menstruacion durante el ciclo menstrual puede suceder por diferentes circunstancias, entre las cuales existen cambios hormonales, el estres y el embarazo. Te recomiendo realizarte una prueba de embarazo en orina y asistir a tu entidad de salud para que un profesional te valore y de acuerdo a tu historia y examen fisico decida la conducta a seguir. Para evitar embarazos no deseados, te aconsejo que usen un metodo anticonceptivo de larga duracion. Recuerda que el unico metodo que protege contra infecciones de transmision sexual es el condon, por esto debe usarse en todas las relaciones sexuales.</td>\n",
       "    </tr>\n",
       "    <tr>\n",
       "      <td>1136</td>\n",
       "      <td>3784</td>\n",
       "      <td>una-persona-con-discapacidad-puede-tener-hijos-o-hijas</td>\n",
       "      <td>Una persona con discapacidad, ?puede tener hijos o hijas?</td>\n",
       "      <td>0</td>\n",
       "      <td>S. i. ,.  . l. a. s.  . p. e. r. s. o. n. a. s.  . c. o. n.  . d. i. s. c. a. p. a. c. i. d. a. d.  . p. u. e. d. e. n.  . t. e. n. e. r.  . h. i. j. o. s.  . o.  . h. i. j. a. s. ..  .  . E. s. t. a.  . p. o. s. i. b. i. l. i. d. a. d.  . d. e. p. e. n. d. e.  . d. e.  . d. i. s. t. i. n. t. o. s.  . f. a. c. t. o. r. e. s. ,.  . e. n.  . p. r. i. m. e. r.  . l. u. g. a. r.  . d. e. l.  . t. i. p. o.  . d. e.  . d. i. s. c. a. p. a. c. i. d. a. d.  . (. f. i. s. i. c. a. ,.  . i. n. t. e. l. e. c. t. u. a. l. ,.  . m. e. n. t. a. l. ,. a. u. d. i. t. i. v. a. ,.  . v. i. s. u. a. l. ,.  . s. o. r. d. o. c. e. g. u. e. r. a.  . o.  . m. u. l. t. i. p. l. e. ). ,.  .  . y.  . d. e. l.  . g. r. a. d. o.  . y.  . e. x. t. e. n. s. i. o. n. ,.  . p. a. r. a.  . l. o.  . c. u. a. l.  . s. e.  . d. e. b. e. n.  . t. e. n. e. r.  . e. n.  . c. u. e. n. t. a.  . l. o. s.  . a. j. u. s. t. e. s.  . r. a. z. o. n. a. b. l. e. s.  . q. u. e.  . l. e.  . p. e. r. m. i. t. a. n.  . a.  . l. a. ...</td>\n",
       "      <td>Si, las personas con discapacidad pueden tener hijos o hijas.  Esta posibilidad depende de distintos factores, en primer lugar del tipo de discapacidad (fisica, intelectual, mental,auditiva, visual, sordoceguera o multiple),  y del grado y extension, para lo cual se deben tener en cuenta los ajustes razonables que le permitan a la persona ejercer este derecho segun su limitacion, intereses y posibilidades, dado que es diferente la capacidad segun la deficiencia y autonomia. Ademas, se requiere que la persona con discapacidad cuente con educacion sexual adecuada y una red de apoyo familiar y social que le acompanen en el proceso de maternidad y paternidad, considerando los apoyos necesarios para facilitarle cumplir este rol.</td>\n",
       "    </tr>\n",
       "  </tbody>\n",
       "</table>\n",
       "<p>1137 rows × 6 columns</p>\n",
       "</div>"
      ],
      "text/plain": [
       "     QuestionID  \\\n",
       "0          1496   \n",
       "1          3804   \n",
       "2           510   \n",
       "3           302   \n",
       "4          1458   \n",
       "...         ...   \n",
       "1132       3597   \n",
       "1133         62   \n",
       "1134       2247   \n",
       "1135        254   \n",
       "1136       3784   \n",
       "\n",
       "                                                                                                                                       FriendlyName  \\\n",
       "0                            es-necesario-tomar-anticoncepcion-de-emergencia-cuando-se-utiliza-el-anillo-anticonceptivo-vaginal-nuvaring-sin-condon   \n",
       "1     es-posible-que-mi-pareja-quede-embarazada-si-eyacule-fuera-de-la-vagina-antes-de-la-penetracion-y-ademas-tomo-el-anticonceptivo-de-emergencia   \n",
       "2                                                                       la-anticoncepcion-de-emergencia-solo-me-la-pueden-vender-con-formula-medica   \n",
       "3                                                       puedo-quedar-embarazada-al-no-tomar-los-anticonceptivos-orales-durante-mi-periodo-menstrual   \n",
       "4                                                                        se-puede-utilizar-el-implante-subdermico-como-anticonceptivo-de-emergencia   \n",
       "...                                                                                                                                             ...   \n",
       "1132                                             tengo-el-diu-hace-una-semana-no-siento-los-hilos-y-tengo-un-flujo-blanco-con-sangre-esto-es-normal   \n",
       "1133                            tengo-la-sospecha-de-estar-en-embarazo-porque-tengo-todos-los-sintomas-pero-tuve-un-pequeno-sangrado-que-debo-hacer   \n",
       "1134                                                                                    todos-mis-amigos-tienen-sexo-deberia-iniciar-mi-vida-sexual   \n",
       "1135                                                          tuve-relaciones-sexuales-con-preservativo-y-mi-menstruacion-fue-escasa-que-debo-hacer   \n",
       "1136                                                                                         una-persona-con-discapacidad-puede-tener-hijos-o-hijas   \n",
       "\n",
       "                                                                                                                                                 Name  \\\n",
       "0                          ?Es necesario tomar anticoncepcion de emergencia cuando se utiliza el anillo anticonceptivo vaginal (NuvaRing) sin condon?   \n",
       "1     ?Es posible que mi pareja quede embarazada si eyacule fuera de la vagina antes de la penetracion y ademas tomo el anticonceptivo de emergencia?   \n",
       "2                                                                       ?La anticoncepcion de emergencia solo me la pueden vender con formula medica?   \n",
       "3                                                       ?Puedo quedar embarazada al no tomar los anticonceptivos orales durante mi periodo menstrual?   \n",
       "4                                                                       ?Se puede utilizar el implante subdermico como anticonceptivo de emergencia?    \n",
       "...                                                                                                                                               ...   \n",
       "1132                                         Tengo el DIU hace una semana, no siento los hilos y tengo un flujo blanco con sangre. ?Esto es normal?     \n",
       "1133                         Tengo la sospecha de estar en embarazo porque tengo todos los sintomas, pero tuve un pequeno sangrado. ?Que debo hacer?    \n",
       "1134                                                                                   Todos mis amigos tienen sexo, ?deberia iniciar mi vida sexual?   \n",
       "1135                                                          Tuve relaciones sexuales con preservativo y mi menstruacion fue escasa ?Que debo hacer?   \n",
       "1136                                                                                        Una persona con discapacidad, ?puede tener hijos o hijas?   \n",
       "\n",
       "     Count  \\\n",
       "0     5050   \n",
       "1     5044   \n",
       "2     4037   \n",
       "3     3033   \n",
       "4     3032   \n",
       "...    ...   \n",
       "1132     0   \n",
       "1133     0   \n",
       "1134     0   \n",
       "1135     0   \n",
       "1136     0   \n",
       "\n",
       "                                                                                                                                                                                                                                                                                                                                                                                                                                                                                                                                                                                                                                                                                                                                                                                                                                                                                                                                                                                                                                   respuestas  \\\n",
       "0     S. o. l. o.  . c. u. a. n. d. o.  . c. o. m. i. e. n. z. a. s.  . a.  . u. s. a. r.  . e. l.  . a. n. i. l. l. o.  . a. n. t. i. c. o. n. c. e. p. t. i. v. o.  . v. a. g. i. n. a. l.  . e. n.  . u. n.  . d. i. a.  . d. i. f. e. r. e. n. t. e.  . a.  . l. o. s.  . p. r. i. m. e. r. o. s.  . c. i. n. c. o.  . d. i. a. s.  . d. e.  . l. a.  . m. e. n. s. t. r. u. a. c. i. o. n. ,.  . e. s.  . n. e. c. e. s. a. r. i. o.  . u. t. i. l. i. z. a. r.  . u. n.  . m. e. t. o. d. o.  . a. n. t. i. c. o. n. c. e. p. t. i. v. o.  . a. d. i. c. i. o. n. a. l. ..  . S. i.  . e. s. t. e.  . e. s.  . t. u.  . c. a. s. o.  . y.  . n. o.  . u. s. a. s. t. e.  . c. o. n. d. o. n.  . s. i.  . s. e. r. i. a.  . n. e. c. e. s. a. r. i. o.  . u. s. a. r.  . a. n. t. i. c. o. n. c. e. p. c. i. o. n.  . d. e.  . e. m. e. r. g. e. n. c. i. a. ..  . T. e.  . r. e. c. o. m. i. e. n. d. o.  . a. s. i. s. t. i. r.  . a.  . u. n. a.  . a. s. e. s. o. r. i. a.  . e. n.  . a. n. t. i. c. o. n. c. e. p. c. i. o. n. ...   \n",
       "1     A. u. n. q. u. e.  . d. u. r. a. n. t. e.  . l. a.  . p. e. n. e. t. r. a. c. i. o. n.  . v. a. g. i. n. a. l.  . l. u. e. g. o.  . d. e.  . l. a.  . e. y. a. c. u. l. a. c. i. o. n.  . p. u. e. d. e. n.  . q. u. e. d. a. r.  . p. e. q. u. e. n. a. s.  . c. a. n. t. i. d. a. d. e. s.  . d. e.  . s. e. m. e. n. ,.  . s. i.  . u. s. a. r. o. n.  . u. n.  . a. n. t. i. c. o. n. c. e. p. t. i. v. o.  . o.  . p. i. l. d. o. r. a.  . d. e.  . e. m. e. r. g. e. n. c. i. a. ,.  . e. s.  . m. u. y.  . p. o. c. o.  . p. r. o. b. a. b. l. e.  . q. u. e.  . s. e.  . p. r. e. s. e. n. t. e.  . u. n.  . e. m. b. a. r. a. z. o. ,.  . e. s. p. e. c. i. a. l. m. e. n. t. e.  . s. i.  . t. u.  . p. a. r. e. j. a.  . l. o.  . t. o. m. o.  . e. n.  . l. a. s.  . s. i. g. u. i. e. n. t. e. s.  . 7. 2.  . a.  . 1. 2. 0.  . h. o. r. a. s.  . l. u. e. g. o.  . d. e.  . l. a.  . r. e. l. a. c. i. o. n.  . s. e. x. u. a. l. ..  . E. s. t. e.  . m. e. t. o. d. o.  . e. s.  . a. l. t. a. m. e. n. t. e.  . e. ...   \n",
       "2     \\n. N. o. ,.  . l. a.  . a. n. t. i. c. o. n. c. e. p. c. i. o. n.  . d. e.  . e. m. e. r. g. e. n. c. i. a.  . d. e. b. e.  . s. e. r.  . g. a. r. a. n. t. i. z. a. d. a.  . p. o. r.  . t. u.  . e. n. t. i. d. a. d.  . d. e.  . s. a. l. u. d.  . c. u. a. n. d. o.  . l. a.  . r. e. q. u. i. e. r. e. s. ,.  . s. i. n.  . e. m. b. a. r. g. o. ,.  . s. i.  . d. e. c. i. d. e. s.  . c. o. m. p. r. a. r. l. a.  . e. n.  . u. n. a.  . f. a. r. m. a. c. i. a.  . n. o.  . e. s.  . n. e. c. e. s. a. r. i. o.  . q. u. e.  . t. e. n. g. a. s.  . u. n. a.  . f. o. r. m. u. l. a.  . m. e. d. i. c. a. ..  . T. e. n.  . e. n.  . c. u. e. n. t. a.  . q. u. e.  . c. o. m. o.  . s. u.  . n. o. m. b. r. e.  . l. o.  . i. n. d. i. c. a.  . e. s.  . u. n. i. c. a. m. e. n. t. e.  . p. a. r. a.  . \". u. n. a.  . e. m. e. r. g. e. n. c. i. a. \".  . y.  . n. o.  . c. o. m. o.  . u. n.  . m. e. t. o. d. o.  . d. e.  . a. n. t. i. c. o. n. c. e. p. c. i. o. n.  . c. a. d. a.  . v. e. z.  . q. u. e.  . s. e....   \n",
       "3     \\n. S. i.  . t. o. m. a. s.  . l. a.  . p. i. l. d. o. r. a.  . a. n. t. i. c. o. n. c. e. p. t. i. v. a.  . d. e.  . m. a. n. e. r. a.  . r. e. g. u. l. a. r.  . y.  . s. e. g. u. n.  . l. a. s.  . i. n. d. i. c. a. c. i. o. n. e. s. ,.  . e. s.  . m. u. y.  . e. f. e. c. t. i. v. a. ..  . L. a.  . e. f. e. c. t. i. v. i. d. a. d.  . d. i. s. m. i. n. u. y. e.  . c. u. a. n. d. o.  . n. o.  . l. a.  . t. o. m. a. s.  . t. o. d. o. s.  . l. o. s.  . d. i. a. s.  . o.  . l. a.  . t. o. m. a. s.  . a.  . d. i. f. e. r. e. n. t. e. s.  . h. o. r. a. s.  . c. a. d. a.  . d. i. a. ..  . E. n.  . e. l.  . m. o. m. e. n. t. o.  . q. u. e.  . e. x. i. s. t. a.  . l. a.  . d. u. d. a. d.  . d. e.  . e. s. t. a. r.  . e. n.  . e. m. b. a. r. a. z. o. ,.  . d. e. b. e. s.  . r. e. a. l. i. z. a. r. t. e.  . u. n. a.  . p. r. u. e. b. a.  . d. e.  . e. m. b. a. r. a. z. o.  . p. a. r. a.  . c. o. n. o. c. e. r.  . t. u.  . e. s. t. a. d. o. ..  . T. e.  . a. c. o. n. s. e. j. o.  . a. s. i. s....   \n",
       "4     N. o. ..  . L. o. s.  . d. o. s.  . m. e. t. o. d. o. s.  . q. u. e.  . p. u. e. d. e. n.  . s. e. r.  . u. t. i. l. i. z. a. d. o. s.  . c. o. m. o.  . a. n. t. i. c. o. n. c. e. p. t. i. v. o. s.  . d. e.  . e. m. e. r. g. e. n. c. i. a. ,.  . e. n.  . C. o. l. o. m. b. i. a.  . s. o. n. :.  . l. a.  . p. i. l. d. o. r. a.  . d. e. l.  . d. i. a.  . d. e. s. p. u. e. s.  . y.  . e. l.  . d. i. s. p. o. s. i. t. i. v. o.  . i. n. t. r. a.  . u. t. e. r. i. n. o. ..  . T. e.  . r. e. c. o. m. i. e. n. d. o.  . q. u. e.  . a. s. i. s. t. a. s.  . a.  . u. n. a.  . a. s. e. s. o. r. i. a.  . a. n. t. i. c. o. n. c. e. p. c. i. o. n.  . e. n.  . t. u.  . c. e. n. t. r. o.  . d. e.  . a. t. e. n. c. i. o. n.  . e. n.  . s. a. l. u. d.  . y.  . a. d. i. c. i. o. n. a. l. m. e. n. t. e. ,.  . u. t. i. l. i. c. e. s.  . c. o. n. d. o. n.  . p. a. r. a.  . p. r. o. t. e. g. e. r. t. e.  . d. e.  . l. a. s.  . i. n. f. e. c. c. i. o. n. e. s.  . d. e.  . t. r. a. n. s. m. i. s. i. o. n.  . ...   \n",
       "...                                                                                                                                                                                                                                                                                                                                                                                                                                                                                                                                                                                                                                                                                                                                                                                                                                                                                                                                                                                                                                       ...   \n",
       "1132  E. n.  . a. l. g. u. n. o. s.  . c. a. s. o. s.  . s. e.  . p. u. e. d. e.  . p. r. e. s. e. n. t. a. r.  . s. a. n. g. r. a. d. o.  . y.  . d. o. l. o. r.  . d. u. r. a. n. t. e.  . u. n.  . p. a. r.  . d. e.  . s. e. m. a. n. a. s.  . d. e. s. p. u. e. s.  . d. e.  . q. u. e.  . e. l.  . D. I. U.  . e. s.  . i. n. s. e. r. t. a. d. o. ,.  . p. e. r. o.  . s. i.  . a.  . p. e. s. a. r.  . d. e.  . i. n. t. r. o. d. u. c. i. r.  . l. o. s.  . d. e. d. o. s.  . e. n.  . t. u.  . v. a. g. i. n. a.  . n. o.  . s. i. e. n. t. e. s.  . l. o. s.  . h. i. l. o. s. ,.  .  . t. e.  . r. e. c. o. m. i. e. n. d. o.  . a. s. i. s. t. i. r.  . a. l.  . s. e. r. v. i. c. i. o.  . m. e. d. i. c. o.  . p. a. r. a.  . v. e. r. i. f. i. c. a. r.  . s. i.  . e. l.  . d. i. s. p. o. s. i. t. i. v. o.  . f. u. e.  . e. x. p. u. l. s. a. d. o.  . o.  . s. e.  . d. e. s. p. l. a. z. o.  . d. e.  . s. u.  . l. u. g. a. r. ..  . S. i.  . e. s. t. e.  . e. s.  . e. l.  . c. a. s. o.  . e. l.  . m. e. t. o. ...   \n",
       "1133  \\n. R. e. a. l. i. z. a.  . u. n. a.  . p. r. u. e. b. a.  . d. e.  . e. m. b. a. r. a. z. o.  . p. a. r. a.  . c. o. n. f. i. r. m. a. r.  . t. u.  . e. s. t. a. d. o. ..  . D. e. b. e. s.  . s. a. b. e. r.  . q. u. e.  . n. o.  . t. o. d. o.  . s. a. n. g. r. a. d. o.  . e. s.  . l. a.  . m. e. n. s. t. r. u. a. c. i. o. n.  . y.  . q. u. e.  . e. l.  . e. m. p. l. e. o.  . d. e.  . m. e. t. o. d. o. s.  . a. n. t. i. c. o. n. c. e. p. t. i. v. o. s.  . d. i. s. m. i. n. u. y. e.  . d. e.  . m. a. n. e. r. a.  . i. m. p. o. r. t. a. n. t. e.  . e. l.  . r. i. e. s. g. o.  . d. e.  . q. u. e. d. a. r.  . e. n.  . e. m. b. a. r. a. z. o. ..  . D. e. b. e. s.  . c. o. n. s. u. l. t. a. r.  . a.  . t. u.  . s. e. r. v. i. c. i. o.  . d. e.  . s. a. l. u. d. ,.  . e. s.  . g. r. a. t. i. s.  . y.  . p. u. e. d. e. n.  . a. c. c. e. d. e. r.  . s. i. n.  . c. o. m. p. a. n. i. a.  . d. e.  . a. d. u. l. t. o. s.  . s. i.  . e. r. e. s.  . m. a. y. o. r.  . d. e.  . 1. 4.  . a. n. o. s....   \n",
       "1134  S. i.  . l. a.  . r. a. z. o. n.  . p. a. r. a.  . q. u. e.  . e. m. p. i. e. c. e. s.  . a.  . t. e. n. e. r.  . r. e. l. a. c. i. o. n. e. s.  . s. e. x. u. a. l. e. s.  . e. s.  . q. u. e.  . t. o. d. o. s.  . t. u. s.  . a. m. i. g. o. s.  . l. o.  . h. a. c. e. n. ,.  . n. o.  . d. e. b. e. r. i. a. s.  . i. n. i. c. i. a. r.  . t. u.  . v. i. d. a.  . s. e. x. u. a. l. ..  . A. u. n. q. u. e.  . p. a. r. e. z. c. a.  . q. u. e.  . t. o. d. o. s.  . t. u. s.  . a. m. i. g. o. s.  . y. a.  . h. a. n.  . t. e. n. i. d. o.  . r. e. l. a. c. i. o. n. e. s.  . s. e. x. u. a. l. e. s. ,.  . e. s.  . m. u. y.  . p. r. o. b. a. b. l. e.  . q. u. e.  . n. o.  . s. e. a.  . c. i. e. r. t. o.  . y.  . q. u. e.  . s. i.  . l. o.  . h. a. n.  . h. e. c. h. o.  . n. o.  . l. o.  . h. a. c. e. n.  . t. a. n.  . f. r. e. c. u. e. n. t. e. m. e. n. t. e.  . c. o. m. o.  . p. i. e. n. s. a. s. .. ..  . S. o. l. o.  . d. e. b. e. r. i. a. s.  . t. e. n. e. r.  . r. e. l. a. c. i. o. n. e. s.  . ...   \n",
       "1135  \\n. L. a.  . p. r. e. s. e. n. c. i. a.  . d. e.  . m. a. n. c. h. a. d. o. s.  . o. c. a. s. i. o. n. a. l. e. s.  . c. o. n.  . a. u. s. e. n. c. i. a.  . d. e.  . m. e. n. s. t. r. u. a. c. i. o. n.  . d. u. r. a. n. t. e.  . e. l.  . c. i. c. l. o.  . m. e. n. s. t. r. u. a. l.  . p. u. e. d. e.  . s. u. c. e. d. e. r.  . p. o. r.  . d. i. f. e. r. e. n. t. e. s.  . c. i. r. c. u. n. s. t. a. n. c. i. a. s. ,.  . e. n. t. r. e.  . l. a. s.  . c. u. a. l. e. s.  . e. x. i. s. t. e. n.  . c. a. m. b. i. o. s.  . h. o. r. m. o. n. a. l. e. s. ,.  . e. l.  . e. s. t. r. e. s.  . y.  . e. l.  . e. m. b. a. r. a. z. o. ..  . T. e.  . r. e. c. o. m. i. e. n. d. o.  . r. e. a. l. i. z. a. r. t. e.  . u. n. a.  . p. r. u. e. b. a.  . d. e.  . e. m. b. a. r. a. z. o.  . e. n.  . o. r. i. n. a.  . y.  . a. s. i. s. t. i. r.  . a.  . t. u.  . e. n. t. i. d. a. d.  . d. e.  . s. a. l. u. d.  . p. a. r. a.  . q. u. e.  . u. n.  . p. r. o. f. e. s. i. o. n. a. l.  . t. e.  . v. a. l. o. r. e....   \n",
       "1136  S. i. ,.  . l. a. s.  . p. e. r. s. o. n. a. s.  . c. o. n.  . d. i. s. c. a. p. a. c. i. d. a. d.  . p. u. e. d. e. n.  . t. e. n. e. r.  . h. i. j. o. s.  . o.  . h. i. j. a. s. ..  .  . E. s. t. a.  . p. o. s. i. b. i. l. i. d. a. d.  . d. e. p. e. n. d. e.  . d. e.  . d. i. s. t. i. n. t. o. s.  . f. a. c. t. o. r. e. s. ,.  . e. n.  . p. r. i. m. e. r.  . l. u. g. a. r.  . d. e. l.  . t. i. p. o.  . d. e.  . d. i. s. c. a. p. a. c. i. d. a. d.  . (. f. i. s. i. c. a. ,.  . i. n. t. e. l. e. c. t. u. a. l. ,.  . m. e. n. t. a. l. ,. a. u. d. i. t. i. v. a. ,.  . v. i. s. u. a. l. ,.  . s. o. r. d. o. c. e. g. u. e. r. a.  . o.  . m. u. l. t. i. p. l. e. ). ,.  .  . y.  . d. e. l.  . g. r. a. d. o.  . y.  . e. x. t. e. n. s. i. o. n. ,.  . p. a. r. a.  . l. o.  . c. u. a. l.  . s. e.  . d. e. b. e. n.  . t. e. n. e. r.  . e. n.  . c. u. e. n. t. a.  . l. o. s.  . a. j. u. s. t. e. s.  . r. a. z. o. n. a. b. l. e. s.  . q. u. e.  . l. e.  . p. e. r. m. i. t. a. n.  . a.  . l. a. ...   \n",
       "\n",
       "                                                                                                                                                                                                                                                                                                                                                                                                                                                                                                                                                                                                                                                                                                                                                                                                                                                                                                                                                                                                                            respuestas_juntas  \n",
       "0                                                                                                                                                                                                                                                                                                                                                                                                                                                                                                                                                                                                  Solo cuando comienzas a usar el anillo anticonceptivo vaginal en un dia diferente a los primeros cinco dias de la menstruacion, es necesario utilizar un metodo anticonceptivo adicional. Si este es tu caso y no usaste condon si seria necesario usar anticoncepcion de emergencia. Te recomiendo asistir a una asesoria en anticoncepcion en tu centro de atencion en salud. Recuerda utilizar condon en todas las relaciones sexuales.  \n",
       "1                                                                                                                                                Aunque durante la penetracion vaginal luego de la eyaculacion pueden quedar pequenas cantidades de semen, si usaron un anticonceptivo o pildora de emergencia, es muy poco probable que se presente un embarazo, especialmente si tu pareja lo tomo en las siguientes 72 a 120 horas luego de la relacion sexual. Este metodo es altamente efectivo para la prevencion de un embarazo no planeado, pero esta efectividad depende de que se tome en el tiempo indicado, ademas no debe ser usado como metodo de planificacion regular. En todo caso, te recomiendo usar condon siempre en tus relaciones sexuales, no solo para prevenir embarazos sino tambien para prevenir infecciones de transmision sexual.. Para mayor informacion te invitamos a consultar los siguientes contenidos de Sexperto:?Cuales son los riesgos de tomar la \"pastilla del dia despues\" en mas de una ocasion?  \n",
       "2     \\nNo, la anticoncepcion de emergencia debe ser garantizada por tu entidad de salud cuando la requieres, sin embargo, si decides comprarla en una farmacia no es necesario que tengas una formula medica. Ten en cuenta que como su nombre lo indica es unicamente para \"una emergencia\" y no como un metodo de anticoncepcion cada vez que se tienen relaciones sexuales no protegidas.. \\n\\r\\np.p1 {margin: 0.0px 0.0px 0.0px 0.0px; font: 11.0px Calibri; -webkit-text-stroke: #000000}\\r\\nspan.s1 {font-kerning: none}\\r\\nspan.s2 {font-kerning: none; color: #0170c0; -webkit-text-stroke: 0px #0170c0}\\r\\nspan.s3 {font-kerning: none; color: #ff2500; -webkit-text-stroke: 0px #ff2500}\\r\\n\\nLa anticoncepcion de emergencia es un metodo anticonceptivo que debe ser usado dentro de las primeras 72 horas posteriores a la relacion sexual no protegida. No es un metodo abortivo porque actua impidiendo la fecundacion del ovulo por el espermatozoide. Este anticonceptivo no debe usarse regularmente porque pierde su e...  \n",
       "3                                                                                                                                                                                                                                                                                                                                                                                  \\nSi tomas la pildora anticonceptiva de manera regular y segun las indicaciones, es muy efectiva. La efectividad disminuye cuando no la tomas todos los dias o la tomas a diferentes horas cada dia. En el momento que exista la dudad de estar en embarazo, debes realizarte una prueba de embarazo para conocer tu estado. Te aconsejo asistir a una cita de anticoncepcion si continuas con dudas relacionadas con el metodo anticonceptivo, la cita es gratuita y puedes asistir sin adultos, si eres mayor de 14 anos. Recuerda utilizar un metodo de barrera como lo es el preservativo para prevenir contagio de infecciones de transmision sexual.  \n",
       "4     No. Los dos metodos que pueden ser utilizados como anticonceptivos de emergencia, en Colombia son: la pildora del dia despues y el dispositivo intra uterino. Te recomiendo que asistas a una asesoria anticoncepcion en tu centro de atencion en salud y adicionalmente, utilices condon para protegerte de las infecciones de transmision sexual.. Dentro de los metodos anticonceptivos hormonales ( inyectables, pildoras, implante), existen diferentes dosis y hormonas. Dado que la inyeccion y el implante, estan disenados para tener un efecto en un tiempo determinado, no son efectivos como metodos efectivos en este caso. La pildora de emergencia, por su parte, tiene una dosis alta de hormonas que puede impedir la ovulacion o evitar que los espermatozoides se unan al ovulo, pero no se debe utilizar de forma rutinaria. Te recomiendo que asistas a una asesoria en anticoncepcion en tu centro de atencion en salud y adicionalmente, utilices condon para protegerte de las infecciones de transmision se...  \n",
       "...                                                                                                                                                                                                                                                                                                                                                                                                                                                                                                                                                                                                                                                                                                                                                                                                                                                                                                                                                                                                                                       ...  \n",
       "1132                                                                                                                                                                                                                                                                                                                                                                                                                                                                                                                            En algunos casos se puede presentar sangrado y dolor durante un par de semanas despues de que el DIU es insertado, pero si a pesar de introducir los dedos en tu vagina no sientes los hilos,  te recomiendo asistir al servicio medico para verificar si el dispositivo fue expulsado o se desplazo de su lugar. Si este es el caso el metodo no sera efectivo para prevenir un embarazo. Recuerda utilizar el condon en todas tus relaciones sexuales para prevenir las infecciones de transmision sexual.   \n",
       "1133                                                                                                                                                                                                                                                                                                                                                                                                                                                                                                                                                                           \\nRealiza una prueba de embarazo para confirmar tu estado. Debes saber que no todo sangrado es la menstruacion y que el empleo de metodos anticonceptivos disminuye de manera importante el riesgo de quedar en embarazo. Debes consultar a tu servicio de salud, es gratis y pueden acceder sin compania de adultos si eres mayor de 14 anos. Recuerda que el uso de preservativo disminuye la posibilidad de contagio de enfermedades de transmision sexual.  \n",
       "1134                                                                                                                                                                                                                                                                                                                                              Si la razon para que empieces a tener relaciones sexuales es que todos tus amigos lo hacen, no deberias iniciar tu vida sexual. Aunque parezca que todos tus amigos ya han tenido relaciones sexuales, es muy probable que no sea cierto y que si lo han hecho no lo hacen tan frecuentemente como piensas.. Solo deberias tener relaciones sexuales cuando te sientas preparado para hacerlo, si lo haces por otras razones como presion de tus amigos o pareja puedes arrepentirte despues y sentirte mal. El sexo nunca deberia ser una fuente de sentimientos negativos, piensa si tener relaciones es algo que tu realmente quieres hacer o es algo que te sientes presionado a hacer.  \n",
       "1135                                                                                                                                                                                                                                                                                                                                                         \\nLa presencia de manchados ocasionales con ausencia de menstruacion durante el ciclo menstrual puede suceder por diferentes circunstancias, entre las cuales existen cambios hormonales, el estres y el embarazo. Te recomiendo realizarte una prueba de embarazo en orina y asistir a tu entidad de salud para que un profesional te valore y de acuerdo a tu historia y examen fisico decida la conducta a seguir. Para evitar embarazos no deseados, te aconsejo que usen un metodo anticonceptivo de larga duracion. Recuerda que el unico metodo que protege contra infecciones de transmision sexual es el condon, por esto debe usarse en todas las relaciones sexuales.  \n",
       "1136                                                                                                                                                                                                                                                                           Si, las personas con discapacidad pueden tener hijos o hijas.  Esta posibilidad depende de distintos factores, en primer lugar del tipo de discapacidad (fisica, intelectual, mental,auditiva, visual, sordoceguera o multiple),  y del grado y extension, para lo cual se deben tener en cuenta los ajustes razonables que le permitan a la persona ejercer este derecho segun su limitacion, intereses y posibilidades, dado que es diferente la capacidad segun la deficiencia y autonomia. Ademas, se requiere que la persona con discapacidad cuente con educacion sexual adecuada y una red de apoyo familiar y social que le acompanen en el proceso de maternidad y paternidad, considerando los apoyos necesarios para facilitarle cumplir este rol.   \n",
       "\n",
       "[1137 rows x 6 columns]"
      ]
     },
     "execution_count": 187,
     "metadata": {},
     "output_type": "execute_result"
    }
   ],
   "source": [
    "df"
   ]
  },
  {
   "cell_type": "code",
   "execution_count": null,
   "metadata": {},
   "outputs": [],
   "source": []
  }
 ],
 "metadata": {
  "kernelspec": {
   "display_name": "Python 3",
   "language": "python",
   "name": "python3"
  },
  "language_info": {
   "codemirror_mode": {
    "name": "ipython",
    "version": 3
   },
   "file_extension": ".py",
   "mimetype": "text/x-python",
   "name": "python",
   "nbconvert_exporter": "python",
   "pygments_lexer": "ipython3",
   "version": "3.7.4"
  }
 },
 "nbformat": 4,
 "nbformat_minor": 2
}
