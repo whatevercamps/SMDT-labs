{
 "cells": [
  {
   "cell_type": "code",
   "execution_count": 5,
   "metadata": {},
   "outputs": [],
   "source": [
    "import json\n",
    "import pandas as pd"
   ]
  },
  {
   "cell_type": "code",
   "execution_count": 7,
   "metadata": {},
   "outputs": [],
   "source": [
    "df = pd.read_csv(\"abortips.csv\")"
   ]
  },
  {
   "cell_type": "code",
   "execution_count": 13,
   "metadata": {},
   "outputs": [],
   "source": [
    "data = json.loads(df.to_json(orient=\"records\"))"
   ]
  },
  {
   "cell_type": "code",
   "execution_count": 15,
   "metadata": {},
   "outputs": [
    {
     "data": {
      "text/plain": [
       "{'id': 144303523033645056,\n",
       " 'retweets': 0,\n",
       " 'likes': 0,\n",
       " 'url': 'https://twitter.com/minoviamajo/status/144303523033645056',\n",
       " 'texto': 'Al rato les pego la pagina de abortips me lo van a agradecer lobas',\n",
       " 'fecha': '2011-12-07',\n",
       " 'username': '@minoviamajo',\n",
       " 'user_id': 57190148,\n",
       " 'user_location': None,\n",
       " 'user_followers_count': 2150,\n",
       " 'user_created_at': 'Thu Jul 16 00:40:22 +0000 2009',\n",
       " 'user_favourites_count': 2167,\n",
       " 'user_statuses_count': 4596,\n",
       " 'user_verified': False,\n",
       " 'timestamp': 1323239615000,\n",
       " 'es_retweet': 0,\n",
       " 'es_quote': 0,\n",
       " 'retweeted_id': None,\n",
       " 'quoted_tweet': None}"
      ]
     },
     "execution_count": 15,
     "metadata": {},
     "output_type": "execute_result"
    }
   ],
   "source": []
  },
  {
   "cell_type": "code",
   "execution_count": 17,
   "metadata": {},
   "outputs": [],
   "source": [
    "links = []\n",
    "for qt in data:\n",
    "    if qt[\"es_retweet\"] == 1:\n",
    "        links.append({\"source\": qt[\"retweeted_id\"], \"target\": qt[\"id\"]})\n",
    "    elif qt[\"es_quote\"] == 1:\n",
    "        links.append({\"source\": qt[\"quoted_tweet\"], \"target\": qt[\"id\"]})"
   ]
  },
  {
   "cell_type": "code",
   "execution_count": 19,
   "metadata": {},
   "outputs": [],
   "source": [
    "nodes = []\n",
    "for qt in data:\n",
    "    nodes.append({\"id\": qt[\"id\"], \"data\": qt})"
   ]
  },
  {
   "cell_type": "code",
   "execution_count": 20,
   "metadata": {},
   "outputs": [],
   "source": [
    "json.dump(links, open(\"links-grafo-abortips.json\", \"w\")) "
   ]
  },
  {
   "cell_type": "code",
   "execution_count": 21,
   "metadata": {},
   "outputs": [],
   "source": [
    "json.dump(nodes, open(\"nodos-grafo-abortips.json\", \"w\"))"
   ]
  },
  {
   "cell_type": "code",
   "execution_count": 25,
   "metadata": {},
   "outputs": [
    {
     "data": {
      "text/plain": [
       "[]"
      ]
     },
     "execution_count": 25,
     "metadata": {},
     "output_type": "execute_result"
    }
   ],
   "source": [
    "[n for n in nodes if n[\"id\"] == 233723136200000000]"
   ]
  },
  {
   "cell_type": "code",
   "execution_count": 28,
   "metadata": {},
   "outputs": [
    {
     "data": {
      "text/plain": [
       "[{'source': 2.337231362e+17, 'target': 233750190635495425}]"
      ]
     },
     "execution_count": 28,
     "metadata": {},
     "output_type": "execute_result"
    }
   ],
   "source": [
    "[l for l in links if l[\"source\"] == 233723136200000000]"
   ]
  },
  {
   "cell_type": "code",
   "execution_count": null,
   "metadata": {},
   "outputs": [],
   "source": []
  }
 ],
 "metadata": {
  "kernelspec": {
   "display_name": "Python 3",
   "language": "python",
   "name": "python3"
  },
  "language_info": {
   "codemirror_mode": {
    "name": "ipython",
    "version": 3
   },
   "file_extension": ".py",
   "mimetype": "text/x-python",
   "name": "python",
   "nbconvert_exporter": "python",
   "pygments_lexer": "ipython3",
   "version": "3.7.4"
  }
 },
 "nbformat": 4,
 "nbformat_minor": 2
}
