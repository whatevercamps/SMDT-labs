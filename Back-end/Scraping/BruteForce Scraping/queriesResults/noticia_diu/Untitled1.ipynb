{
 "cells": [
  {
   "cell_type": "code",
   "execution_count": 32,
   "metadata": {},
   "outputs": [],
   "source": [
    "import pandas as pd\n",
    "pd.set_option('max_colwidth', 4000)\n",
    "pd.set_option('max_columns', 4000)\n",
    "pd.set_option('max_rows', 4000)"
   ]
  },
  {
   "cell_type": "code",
   "execution_count": 91,
   "metadata": {},
   "outputs": [],
   "source": [
    "df = pd.read_csv(\"nodos_final_1.csv\")"
   ]
  },
  {
   "cell_type": "code",
   "execution_count": 92,
   "metadata": {},
   "outputs": [
    {
     "data": {
      "text/html": [
       "<div>\n",
       "<style scoped>\n",
       "    .dataframe tbody tr th:only-of-type {\n",
       "        vertical-align: middle;\n",
       "    }\n",
       "\n",
       "    .dataframe tbody tr th {\n",
       "        vertical-align: top;\n",
       "    }\n",
       "\n",
       "    .dataframe thead th {\n",
       "        text-align: right;\n",
       "    }\n",
       "</style>\n",
       "<table border=\"1\" class=\"dataframe\">\n",
       "  <thead>\n",
       "    <tr style=\"text-align: right;\">\n",
       "      <th></th>\n",
       "      <th>id</th>\n",
       "      <th>followers</th>\n",
       "      <th>retweets</th>\n",
       "      <th>likes</th>\n",
       "      <th>user_id</th>\n",
       "      <th>url</th>\n",
       "      <th>texto</th>\n",
       "      <th>fecha</th>\n",
       "      <th>es_quote</th>\n",
       "      <th>quoted_tweet</th>\n",
       "      <th>es_retweet</th>\n",
       "      <th>retweeted_id</th>\n",
       "    </tr>\n",
       "  </thead>\n",
       "  <tbody>\n",
       "    <tr>\n",
       "      <td>1443</td>\n",
       "      <td>1273315990277967874</td>\n",
       "      <td>333</td>\n",
       "      <td>4</td>\n",
       "      <td>18</td>\n",
       "      <td>1258518009037180933</td>\n",
       "      <td>https://twitter.com/debnamhazza/status/1273315990277967874</td>\n",
       "      <td>hoy hace 34 años nació esta hermosa mujer🥺 t amo bebé https://t.co/0HyrSp2GhC</td>\n",
       "      <td>17/06/2020</td>\n",
       "      <td>0</td>\n",
       "      <td>none</td>\n",
       "      <td>0</td>\n",
       "      <td>none</td>\n",
       "    </tr>\n",
       "  </tbody>\n",
       "</table>\n",
       "</div>"
      ],
      "text/plain": [
       "                       id  followers  retweets  likes              user_id  \\\n",
       "1443  1273315990277967874        333         4     18  1258518009037180933   \n",
       "\n",
       "                                                             url  \\\n",
       "1443  https://twitter.com/debnamhazza/status/1273315990277967874   \n",
       "\n",
       "                                                                              texto  \\\n",
       "1443  hoy hace 34 años nació esta hermosa mujer🥺 t amo bebé https://t.co/0HyrSp2GhC   \n",
       "\n",
       "           fecha  es_quote quoted_tweet  es_retweet retweeted_id  \n",
       "1443  17/06/2020         0         none           0         none  "
      ]
     },
     "execution_count": 92,
     "metadata": {},
     "output_type": "execute_result"
    }
   ],
   "source": [
    "df[df[\"id\"] == 1273315990277967874]"
   ]
  },
  {
   "cell_type": "code",
   "execution_count": 10,
   "metadata": {},
   "outputs": [
    {
     "name": "stdout",
     "output_type": "stream",
     "text": [
      "id\n",
      "followers\n",
      "retweets\n",
      "Rt reales\n",
      "likes\n",
      "user_id\n",
      "url\n",
      "texto\n",
      "fecha\n",
      "es_quote\n",
      "es_retweet\n",
      "retweeted_id\n"
     ]
    }
   ],
   "source": [
    "for dd in df:\n",
    "    print(dd)"
   ]
  },
  {
   "cell_type": "code",
   "execution_count": 93,
   "metadata": {},
   "outputs": [],
   "source": [
    "import json\n",
    "nodes_list = json.loads(df.to_json(orient='records'))"
   ]
  },
  {
   "cell_type": "code",
   "execution_count": 94,
   "metadata": {},
   "outputs": [],
   "source": [
    "for node in nodes_list:\n",
    "    node[\"rts_comments\"] = len([rr for rr in nodes_list if str(rr[\"quoted_tweet\"]) == str(node[\"id\"])])"
   ]
  },
  {
   "cell_type": "code",
   "execution_count": 95,
   "metadata": {},
   "outputs": [
    {
     "data": {
      "text/plain": [
       "[{'id': 1273315990277967874,\n",
       "  'followers': 333,\n",
       "  'retweets': 4,\n",
       "  'likes': 18,\n",
       "  'user_id': 1258518009037180933,\n",
       "  'url': 'https://twitter.com/debnamhazza/status/1273315990277967874',\n",
       "  'texto': 'hoy hace 34 años nació esta hermosa mujer🥺 t amo bebé https://t.co/0HyrSp2GhC',\n",
       "  'fecha': '17/06/2020',\n",
       "  'es_quote': 0,\n",
       "  'quoted_tweet': 'none',\n",
       "  'es_retweet': 0,\n",
       "  'retweeted_id': 'none',\n",
       "  'rts_comments': 0}]"
      ]
     },
     "execution_count": 95,
     "metadata": {},
     "output_type": "execute_result"
    }
   ],
   "source": [
    "[n for n in nodes_list if n[\"id\"] == 1273315990277967874]"
   ]
  },
  {
   "cell_type": "code",
   "execution_count": 45,
   "metadata": {},
   "outputs": [
    {
     "data": {
      "text/plain": [
       "1456"
      ]
     },
     "execution_count": 45,
     "metadata": {},
     "output_type": "execute_result"
    }
   ],
   "source": [
    "len(nodes_list)"
   ]
  },
  {
   "cell_type": "code",
   "execution_count": 96,
   "metadata": {},
   "outputs": [],
   "source": [
    "dff = pd.DataFrame(nodes_list).groupby([\"retweeted_id\", \"quoted_tweet\", \"user_id\"]).sum().reset_index()"
   ]
  },
  {
   "cell_type": "code",
   "execution_count": 97,
   "metadata": {},
   "outputs": [
    {
     "name": "stderr",
     "output_type": "stream",
     "text": [
      "/Users/davidbautista/opt/anaconda3/lib/python3.7/site-packages/ipykernel_launcher.py:1: UserWarning: Boolean Series key will be reindexed to match DataFrame index.\n",
      "  \"\"\"Entry point for launching an IPython kernel.\n"
     ]
    },
    {
     "data": {
      "text/html": [
       "<div>\n",
       "<style scoped>\n",
       "    .dataframe tbody tr th:only-of-type {\n",
       "        vertical-align: middle;\n",
       "    }\n",
       "\n",
       "    .dataframe tbody tr th {\n",
       "        vertical-align: top;\n",
       "    }\n",
       "\n",
       "    .dataframe thead th {\n",
       "        text-align: right;\n",
       "    }\n",
       "</style>\n",
       "<table border=\"1\" class=\"dataframe\">\n",
       "  <thead>\n",
       "    <tr style=\"text-align: right;\">\n",
       "      <th></th>\n",
       "      <th>retweeted_id</th>\n",
       "      <th>quoted_tweet</th>\n",
       "      <th>user_id</th>\n",
       "      <th>id</th>\n",
       "      <th>followers</th>\n",
       "      <th>retweets</th>\n",
       "      <th>likes</th>\n",
       "      <th>es_quote</th>\n",
       "      <th>es_retweet</th>\n",
       "      <th>rts_comments</th>\n",
       "    </tr>\n",
       "  </thead>\n",
       "  <tbody>\n",
       "  </tbody>\n",
       "</table>\n",
       "</div>"
      ],
      "text/plain": [
       "Empty DataFrame\n",
       "Columns: [retweeted_id, quoted_tweet, user_id, id, followers, retweets, likes, es_quote, es_retweet, rts_comments]\n",
       "Index: []"
      ]
     },
     "execution_count": 97,
     "metadata": {},
     "output_type": "execute_result"
    }
   ],
   "source": [
    "dff[df[\"id\"] == 1273315990277967874]"
   ]
  },
  {
   "cell_type": "code",
   "execution_count": 88,
   "metadata": {},
   "outputs": [],
   "source": [
    "dff.to_csv(\"hola2.csv\", index=False)"
   ]
  },
  {
   "cell_type": "code",
   "execution_count": null,
   "metadata": {},
   "outputs": [],
   "source": []
  }
 ],
 "metadata": {
  "kernelspec": {
   "display_name": "Python 3",
   "language": "python",
   "name": "python3"
  },
  "language_info": {
   "codemirror_mode": {
    "name": "ipython",
    "version": 3
   },
   "file_extension": ".py",
   "mimetype": "text/x-python",
   "name": "python",
   "nbconvert_exporter": "python",
   "pygments_lexer": "ipython3",
   "version": "3.7.4"
  }
 },
 "nbformat": 4,
 "nbformat_minor": 2
}
