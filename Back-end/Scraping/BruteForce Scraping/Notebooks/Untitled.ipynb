{
 "cells": [
  {
   "cell_type": "code",
   "execution_count": 5,
   "metadata": {},
   "outputs": [],
   "source": [
    "import pandas as pd\n",
    "import datetime"
   ]
  },
  {
   "cell_type": "code",
   "execution_count": 6,
   "metadata": {},
   "outputs": [],
   "source": [
    "data=[{'username': 'JeferCuellar', 'fullname': 'Jefferzon Cuellar', 'user_id': '2666780090', 'tweet_id': '803402785731575808', 'tweet_url': '/JeferCuellar/status/803402785731575808', 'timestamp': datetime.datetime(2016, 11, 29, 0, 58, 45), 'timestamp_epochs': 1480381125, 'replies': 0, 'retweets': 1, 'likes': 4, 'is_retweet': 0, 'retweeter_username': '', 'retweeter_userid': '', 'retweet_id': '', 'text': 'Cuando ingenieros de Microsoft y directivos de de proyectos de Startups están hablando del tema #LegalHack #Bitcoin #BlockChain pic.twitter.com/Hf3GGqtjlm', 'html': '<p class=\"TweetTextSize js-tweet-text tweet-text\" data-aria-label-part=\"0\" lang=\"es\">Cuando ingenieros de Microsoft y directivos de de proyectos de Startups están hablando del tema <a class=\"twitter-hashtag pretty-link js-nav\" data-query-source=\"hashtag_click\" dir=\"ltr\" href=\"/hashtag/LegalHack?src=hash\"><s>#</s><b>LegalHack</b></a> <a class=\"twitter-hashtag pretty-link js-nav\" data-query-source=\"hashtag_click\" dir=\"ltr\" href=\"/hashtag/Bitcoin?src=hash\"><s>#</s><b>Bitcoin</b></a> <a class=\"twitter-hashtag pretty-link js-nav\" data-query-source=\"hashtag_click\" dir=\"ltr\" href=\"/hashtag/BlockChain?src=hash\"><s>#</s><b><strong>BlockChain</strong></b></a> <a class=\"twitter-timeline-link u-hidden\" data-pre-embedded=\"true\" dir=\"ltr\" href=\"https://t.co/Hf3GGqtjlm\">pic.twitter.com/Hf3GGqtjlm</a></p>'}, {'username': 'anamcortesm', 'fullname': 'Ana María Cortés', 'user_id': '14655066', 'tweet_id': '1027700225115340803', 'tweet_url': '/anamcortesm/status/1027700225115340803', 'timestamp': datetime.datetime(2018, 8, 9, 23, 36, 42), 'timestamp_epochs': 1533857802, 'replies': 0, 'retweets': 0, 'likes': 0, 'is_retweet': 0, 'retweeter_username': '', 'retweeter_userid': '', 'retweet_id': '', 'text': 'Charla de Blockchain  (@ It Talent in Bogotá, Distrito Capital) https://www.swarmapp.com/c/lvf7CY4P5IW\\xa0', 'html': '<p class=\"TweetTextSize js-tweet-text tweet-text\" data-aria-label-part=\"0\" lang=\"ro\">Charla de <strong>Blockchain</strong> <img alt=\"🤓\" aria-label=\"Emoji: Cara de nerd\" class=\"Emoji Emoji--forText\" draggable=\"false\" src=\"https://abs.twimg.com/emoji/v2/72x72/1f913.png\" title=\"Cara de nerd\"/> (@ It Talent in Bogotá, Distrito Capital) <a class=\"twitter-timeline-link u-hidden\" data-expanded-url=\"https://www.swarmapp.com/c/lvf7CY4P5IW\" dir=\"ltr\" href=\"https://t.co/d6vFFh1Ywx\" rel=\"nofollow noopener\" target=\"_blank\" title=\"https://www.swarmapp.com/c/lvf7CY4P5IW\"><span class=\"tco-ellipsis\"></span><span class=\"invisible\">https://www.</span><span class=\"js-display-url\">swarmapp.com/c/lvf7CY4P5IW</span><span class=\"invisible\"></span><span class=\"tco-ellipsis\"><span class=\"invisible\">\\xa0</span></span></a></p>'}, {'username': 'johncardonaa', 'fullname': 'John Cardona', 'user_id': '121757782', 'tweet_id': '1027659441875734529', 'tweet_url': '/johncardonaa/status/1027659441875734529', 'timestamp': datetime.datetime(2018, 8, 9, 20, 54, 38), 'timestamp_epochs': 1533848078, 'replies': 0, 'retweets': 0, 'likes': 0, 'is_retweet': 0, 'retweeter_username': '', 'retweeter_userid': '', 'retweet_id': '', 'text': 'Maersk e #IBM atraen a 94 empresas a su plataforma #logística basada en #blockchain http://dlvr.it/QfN4Br\\xa0pic.twitter.com/8fznpa5t8G', 'html': '<p class=\"TweetTextSize js-tweet-text tweet-text\" data-aria-label-part=\"0\" lang=\"es\">Maersk e <a class=\"twitter-hashtag pretty-link js-nav\" data-query-source=\"hashtag_click\" dir=\"ltr\" href=\"/hashtag/IBM?src=hash\"><s>#</s><b>IBM</b></a> atraen a 94 empresas a su plataforma <a class=\"twitter-hashtag pretty-link js-nav\" data-query-source=\"hashtag_click\" dir=\"ltr\" href=\"/hashtag/log%C3%ADstica?src=hash\"><s>#</s><b>logística</b></a> basada en <a class=\"twitter-hashtag pretty-link js-nav\" data-query-source=\"hashtag_click\" dir=\"ltr\" href=\"/hashtag/blockchain?src=hash\"><s>#</s><b><strong>blockchain</strong></b></a> <a class=\"twitter-timeline-link\" data-expanded-url=\"http://dlvr.it/QfN4Br\" dir=\"ltr\" href=\"https://t.co/xv14ORU39x\" rel=\"nofollow noopener\" target=\"_blank\" title=\"http://dlvr.it/QfN4Br\"><span class=\"tco-ellipsis\"></span><span class=\"invisible\">http://</span><span class=\"js-display-url\">dlvr.it/QfN4Br</span><span class=\"invisible\"></span><span class=\"tco-ellipsis\"><span class=\"invisible\">\\xa0</span></span></a><a class=\"twitter-timeline-link u-hidden\" data-pre-embedded=\"true\" dir=\"ltr\" href=\"https://t.co/8fznpa5t8G\">pic.twitter.com/8fznpa5t8G</a></p>'}, {'username': 'johncardonaa', 'fullname': 'John Cardona', 'user_id': '121757782', 'tweet_id': '1020352775417298944', 'tweet_url': '/johncardonaa/status/1020352775417298944', 'timestamp': datetime.datetime(2018, 7, 20, 17, 0, 33), 'timestamp_epochs': 1532106033, 'replies': 0, 'retweets': 1, 'likes': 0, 'is_retweet': 0, 'retweeter_username': '', 'retweeter_userid': '', 'retweet_id': '', 'text': 'El gasto mundial en soluciones de #blockchain se duplicará este 2018 http://dlvr.it/QcD20q\\xa0pic.twitter.com/sNFoCI4VO0', 'html': '<p class=\"TweetTextSize js-tweet-text tweet-text\" data-aria-label-part=\"0\" lang=\"es\">El gasto mundial en soluciones de <a class=\"twitter-hashtag pretty-link js-nav\" data-query-source=\"hashtag_click\" dir=\"ltr\" href=\"/hashtag/blockchain?src=hash\"><s>#</s><b><strong>blockchain</strong></b></a> se duplicará este 2018 <a class=\"twitter-timeline-link\" data-expanded-url=\"http://dlvr.it/QcD20q\" dir=\"ltr\" href=\"https://t.co/mQXVPfVf2j\" rel=\"nofollow noopener\" target=\"_blank\" title=\"http://dlvr.it/QcD20q\"><span class=\"tco-ellipsis\"></span><span class=\"invisible\">http://</span><span class=\"js-display-url\">dlvr.it/QcD20q</span><span class=\"invisible\"></span><span class=\"tco-ellipsis\"><span class=\"invisible\">\\xa0</span></span></a><a class=\"twitter-timeline-link u-hidden\" data-pre-embedded=\"true\" dir=\"ltr\" href=\"https://t.co/sNFoCI4VO0\">pic.twitter.com/sNFoCI4VO0</a></p>'}, {'username': 'johncardonaa', 'fullname': 'John Cardona', 'user_id': '121757782', 'tweet_id': '1020278820035706880', 'tweet_url': '/johncardonaa/status/1020278820035706880', 'timestamp': datetime.datetime(2018, 7, 20, 12, 6, 41), 'timestamp_epochs': 1532088401, 'replies': 0, 'retweets': 1, 'likes': 1, 'is_retweet': 0, 'retweeter_username': '', 'retweeter_userid': '', 'retweet_id': '', 'text': 'El #blockchain aplicado a la #salud será un negocio de 829 millones de dólares en un lustro http://dlvr.it/QcBQpc\\xa0pic.twitter.com/4hgu3iLOgp', 'html': '<p class=\"TweetTextSize js-tweet-text tweet-text\" data-aria-label-part=\"0\" lang=\"es\">El <a class=\"twitter-hashtag pretty-link js-nav\" data-query-source=\"hashtag_click\" dir=\"ltr\" href=\"/hashtag/blockchain?src=hash\"><s>#</s><b><strong>blockchain</strong></b></a> aplicado a la <a class=\"twitter-hashtag pretty-link js-nav\" data-query-source=\"hashtag_click\" dir=\"ltr\" href=\"/hashtag/salud?src=hash\"><s>#</s><b>salud</b></a> será un negocio de 829 millones de dólares en un lustro <a class=\"twitter-timeline-link\" data-expanded-url=\"http://dlvr.it/QcBQpc\" dir=\"ltr\" href=\"https://t.co/xXm7KpLRXA\" rel=\"nofollow noopener\" target=\"_blank\" title=\"http://dlvr.it/QcBQpc\"><span class=\"tco-ellipsis\"></span><span class=\"invisible\">http://</span><span class=\"js-display-url\">dlvr.it/QcBQpc</span><span class=\"invisible\"></span><span class=\"tco-ellipsis\"><span class=\"invisible\">\\xa0</span></span></a><a class=\"twitter-timeline-link u-hidden\" data-pre-embedded=\"true\" dir=\"ltr\" href=\"https://t.co/4hgu3iLOgp\">pic.twitter.com/4hgu3iLOgp</a></p>'}, {'username': 'johncardonaa', 'fullname': 'John Cardona', 'user_id': '121757782', 'tweet_id': '1016981360597061635', 'tweet_url': '/johncardonaa/status/1016981360597061635', 'timestamp': datetime.datetime(2018, 7, 11, 9, 43, 45), 'timestamp_epochs': 1531302225, 'replies': 0, 'retweets': 0, 'likes': 0, 'is_retweet': 0, 'retweeter_username': '', 'retweeter_userid': '', 'retweet_id': '', 'text': 'Exodus: el móvil con #Blockchain de #HTC que se puede reservar pero no ver ni tocar http://dlvr.it/Qb9mYs\\xa0pic.twitter.com/1dMmEyaVuj', 'html': '<p class=\"TweetTextSize js-tweet-text tweet-text\" data-aria-label-part=\"0\" lang=\"es\">Exodus: el móvil con <a class=\"twitter-hashtag pretty-link js-nav\" data-query-source=\"hashtag_click\" dir=\"ltr\" href=\"/hashtag/Blockchain?src=hash\"><s>#</s><b><strong>Blockchain</strong></b></a> de <a class=\"twitter-hashtag pretty-link js-nav\" data-query-source=\"hashtag_click\" dir=\"ltr\" href=\"/hashtag/HTC?src=hash\"><s>#</s><b>HTC</b></a> que se puede reservar pero no ver ni tocar <a class=\"twitter-timeline-link\" data-expanded-url=\"http://dlvr.it/Qb9mYs\" dir=\"ltr\" href=\"https://t.co/SCxOjOsB4g\" rel=\"nofollow noopener\" target=\"_blank\" title=\"http://dlvr.it/Qb9mYs\"><span class=\"tco-ellipsis\"></span><span class=\"invisible\">http://</span><span class=\"js-display-url\">dlvr.it/Qb9mYs</span><span class=\"invisible\"></span><span class=\"tco-ellipsis\"><span class=\"invisible\">\\xa0</span></span></a><a class=\"twitter-timeline-link u-hidden\" data-pre-embedded=\"true\" dir=\"ltr\" href=\"https://t.co/1dMmEyaVuj\">pic.twitter.com/1dMmEyaVuj</a></p>'}]"
   ]
  },
  {
   "cell_type": "code",
   "execution_count": 7,
   "metadata": {},
   "outputs": [],
   "source": [
    "df = pd.DataFrame(data)"
   ]
  },
  {
   "cell_type": "code",
   "execution_count": 12,
   "metadata": {},
   "outputs": [
    {
     "data": {
      "text/plain": [
       "6"
      ]
     },
     "execution_count": 12,
     "metadata": {},
     "output_type": "execute_result"
    }
   ],
   "source": [
    "len([{'username': 'MajaCorrea', 'fullname': 'Maja/Maria Alejandra', 'user_id': '63294805', 'tweet_id': '6417590968647680', 'tweet_url': '/MajaCorrea/status/6417590968647680', 'timestamp': datetime.datetime(2010, 11, 21, 18, 44, 7), 'timestamp_epochs': 1290365047, 'replies': 0, 'retweets': 0, 'likes': 0, 'is_retweet': 0, 'retweeter_username': '', 'retweeter_userid': '', 'retweet_id': '', 'text': 'EL PAPA Y EL USO DEL CONDÓN http://nyti.ms/dcalJg http://myloc.me/et1tv', 'html': '<p class=\"TweetTextSize js-tweet-text tweet-text\" data-aria-label-part=\"0\" lang=\"es\">EL PAPA Y EL USO DEL <strong>CONDÓN</strong> http://nyti.ms/dcalJg http://myloc.me/et1tv</p>'}, {'username': 'conescualo', 'fullname': \"🤷🏻\\u200d♂️Pa'malo yo.\", 'user_id': '5721392', 'tweet_id': '299994028848586752', 'tweet_url': '/conescualo/status/299994028848586752', 'timestamp': datetime.datetime(2013, 2, 8, 21, 32, 4), 'timestamp_epochs': 1360359124, 'replies': 1, 'retweets': 2, 'likes': 1, 'is_retweet': 0, 'retweeter_username': '', 'retweeter_userid': '', 'retweet_id': '', 'text': 'Grandes líderes espirituales como Teresa de Calcuta, Dalái Lama y Bob Esponja nos han enseñado que Lubriderm rompe el condón.', 'html': '<p class=\"TweetTextSize js-tweet-text tweet-text\" data-aria-label-part=\"0\" lang=\"es\">Grandes líderes espirituales como Teresa de Calcuta, Dalái Lama y Bob Esponja nos han enseñado que Lubriderm rompe el <strong>condón</strong>.</p>'}, {'username': 'pablogonzale11', 'fullname': 'Pablo González Ƥ¹¹', 'user_id': '364275627', 'tweet_id': '299548478261047298', 'tweet_url': '/pablogonzale11/status/299548478261047298', 'timestamp': datetime.datetime(2013, 2, 7, 16, 1, 37), 'timestamp_epochs': 1360252897, 'replies': 0, 'retweets': 0, 'likes': 0, 'is_retweet': 0, 'retweeter_username': '', 'retweeter_userid': '', 'retweet_id': '', 'text': 'Esto es Carnaval... a gozarlo con mesura, responsabilidad y condón pic.twitter.com/qPrVw4Kd', 'html': '<p class=\"TweetTextSize js-tweet-text tweet-text\" data-aria-label-part=\"0\" lang=\"es\">Esto es Carnaval... a gozarlo con mesura, responsabilidad y <strong>condón</strong> <a class=\"twitter-timeline-link u-hidden\" data-pre-embedded=\"true\" dir=\"ltr\" href=\"http://t.co/qPrVw4Kd\">pic.twitter.com/qPrVw4Kd</a></p>'}, {'username': 'felidemariag', 'fullname': 'Felipe Gómez', 'user_id': '385041353', 'tweet_id': '296809273281896448', 'tweet_url': '/felidemariag/status/296809273281896448', 'timestamp': datetime.datetime(2013, 1, 31, 2, 36, 59), 'timestamp_epochs': 1359599819, 'replies': 0, 'retweets': 10, 'likes': 1, 'is_retweet': 0, 'retweeter_username': '', 'retweeter_userid': '', 'retweet_id': '', 'text': 'Muchos piensan que el uso del condón es la solución para erradicar el sida de África, ellos opinan diferente: África cree en la castidad!', 'html': '<p class=\"TweetTextSize js-tweet-text tweet-text\" data-aria-label-part=\"0\" lang=\"es\">Muchos piensan que el uso del <strong>condón</strong> es la solución para erradicar el sida de África, ellos opinan diferente: África cree en la castidad!</p>'}, {'username': 'RV_0917', 'fullname': '♬☜Raúl☞♪', 'user_id': '751575823', 'tweet_id': '296430285929717760', 'tweet_url': '/RV_0917/status/296430285929717760', 'timestamp': datetime.datetime(2013, 1, 30, 1, 31, 2), 'timestamp_epochs': 1359509462, 'replies': 0, 'retweets': 0, 'likes': 0, 'is_retweet': 0, 'retweeter_username': '', 'retweeter_userid': '', 'retweet_id': '', 'text': 'Una viejita limpia el 4to d un motel y n la kma encuentra un condon y dic ¡arajo! n mi tiempo era arrecha pro nunk l quit l cuero a la monda', 'html': '<p class=\"TweetTextSize js-tweet-text tweet-text\" data-aria-label-part=\"0\" lang=\"es\">Una viejita limpia el 4to d un motel y n la kma encuentra un <strong>condon</strong> y dic ¡arajo! n mi tiempo era arrecha pro nunk l quit l cuero a la monda</p>'}, {'username': 'YULYZELIN', 'fullname': 'YULY ZELIN', 'user_id': '349308635', 'tweet_id': '294503643015692289', 'tweet_url': '/YULYZELIN/status/294503643015692289', 'timestamp': datetime.datetime(2013, 1, 24, 17, 55, 14), 'timestamp_epochs': 1359050114, 'replies': 0, 'retweets': 0, 'likes': 0, 'is_retweet': 0, 'retweeter_username': '', 'retweeter_userid': '', 'retweet_id': '', 'text': 'El primer condon de goma se fabrico en 1870,Las instrucciones indicaban como lavarlo ya que se utilizaba hasta que se rompia QUE TAL?', 'html': '<p class=\"TweetTextSize js-tweet-text tweet-text\" data-aria-label-part=\"0\" lang=\"es\">El primer <strong>condon</strong> de goma se fabrico en 1870,Las instrucciones indicaban como lavarlo ya que se utilizaba hasta que se rompia QUE TAL?</p>'}])"
   ]
  },
  {
   "cell_type": "code",
   "execution_count": 14,
   "metadata": {},
   "outputs": [
    {
     "data": {
      "text/plain": [
       "['fullname',\n",
       " 'html',\n",
       " 'is_retweet',\n",
       " 'likes',\n",
       " 'replies',\n",
       " 'retweet_id',\n",
       " 'retweeter_userid',\n",
       " 'retweeter_username',\n",
       " 'retweets',\n",
       " 'text',\n",
       " 'timestamp',\n",
       " 'timestamp_epochs',\n",
       " 'tweet_id',\n",
       " 'tweet_url',\n",
       " 'user_id',\n",
       " 'username']"
      ]
     },
     "execution_count": 14,
     "metadata": {},
     "output_type": "execute_result"
    }
   ],
   "source": [
    "list(df)"
   ]
  }
 ],
 "metadata": {
  "kernelspec": {
   "display_name": "Python 3",
   "language": "python",
   "name": "python3"
  },
  "language_info": {
   "codemirror_mode": {
    "name": "ipython",
    "version": 3
   },
   "file_extension": ".py",
   "mimetype": "text/x-python",
   "name": "python",
   "nbconvert_exporter": "python",
   "pygments_lexer": "ipython3",
   "version": "3.7.3"
  }
 },
 "nbformat": 4,
 "nbformat_minor": 2
}
