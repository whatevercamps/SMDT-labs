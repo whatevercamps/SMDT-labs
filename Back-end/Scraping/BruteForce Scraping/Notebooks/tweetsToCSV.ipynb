{
 "cells": [
  {
   "cell_type": "code",
   "execution_count": 29,
   "metadata": {},
   "outputs": [],
   "source": [
    "import pandas as pd\n",
    "pd.set_option('max_colwidth', 400)\n",
    "import pymongo"
   ]
  },
  {
   "cell_type": "code",
   "execution_count": 3,
   "metadata": {},
   "outputs": [],
   "source": [
    "client = pymongo.MongoClient(\"mongodb://54.90.49.105:27017\", username='rw_admin_smdt', password='HolocaustoDel84', authSource=\"smdt\")\n",
    "db = client[\"smdt\"]\n",
    "tweets_collection = db['tweets']"
   ]
  },
  {
   "cell_type": "code",
   "execution_count": 9,
   "metadata": {},
   "outputs": [],
   "source": [
    "tweets = tweets_collection.find({})"
   ]
  },
  {
   "cell_type": "code",
   "execution_count": 11,
   "metadata": {},
   "outputs": [],
   "source": [
    "df = [tweet for tweet in tweets]"
   ]
  },
  {
   "cell_type": "code",
   "execution_count": 62,
   "metadata": {},
   "outputs": [],
   "source": [
    "dff = pd.DataFrame(df)"
   ]
  },
  {
   "cell_type": "code",
   "execution_count": 73,
   "metadata": {},
   "outputs": [
    {
     "data": {
      "text/plain": [
       "394046"
      ]
     },
     "execution_count": 73,
     "metadata": {},
     "output_type": "execute_result"
    }
   ],
   "source": [
    "round(len(dff)/2)"
   ]
  },
  {
   "cell_type": "code",
   "execution_count": 92,
   "metadata": {},
   "outputs": [],
   "source": [
    "#dff[[\"tweet_id\", \"text\"]].head().to_csv('pandas.txt', header=None, index=None, sep=' ')\n",
    "for i in range(0, len(dff), 10000):\n",
    "    if i + 10000 >= len(dff):\n",
    "        dff[[\"text\"]][i:].to_csv('tweets_class_txt/tweets_onlytext-{}.txt'.format(i/10000 + 1), header=None, index=None, sep=' ')\n",
    "        #dff[[\"text\"]][i:].to_csv('tweets_class/tweets_onlytext-{}.csv'.format(i/10000 + 1), header=None, index=None)\n",
    "    else:\n",
    "        dff[[\"text\"]][i:i+10000].to_csv('tweets_class_txt/tweets_onlytext-{}.txt'.format(i/10000 + 1), header=None, index=None, sep=' ')\n",
    "        #dff[[\"text\"]][i:i+10000].to_csv('tweets_class/tweets_onlytext-{}.csv'.format(i/10000 + 1), header=None, index=None)"
   ]
  },
  {
   "cell_type": "code",
   "execution_count": 90,
   "metadata": {},
   "outputs": [
    {
     "data": {
      "text/plain": [
       "78.8093"
      ]
     },
     "execution_count": 90,
     "metadata": {},
     "output_type": "execute_result"
    }
   ],
   "source": [
    "len(dff)/10000"
   ]
  },
  {
   "cell_type": "code",
   "execution_count": 30,
   "metadata": {},
   "outputs": [
    {
     "data": {
      "text/html": [
       "<div>\n",
       "<style scoped>\n",
       "    .dataframe tbody tr th:only-of-type {\n",
       "        vertical-align: middle;\n",
       "    }\n",
       "\n",
       "    .dataframe tbody tr th {\n",
       "        vertical-align: top;\n",
       "    }\n",
       "\n",
       "    .dataframe thead th {\n",
       "        text-align: right;\n",
       "    }\n",
       "</style>\n",
       "<table border=\"1\" class=\"dataframe\">\n",
       "  <thead>\n",
       "    <tr style=\"text-align: right;\">\n",
       "      <th></th>\n",
       "      <th>tweet_id</th>\n",
       "      <th>text</th>\n",
       "    </tr>\n",
       "  </thead>\n",
       "  <tbody>\n",
       "    <tr>\n",
       "      <td>0</td>\n",
       "      <td>756344762</td>\n",
       "      <td>Infecciones de transmisión sexual y el VIH/SIDA http://tinyurl.com/328cpl</td>\n",
       "    </tr>\n",
       "    <tr>\n",
       "      <td>1</td>\n",
       "      <td>1043604146</td>\n",
       "      <td>Casos de VIH: Independientes piden a Erazo redefinir política de educación sexual</td>\n",
       "    </tr>\n",
       "    <tr>\n",
       "      <td>2</td>\n",
       "      <td>893667712</td>\n",
       "      <td>Trabajo Sexual, VIH y Derechos Humanos: Trabajadoras sexuales, travestis, transgéneros y transexua.. http://tinyurl.com/5pqolh</td>\n",
       "    </tr>\n",
       "    <tr>\n",
       "      <td>3</td>\n",
       "      <td>892787114</td>\n",
       "      <td>Nadie ha demostrado jamás que el VIH sea la causa del SIDA, ni que el \\rvirus se transmite por la vía sexual.</td>\n",
       "    </tr>\n",
       "    <tr>\n",
       "      <td>4</td>\n",
       "      <td>4151315641</td>\n",
       "      <td>@caycedo El berraquillo y la Vitacerebrina están formulados como la única cura conocida contra el VIH y la pereza sexual.</td>\n",
       "    </tr>\n",
       "  </tbody>\n",
       "</table>\n",
       "</div>"
      ],
      "text/plain": [
       "     tweet_id  \\\n",
       "0   756344762   \n",
       "1  1043604146   \n",
       "2   893667712   \n",
       "3   892787114   \n",
       "4  4151315641   \n",
       "\n",
       "                                                                                                                             text  \n",
       "0                                                       Infecciones de transmisión sexual y el VIH/SIDA http://tinyurl.com/328cpl  \n",
       "1                                               Casos de VIH: Independientes piden a Erazo redefinir política de educación sexual  \n",
       "2  Trabajo Sexual, VIH y Derechos Humanos: Trabajadoras sexuales, travestis, transgéneros y transexua.. http://tinyurl.com/5pqolh  \n",
       "3                   Nadie ha demostrado jamás que el VIH sea la causa del SIDA, ni que el \\rvirus se transmite por la vía sexual.  \n",
       "4       @caycedo El berraquillo y la Vitacerebrina están formulados como la única cura conocida contra el VIH y la pereza sexual.  "
      ]
     },
     "execution_count": 30,
     "metadata": {},
     "output_type": "execute_result"
    }
   ],
   "source": [
    "dff[\"text\"].apply(lambda x: x.replace(r\"\\\\*\"))\n",
    "dff[[\"tweet_id\", \"text\"]].head()"
   ]
  },
  {
   "cell_type": "code",
   "execution_count": 80,
   "metadata": {},
   "outputs": [],
   "source": [
    "dff['text'] = dff['text'].apply(lambda x: unidecode.unidecode(x).replace(\"\\r\", \"\"))"
   ]
  },
  {
   "cell_type": "code",
   "execution_count": 81,
   "metadata": {},
   "outputs": [
    {
     "data": {
      "text/html": [
       "<div>\n",
       "<style scoped>\n",
       "    .dataframe tbody tr th:only-of-type {\n",
       "        vertical-align: middle;\n",
       "    }\n",
       "\n",
       "    .dataframe tbody tr th {\n",
       "        vertical-align: top;\n",
       "    }\n",
       "\n",
       "    .dataframe thead th {\n",
       "        text-align: right;\n",
       "    }\n",
       "</style>\n",
       "<table border=\"1\" class=\"dataframe\">\n",
       "  <thead>\n",
       "    <tr style=\"text-align: right;\">\n",
       "      <th></th>\n",
       "      <th>tweet_id</th>\n",
       "      <th>text</th>\n",
       "    </tr>\n",
       "  </thead>\n",
       "  <tbody>\n",
       "    <tr>\n",
       "      <td>0</td>\n",
       "      <td>756344762</td>\n",
       "      <td>Infecciones de transmision sexual y el VIH/SIDA http://tinyurl.com/328cpl</td>\n",
       "    </tr>\n",
       "    <tr>\n",
       "      <td>1</td>\n",
       "      <td>1043604146</td>\n",
       "      <td>Casos de VIH: Independientes piden a Erazo redefinir politica de educacion sexual</td>\n",
       "    </tr>\n",
       "    <tr>\n",
       "      <td>2</td>\n",
       "      <td>893667712</td>\n",
       "      <td>Trabajo Sexual, VIH y Derechos Humanos: Trabajadoras sexuales, travestis, transgeneros y transexua.. http://tinyurl.com/5pqolh</td>\n",
       "    </tr>\n",
       "    <tr>\n",
       "      <td>3</td>\n",
       "      <td>892787114</td>\n",
       "      <td>Nadie ha demostrado jamas que el VIH sea la causa del SIDA, ni que el virus se transmite por la via sexual.</td>\n",
       "    </tr>\n",
       "    <tr>\n",
       "      <td>4</td>\n",
       "      <td>4151315641</td>\n",
       "      <td>@caycedo El berraquillo y la Vitacerebrina estan formulados como la unica cura conocida contra el VIH y la pereza sexual.</td>\n",
       "    </tr>\n",
       "  </tbody>\n",
       "</table>\n",
       "</div>"
      ],
      "text/plain": [
       "     tweet_id  \\\n",
       "0   756344762   \n",
       "1  1043604146   \n",
       "2   893667712   \n",
       "3   892787114   \n",
       "4  4151315641   \n",
       "\n",
       "                                                                                                                             text  \n",
       "0                                                       Infecciones de transmision sexual y el VIH/SIDA http://tinyurl.com/328cpl  \n",
       "1                                               Casos de VIH: Independientes piden a Erazo redefinir politica de educacion sexual  \n",
       "2  Trabajo Sexual, VIH y Derechos Humanos: Trabajadoras sexuales, travestis, transgeneros y transexua.. http://tinyurl.com/5pqolh  \n",
       "3                     Nadie ha demostrado jamas que el VIH sea la causa del SIDA, ni que el virus se transmite por la via sexual.  \n",
       "4       @caycedo El berraquillo y la Vitacerebrina estan formulados como la unica cura conocida contra el VIH y la pereza sexual.  "
      ]
     },
     "execution_count": 81,
     "metadata": {},
     "output_type": "execute_result"
    }
   ],
   "source": [
    "dff[[\"tweet_id\", \"text\"]].head()"
   ]
  },
  {
   "cell_type": "code",
   "execution_count": 78,
   "metadata": {},
   "outputs": [],
   "source": [
    "text = \"Nadie ha demostrado jamás que el VIH sea la causa del SIDA, ni que el virus se transmite por la vía sexual.\""
   ]
  },
  {
   "cell_type": "code",
   "execution_count": 79,
   "metadata": {},
   "outputs": [
    {
     "data": {
      "text/plain": [
       "'Nadie ha demostrado jamas que el VIH sea la causa del SIDA, ni que el virus se transmite por la via sexual.'"
      ]
     },
     "execution_count": 79,
     "metadata": {},
     "output_type": "execute_result"
    }
   ],
   "source": []
  },
  {
   "cell_type": "code",
   "execution_count": null,
   "metadata": {},
   "outputs": [],
   "source": []
  }
 ],
 "metadata": {
  "kernelspec": {
   "display_name": "Python 3",
   "language": "python",
   "name": "python3"
  },
  "language_info": {
   "codemirror_mode": {
    "name": "ipython",
    "version": 3
   },
   "file_extension": ".py",
   "mimetype": "text/x-python",
   "name": "python",
   "nbconvert_exporter": "python",
   "pygments_lexer": "ipython3",
   "version": "3.7.4"
  }
 },
 "nbformat": 4,
 "nbformat_minor": 2
}
