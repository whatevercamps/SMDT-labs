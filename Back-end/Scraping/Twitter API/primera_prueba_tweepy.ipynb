{
 "cells": [
  {
   "cell_type": "code",
   "execution_count": 1,
   "metadata": {},
   "outputs": [],
   "source": [
    "import tweepy"
   ]
  },
  {
   "cell_type": "code",
   "execution_count": 2,
   "metadata": {},
   "outputs": [],
   "source": [
    "token = '1040981370-TlnLFX9E6IdhobaSKzCYXRv0PTLmOQ5kY6OtdPw'\n",
    "token_secret = 'nCsrtMcwqvLsI5l1DrC5joFGi7U0dpk7ja6brnzsFX6BR'\n",
    "consumer_key = 'amCXTgnly8fJEx8ChttQjC2cD'\n",
    "consumer_secret = 'CLMue2eoZVr0jxJcrDVgEeSIMepeguKHdELz1MlPSmIlXcMsgl'"
   ]
  },
  {
   "cell_type": "code",
   "execution_count": 3,
   "metadata": {},
   "outputs": [],
   "source": [
    "auth = tweepy.OAuthHandler(consumer_key, consumer_secret)\n",
    "auth.set_access_token(token, token_secret)"
   ]
  },
  {
   "cell_type": "code",
   "execution_count": 4,
   "metadata": {},
   "outputs": [],
   "source": [
    "api = tweepy.API(auth)"
   ]
  },
  {
   "cell_type": "code",
   "execution_count": 5,
   "metadata": {},
   "outputs": [],
   "source": [
    "co_id = '0639360bd49a15e3' #es el cod de colombia"
   ]
  },
  {
   "cell_type": "code",
   "execution_count": 34,
   "metadata": {},
   "outputs": [
    {
     "ename": "RateLimitError",
     "evalue": "[{'message': 'Rate limit exceeded', 'code': 88}]",
     "output_type": "error",
     "traceback": [
      "\u001b[0;31m---------------------------------------------------------------------------\u001b[0m",
      "\u001b[0;31mRateLimitError\u001b[0m                            Traceback (most recent call last)",
      "\u001b[0;32m<ipython-input-34-5a7b987a4989>\u001b[0m in \u001b[0;36m<module>\u001b[0;34m\u001b[0m\n\u001b[1;32m      1\u001b[0m \u001b[0;31m#geo = api.reverse_geocode(lat=\"4.710989\", long=\"-74.072090\", granularity=\"country\")\u001b[0m\u001b[0;34m\u001b[0m\u001b[0;34m\u001b[0m\u001b[0;34m\u001b[0m\u001b[0m\n\u001b[0;32m----> 2\u001b[0;31m \u001b[0mplaces\u001b[0m \u001b[0;34m=\u001b[0m \u001b[0mapi\u001b[0m\u001b[0;34m.\u001b[0m\u001b[0mgeo_search\u001b[0m\u001b[0;34m(\u001b[0m\u001b[0mquery\u001b[0m\u001b[0;34m=\u001b[0m\u001b[0;34m\"'Estados%20unidos'\"\u001b[0m\u001b[0;34m,\u001b[0m\u001b[0mgranularity\u001b[0m\u001b[0;34m=\u001b[0m\u001b[0;34m\"country\"\u001b[0m\u001b[0;34m,\u001b[0m \u001b[0mcountry_code\u001b[0m\u001b[0;34m=\u001b[0m\u001b[0;34m'US'\u001b[0m\u001b[0;34m,\u001b[0m \u001b[0mcountry\u001b[0m\u001b[0;34m=\u001b[0m\u001b[0;34m\"Estados Unidos\"\u001b[0m\u001b[0;34m)\u001b[0m\u001b[0;34m\u001b[0m\u001b[0;34m\u001b[0m\u001b[0m\n\u001b[0m",
      "\u001b[0;32m~/anaconda3/lib/python3.7/site-packages/tweepy/binder.py\u001b[0m in \u001b[0;36m_call\u001b[0;34m(*args, **kwargs)\u001b[0m\n\u001b[1;32m    248\u001b[0m             \u001b[0;32mreturn\u001b[0m \u001b[0mmethod\u001b[0m\u001b[0;34m\u001b[0m\u001b[0;34m\u001b[0m\u001b[0m\n\u001b[1;32m    249\u001b[0m         \u001b[0;32melse\u001b[0m\u001b[0;34m:\u001b[0m\u001b[0;34m\u001b[0m\u001b[0;34m\u001b[0m\u001b[0m\n\u001b[0;32m--> 250\u001b[0;31m             \u001b[0;32mreturn\u001b[0m \u001b[0mmethod\u001b[0m\u001b[0;34m.\u001b[0m\u001b[0mexecute\u001b[0m\u001b[0;34m(\u001b[0m\u001b[0;34m)\u001b[0m\u001b[0;34m\u001b[0m\u001b[0;34m\u001b[0m\u001b[0m\n\u001b[0m\u001b[1;32m    251\u001b[0m \u001b[0;34m\u001b[0m\u001b[0m\n\u001b[1;32m    252\u001b[0m     \u001b[0;31m# Set pagination mode\u001b[0m\u001b[0;34m\u001b[0m\u001b[0;34m\u001b[0m\u001b[0;34m\u001b[0m\u001b[0m\n",
      "\u001b[0;32m~/anaconda3/lib/python3.7/site-packages/tweepy/binder.py\u001b[0m in \u001b[0;36mexecute\u001b[0;34m(self)\u001b[0m\n\u001b[1;32m    230\u001b[0m \u001b[0;34m\u001b[0m\u001b[0m\n\u001b[1;32m    231\u001b[0m                 \u001b[0;32mif\u001b[0m \u001b[0mis_rate_limit_error_message\u001b[0m\u001b[0;34m(\u001b[0m\u001b[0merror_msg\u001b[0m\u001b[0;34m)\u001b[0m\u001b[0;34m:\u001b[0m\u001b[0;34m\u001b[0m\u001b[0;34m\u001b[0m\u001b[0m\n\u001b[0;32m--> 232\u001b[0;31m                     \u001b[0;32mraise\u001b[0m \u001b[0mRateLimitError\u001b[0m\u001b[0;34m(\u001b[0m\u001b[0merror_msg\u001b[0m\u001b[0;34m,\u001b[0m \u001b[0mresp\u001b[0m\u001b[0;34m)\u001b[0m\u001b[0;34m\u001b[0m\u001b[0;34m\u001b[0m\u001b[0m\n\u001b[0m\u001b[1;32m    233\u001b[0m                 \u001b[0;32melse\u001b[0m\u001b[0;34m:\u001b[0m\u001b[0;34m\u001b[0m\u001b[0;34m\u001b[0m\u001b[0m\n\u001b[1;32m    234\u001b[0m                     \u001b[0;32mraise\u001b[0m \u001b[0mTweepError\u001b[0m\u001b[0;34m(\u001b[0m\u001b[0merror_msg\u001b[0m\u001b[0;34m,\u001b[0m \u001b[0mresp\u001b[0m\u001b[0;34m,\u001b[0m \u001b[0mapi_code\u001b[0m\u001b[0;34m=\u001b[0m\u001b[0mapi_error_code\u001b[0m\u001b[0;34m)\u001b[0m\u001b[0;34m\u001b[0m\u001b[0;34m\u001b[0m\u001b[0m\n",
      "\u001b[0;31mRateLimitError\u001b[0m: [{'message': 'Rate limit exceeded', 'code': 88}]"
     ]
    }
   ],
   "source": [
    "#geo = api.reverse_geocode(lat=\"4.710989\", long=\"-74.072090\", granularity=\"country\")\n",
    "places = api.geo_search(query=\"'Estados%20unidos'\",granularity=\"country\", country_code='US', country=\"Estados Unidos\")"
   ]
  },
  {
   "cell_type": "code",
   "execution_count": 33,
   "metadata": {},
   "outputs": [
    {
     "data": {
      "text/plain": [
       "[Place(_api=<tweepy.api.API object at 0x10e84e128>, id='96683cc9126741d1', url='https://api.twitter.com/1.1/geo/id/96683cc9126741d1.json', place_type='country', name='Estados Unidos', full_name='Estados Unidos', country_code='US', country='Estados Unidos', contained_within=[], centroid=[-98.99308143101959, 36.890333500000004], bounding_box=BoundingBox(_api=<tweepy.api.API object at 0x10e84e128>, type='Polygon', coordinates=[[[-179.231086, 13.182335], [-179.231086, 71.434357], [179.859685, 71.434357], [179.859685, 13.182335], [-179.231086, 13.182335]]]), attributes={}),\n",
       " Place(_api=<tweepy.api.API object at 0x10e84e128>, id='d1531c51dd2bc3a4', url='https://api.twitter.com/1.1/geo/id/d1531c51dd2bc3a4.json', place_type='country', name='Estados Federados de Micronesia', full_name='Estados Federados de Micronesia', country_code='FM', country='Estados Federados de Micronesia', contained_within=[], centroid=[158.24010526981226, 6.8866590500000004], bounding_box=BoundingBox(_api=<tweepy.api.API object at 0x10e84e128>, type='Polygon', coordinates=[[[138.0546753, 5.2588141], [138.0546753, 11.6742404], [163.0356302, 11.6742404], [163.0356302, 5.2588141], [138.0546753, 5.2588141]]]), attributes={}),\n",
       " Place(_api=<tweepy.api.API object at 0x10e84e128>, id='08fbcf4cbc4bc5b9', url='https://api.twitter.com/1.1/geo/id/08fbcf4cbc4bc5b9.json', place_type='country', name='Islas Ultramarinas Menores de Estados Unidos', full_name='Islas Ultramarinas Menores de Estados Unidos', country_code='UM', country='Islas Ultramarinas Menores de Estados Unidos', contained_within=[], centroid=[-162.75338903542462, 6.2126946499999995], bounding_box=BoundingBox(_api=<tweepy.api.API object at 0x10e84e128>, type='Polygon', coordinates=[[[-177.3967777, -0.3807833], [-177.3967777, 28.2196605], [166.657445, 28.2196605], [166.657445, -0.3807833], [-177.3967777, -0.3807833]]]), attributes={})]"
      ]
     },
     "execution_count": 33,
     "metadata": {},
     "output_type": "execute_result"
    }
   ],
   "source": [
    "places"
   ]
  },
  {
   "cell_type": "code",
   "execution_count": 152,
   "metadata": {},
   "outputs": [],
   "source": [
    "geocode = \"{},{},600km\".format(places[0].centroid[1], places[0].centroid[0])"
   ]
  },
  {
   "cell_type": "code",
   "execution_count": 5,
   "metadata": {},
   "outputs": [],
   "source": [
    "#tweets = api.search(q = 'colombia', geocode = geocode, count=3000)\n",
    "tweets = api.search(q = '#abortips')"
   ]
  },
  {
   "cell_type": "code",
   "execution_count": 6,
   "metadata": {},
   "outputs": [
    {
     "data": {
      "text/plain": [
       "[]"
      ]
     },
     "execution_count": 6,
     "metadata": {},
     "output_type": "execute_result"
    }
   ],
   "source": [
    "tweets"
   ]
  },
  {
   "cell_type": "code",
   "execution_count": 155,
   "metadata": {},
   "outputs": [
    {
     "data": {
      "text/plain": [
       "90"
      ]
     },
     "execution_count": 155,
     "metadata": {},
     "output_type": "execute_result"
    }
   ],
   "source": [
    "len(tweets)"
   ]
  },
  {
   "cell_type": "code",
   "execution_count": null,
   "metadata": {},
   "outputs": [],
   "source": []
  }
 ],
 "metadata": {
  "kernelspec": {
   "display_name": "Python 3",
   "language": "python",
   "name": "python3"
  },
  "language_info": {
   "codemirror_mode": {
    "name": "ipython",
    "version": 3
   },
   "file_extension": ".py",
   "mimetype": "text/x-python",
   "name": "python",
   "nbconvert_exporter": "python",
   "pygments_lexer": "ipython3",
   "version": "3.7.4"
  }
 },
 "nbformat": 4,
 "nbformat_minor": 2
}
