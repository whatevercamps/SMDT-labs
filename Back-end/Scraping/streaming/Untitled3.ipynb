{
 "cells": [
  {
   "cell_type": "code",
   "execution_count": 44,
   "metadata": {},
   "outputs": [],
   "source": [
    "import tweepy\n",
    "import pandas as pd"
   ]
  },
  {
   "cell_type": "code",
   "execution_count": 3,
   "metadata": {},
   "outputs": [],
   "source": [
    "token = '1040981370-TlnLFX9E6IdhobaSKzCYXRv0PTLmOQ5kY6OtdPw'\n",
    "token_secret = 'nCsrtMcwqvLsI5l1DrC5joFGi7U0dpk7ja6brnzsFX6BR'\n",
    "consumer_key = 'amCXTgnly8fJEx8ChttQjC2cD'\n",
    "consumer_secret = 'CLMue2eoZVr0jxJcrDVgEeSIMepeguKHdELz1MlPSmIlXcMsgl'"
   ]
  },
  {
   "cell_type": "code",
   "execution_count": 4,
   "metadata": {},
   "outputs": [],
   "source": [
    "auth = tweepy.OAuthHandler(consumer_key, consumer_secret)\n",
    "auth.set_access_token(token, token_secret)"
   ]
  },
  {
   "cell_type": "code",
   "execution_count": 5,
   "metadata": {},
   "outputs": [],
   "source": [
    "api = tweepy.API(auth)"
   ]
  },
  {
   "cell_type": "code",
   "execution_count": 57,
   "metadata": {},
   "outputs": [],
   "source": [
    "class MyStreamListener(tweepy.StreamListener):\n",
    "    count = 0\n",
    "    tweets = []\n",
    "    def on_status(self, status):\n",
    "        print(self.count)\n",
    "        self.tweets.append(status.text)\n",
    "        self.count +=1\n",
    "        if self.count >= 15:\n",
    "            print(\"mayor\")\n",
    "            return False\n",
    "        \n",
    "    def return_data(self):\n",
    "        return self.tweets, self.count"
   ]
  },
  {
   "cell_type": "code",
   "execution_count": 58,
   "metadata": {},
   "outputs": [],
   "source": [
    "myStreamListener = MyStreamListener()\n",
    "myStream = tweepy.Stream(auth = api.auth, listener=myStreamListener)"
   ]
  },
  {
   "cell_type": "code",
   "execution_count": 59,
   "metadata": {},
   "outputs": [
    {
     "name": "stdout",
     "output_type": "stream",
     "text": [
      "0\n",
      "1\n",
      "2\n",
      "3\n",
      "4\n",
      "5\n",
      "6\n",
      "7\n",
      "8\n",
      "9\n",
      "10\n",
      "11\n",
      "12\n",
      "13\n",
      "14\n",
      "mayor\n"
     ]
    }
   ],
   "source": [
    "myStream.filter(track=[' condon ', ' DIU ', ' embarazo ', ' pastillas anticonceptivas '])"
   ]
  },
  {
   "cell_type": "code",
   "execution_count": 60,
   "metadata": {},
   "outputs": [],
   "source": [
    "tweets, count = myStreamListener.return_data()"
   ]
  },
  {
   "cell_type": "code",
   "execution_count": 66,
   "metadata": {},
   "outputs": [
    {
     "data": {
      "text/plain": [
       "'Un estudio de Mayo Clinic reveló cuáles son los efectos en tu cuerpo cuando dejas la pastilla. ¡Toma nota! \\n\\nhttps://t.co/SyueB28QYS'"
      ]
     },
     "execution_count": 66,
     "metadata": {},
     "output_type": "execute_result"
    }
   ],
   "source": [
    "tweets[7]"
   ]
  },
  {
   "cell_type": "code",
   "execution_count": null,
   "metadata": {},
   "outputs": [],
   "source": []
  }
 ],
 "metadata": {
  "kernelspec": {
   "display_name": "Python 3",
   "language": "python",
   "name": "python3"
  },
  "language_info": {
   "codemirror_mode": {
    "name": "ipython",
    "version": 3
   },
   "file_extension": ".py",
   "mimetype": "text/x-python",
   "name": "python",
   "nbconvert_exporter": "python",
   "pygments_lexer": "ipython3",
   "version": "3.7.4"
  }
 },
 "nbformat": 4,
 "nbformat_minor": 2
}
