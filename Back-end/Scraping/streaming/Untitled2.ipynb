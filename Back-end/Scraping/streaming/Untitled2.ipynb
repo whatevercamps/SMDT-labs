{
 "cells": [
  {
   "cell_type": "code",
   "execution_count": 88,
   "metadata": {},
   "outputs": [],
   "source": [
    "import tweepy\n",
    "import pandas as pd\n",
    "import pymongo\n",
    "import json"
   ]
  },
  {
   "cell_type": "code",
   "execution_count": 71,
   "metadata": {},
   "outputs": [],
   "source": [
    "# MongoDB Client config\n",
    "client = pymongo.MongoClient(\"mongodb://54.90.49.105:27017\", username='rw_admin_smdt', password='unfpa_2020_buhodermia_82%', authSource=\"smdt\")\n",
    "db = client[\"smdt\"]\n",
    "queries_collection = db['queries']\n",
    "tweets_collection = db['tweets']"
   ]
  },
  {
   "cell_type": "code",
   "execution_count": 72,
   "metadata": {},
   "outputs": [],
   "source": [
    "# Twitter API config\n",
    "token = '1040981370-TlnLFX9E6IdhobaSKzCYXRv0PTLmOQ5kY6OtdPw'\n",
    "token_secret = 'nCsrtMcwqvLsI5l1DrC5joFGi7U0dpk7ja6brnzsFX6BR'\n",
    "consumer_key = 'amCXTgnly8fJEx8ChttQjC2cD'\n",
    "consumer_secret = 'CLMue2eoZVr0jxJcrDVgEeSIMepeguKHdELz1MlPSmIlXcMsgl'"
   ]
  },
  {
   "cell_type": "code",
   "execution_count": 73,
   "metadata": {},
   "outputs": [],
   "source": [
    "auth = tweepy.OAuthHandler(consumer_key, consumer_secret)\n",
    "auth.set_access_token(token, token_secret)"
   ]
  },
  {
   "cell_type": "code",
   "execution_count": 74,
   "metadata": {},
   "outputs": [],
   "source": [
    "api = tweepy.API(auth)"
   ]
  },
  {
   "cell_type": "code",
   "execution_count": null,
   "metadata": {},
   "outputs": [],
   "source": [
    "class Listener(StreamListener):\n",
    "\n",
    "      1 == 1;\n",
    "\n",
    "class ListenerChild(Listener):\n",
    "    \n",
    "    def __init__(self,api,producer):\n",
    "        self.count = 0;\n",
    "        self.tweets= [];\n",
    "        super().__init__(api)\n",
    "\n",
    "    def on_data(self, data):\n",
    "        j = json.loads(data)\n",
    "        try:\n",
    "            if j['geo'] is not None:\n",
    "                tt = parseTweet(j)\n",
    "                logging.info(tt)\n",
    "                logging.info (tt)\n",
    "                self.producer.send('tweets', bytearray(tt,'utf-8'))\n",
    "        except KeyError:\n",
    "            logging.info (\"rate limited\" + date.today().strftime('%Y-%m-%d %H:%M:%S'))"
   ]
  },
  {
   "cell_type": "code",
   "execution_count": 89,
   "metadata": {},
   "outputs": [],
   "source": [
    "class Listener(tweepy.StreamListener):\n",
    "    def __init__(self):\n",
    "        super(Listener,self).__init__()\n",
    "        self.count = 0\n",
    "        self.tweets = []\n",
    "    def on_status(self, status):\n",
    "        self.tweets.append(status.text)\n",
    "        self.count +=1\n",
    "        print(status.text)\n",
    "    def on_data(self, data):\n",
    "        j = json.loads(data)\n",
    "        self.tweets.append(j)\n",
    "        self.count +=1\n",
    "        print(j)\n",
    "    def on_error(self, status_code):\n",
    "        print(status_code)\n",
    "        return False\n",
    "    def return_data(self):\n",
    "        return self.tweets, self.count"
   ]
  },
  {
   "cell_type": "code",
   "execution_count": 76,
   "metadata": {},
   "outputs": [],
   "source": [
    "class MyStreamListener(tweepy.StreamListener):\n",
    "    count = 0\n",
    "    tweets = []\n",
    "    def on_status(self, status):\n",
    "        print(self.count)\n",
    "        self.tweets.append(status.text)\n",
    "        self.count +=1\n",
    "        if self.count >= 15:\n",
    "            print(\"mayor\")\n",
    "            return False"
   ]
  },
  {
   "cell_type": "code",
   "execution_count": 84,
   "metadata": {},
   "outputs": [
    {
     "name": "stdout",
     "output_type": "stream",
     "text": [
      "['efectividad AND embarazo', 'ajuste AND embarazo', 'embarazo AND secundario AND toma', 'asistir AND embarazo AND entidad', 'embarazada AND embarazo', 'deseado AND embarazo AND metodo', 'ajuste AND embarazo AND salud', 'embarazo AND entidad AND salud', 'efecto AND embarazo AND hormonal', 'embarazo AND metodo AND tomar', 'duracion AND embarazo AND mes', 'ajuste AND deseado AND embarazo', 'embarazo AND hormonal AND mes', 'embarazo AND larga AND planeado', 'efectividad AND embarazo AND mes', 'embarazo AND hormonal AND toma', 'embarazada AND embarazo AND mes', 'embarazo AND regular', 'deseado AND embarazo AND larga', 'embarazo AND entidad', 'embarazo AND mes AND regular', 'embarazo AND mes', 'embarazo AND entidad AND medica', 'doble AND embarazo AND larga', 'embarazo AND mes AND metodo', 'embarazo AND intrauterino', 'embarazo AND recomiendo', 'barrera AND embarazo AND larga', 'deseado AND embarazo', 'diu AND duracion AND embarazo', 'ajuste AND embarazo AND recibir', 'embarazo AND toma AND tomar', 'embarazo AND larga', 'embarazo AND planeado', 'embarazo AND metodo AND toma', 'embarazo AND regular AND tomar', 'embarazo AND regular AND toma', 'doble AND embarazo AND planeado', 'duracion AND embarazo', 'embarazo AND evita AND planeado', 'embarazo AND toma', 'embarazo AND mes AND recomiendo', 'doble AND duracion AND embarazo', 'embarazo AND metodo AND regular', 'embarazo AND hormonal', 'embarazo AND pildora AND toma', 'embarazo AND entidad AND metodo', 'embarazo AND mes AND periodo', 'embarazo AND metodo', 'diu AND embarazada AND embarazo', 'embarazo AND mes AND secundario']\n"
     ]
    }
   ],
   "source": [
    "queries = queries_collection.find({})\n",
    "queries_l = [q[\"name\"].replace(\"-\", \" \") for q in queries]\n",
    "print(str(queries_l))"
   ]
  },
  {
   "cell_type": "code",
   "execution_count": 90,
   "metadata": {},
   "outputs": [
    {
     "name": "stdout",
     "output_type": "stream",
     "text": [
      "Start streaming.\n",
      "{'created_at': 'Mon Jun 01 19:39:46 +0000 2020', 'id': 1267541367015825409, 'id_str': '1267541367015825409', 'text': '@jessicabrisso11 Listo voy para esa', 'display_text_range': [17, 35], 'source': '<a href=\"http://twitter.com/download/android\" rel=\"nofollow\">Twitter for Android</a>', 'truncated': False, 'in_reply_to_status_id': 1267541282827784192, 'in_reply_to_status_id_str': '1267541282827784192', 'in_reply_to_user_id': 1173931483532288002, 'in_reply_to_user_id_str': '1173931483532288002', 'in_reply_to_screen_name': 'jessicabrisso11', 'user': {'id': 193525934, 'id_str': '193525934', 'name': 'Toño Mojica Mercado LBO', 'screen_name': 'mamojica19', 'location': 'Valledupar', 'url': 'http://Instagram.com/Mamojica24', 'description': 'Siempre de la mano de Dios ..Papá,Mamá y mis hermanos ❤', 'translator_type': 'none', 'protected': False, 'verified': False, 'followers_count': 3777, 'friends_count': 3417, 'listed_count': 15, 'favourites_count': 70510, 'statuses_count': 255756, 'created_at': 'Wed Sep 22 01:23:04 +0000 2010', 'utc_offset': None, 'time_zone': None, 'geo_enabled': True, 'lang': None, 'contributors_enabled': False, 'is_translator': False, 'profile_background_color': 'C6E2EE', 'profile_background_image_url': 'http://abs.twimg.com/images/themes/theme2/bg.gif', 'profile_background_image_url_https': 'https://abs.twimg.com/images/themes/theme2/bg.gif', 'profile_background_tile': True, 'profile_link_color': '1F98C7', 'profile_sidebar_border_color': '000000', 'profile_sidebar_fill_color': 'DAECF4', 'profile_text_color': '663B12', 'profile_use_background_image': True, 'profile_image_url': 'http://pbs.twimg.com/profile_images/1264369677431603201/pYNdVtN1_normal.jpg', 'profile_image_url_https': 'https://pbs.twimg.com/profile_images/1264369677431603201/pYNdVtN1_normal.jpg', 'profile_banner_url': 'https://pbs.twimg.com/profile_banners/193525934/1545615449', 'default_profile': False, 'default_profile_image': False, 'following': None, 'follow_request_sent': None, 'notifications': None}, 'geo': None, 'coordinates': None, 'place': {'id': '012d9a8d4001c284', 'url': 'https://api.twitter.com/1.1/geo/id/012d9a8d4001c284.json', 'place_type': 'city', 'name': 'Valledupar', 'full_name': 'Valledupar, Colombia', 'country_code': 'CO', 'country': 'Colombia', 'bounding_box': {'type': 'Polygon', 'coordinates': [[[-73.857183, 9.793337], [-73.857183, 10.855564], [-73.069389, 10.855564], [-73.069389, 9.793337]]]}, 'attributes': {}}, 'contributors': None, 'is_quote_status': False, 'quote_count': 0, 'reply_count': 0, 'retweet_count': 0, 'favorite_count': 0, 'entities': {'hashtags': [], 'urls': [], 'user_mentions': [{'screen_name': 'jessicabrisso11', 'name': 'Jess✨', 'id': 1173931483532288002, 'id_str': '1173931483532288002', 'indices': [0, 16]}], 'symbols': []}, 'favorited': False, 'retweeted': False, 'filter_level': 'low', 'lang': 'es', 'timestamp_ms': '1591040386333'}\n",
      "{'created_at': 'Mon Jun 01 19:39:46 +0000 2020', 'id': 1267541368961892353, 'id_str': '1267541368961892353', 'text': 'Que ganas de volver a los parches de río💔', 'source': '<a href=\"http://twitter.com/download/android\" rel=\"nofollow\">Twitter for Android</a>', 'truncated': False, 'in_reply_to_status_id': None, 'in_reply_to_status_id_str': None, 'in_reply_to_user_id': None, 'in_reply_to_user_id_str': None, 'in_reply_to_screen_name': None, 'user': {'id': 408786482, 'id_str': '408786482', 'name': 'Valeria🌻', 'screen_name': 'valeriagirald13', 'location': 'Rionegro, Colombia', 'url': None, 'description': '🌈🌟🌏\\nInstagram: valeriagiraldo10', 'translator_type': 'none', 'protected': False, 'verified': False, 'followers_count': 525, 'friends_count': 550, 'listed_count': 0, 'favourites_count': 6827, 'statuses_count': 2568, 'created_at': 'Wed Nov 09 21:56:03 +0000 2011', 'utc_offset': None, 'time_zone': None, 'geo_enabled': True, 'lang': None, 'contributors_enabled': False, 'is_translator': False, 'profile_background_color': '33B8A2', 'profile_background_image_url': 'http://abs.twimg.com/images/themes/theme18/bg.gif', 'profile_background_image_url_https': 'https://abs.twimg.com/images/themes/theme18/bg.gif', 'profile_background_tile': True, 'profile_link_color': '284033', 'profile_sidebar_border_color': 'FFFFFF', 'profile_sidebar_fill_color': '252429', 'profile_text_color': '666666', 'profile_use_background_image': True, 'profile_image_url': 'http://pbs.twimg.com/profile_images/1182360714239008769/RYWb05vd_normal.jpg', 'profile_image_url_https': 'https://pbs.twimg.com/profile_images/1182360714239008769/RYWb05vd_normal.jpg', 'profile_banner_url': 'https://pbs.twimg.com/profile_banners/408786482/1576644750', 'default_profile': False, 'default_profile_image': False, 'following': None, 'follow_request_sent': None, 'notifications': None}, 'geo': None, 'coordinates': None, 'place': {'id': '0057cf92684f8d26', 'url': 'https://api.twitter.com/1.1/geo/id/0057cf92684f8d26.json', 'place_type': 'city', 'name': 'Rionegro', 'full_name': 'Rionegro, Colombia', 'country_code': 'CO', 'country': 'Colombia', 'bounding_box': {'type': 'Polygon', 'coordinates': [[[-75.522113, 6.054155], [-75.522113, 6.236076], [-75.341714, 6.236076], [-75.341714, 6.054155]]]}, 'attributes': {}}, 'contributors': None, 'is_quote_status': False, 'quote_count': 0, 'reply_count': 0, 'retweet_count': 0, 'favorite_count': 0, 'entities': {'hashtags': [], 'urls': [], 'user_mentions': [], 'symbols': []}, 'favorited': False, 'retweeted': False, 'filter_level': 'low', 'lang': 'es', 'timestamp_ms': '1591040386797'}\n",
      "{'created_at': 'Mon Jun 01 19:39:46 +0000 2020', 'id': 1267541369595273216, 'id_str': '1267541369595273216', 'text': 'Cuándo el número de empleados supera el círculo de influencia de su fundador, la cultura se vuelve un código abiert… https://t.co/wJkftCpE2l', 'source': '<a href=\"http://twitter.com/download/iphone\" rel=\"nofollow\">Twitter for iPhone</a>', 'truncated': True, 'in_reply_to_status_id': None, 'in_reply_to_status_id_str': None, 'in_reply_to_user_id': None, 'in_reply_to_user_id_str': None, 'in_reply_to_screen_name': None, 'user': {'id': 320231823, 'id_str': '320231823', 'name': 'Jose Miguel Caro', 'screen_name': 'jmcarolasso', 'location': 'Bogotá, D.C., Colombia', 'url': 'https://www.linkedin.com/in/jose-miguel-caro-lasso-38a81534/', 'description': 'Chief Happiness Officer en @plurum. Consultor, Speaker, Experto en Experiencia al Empleado. La Vida en Acción 🏃🏽\\u200d♂️👨🏽\\u200d💻🎤', 'translator_type': 'none', 'protected': False, 'verified': False, 'followers_count': 965, 'friends_count': 699, 'listed_count': 29, 'favourites_count': 3231, 'statuses_count': 2790, 'created_at': 'Sun Jun 19 15:05:06 +0000 2011', 'utc_offset': None, 'time_zone': None, 'geo_enabled': True, 'lang': None, 'contributors_enabled': False, 'is_translator': False, 'profile_background_color': 'C0DEED', 'profile_background_image_url': 'http://abs.twimg.com/images/themes/theme1/bg.png', 'profile_background_image_url_https': 'https://abs.twimg.com/images/themes/theme1/bg.png', 'profile_background_tile': False, 'profile_link_color': '1DA1F2', 'profile_sidebar_border_color': 'C0DEED', 'profile_sidebar_fill_color': 'DDEEF6', 'profile_text_color': '333333', 'profile_use_background_image': True, 'profile_image_url': 'http://pbs.twimg.com/profile_images/1177973516509106176/HH6P0CDN_normal.jpg', 'profile_image_url_https': 'https://pbs.twimg.com/profile_images/1177973516509106176/HH6P0CDN_normal.jpg', 'profile_banner_url': 'https://pbs.twimg.com/profile_banners/320231823/1569685747', 'default_profile': True, 'default_profile_image': False, 'following': None, 'follow_request_sent': None, 'notifications': None}, 'geo': None, 'coordinates': None, 'place': {'id': '011b60bc40869639', 'url': 'https://api.twitter.com/1.1/geo/id/011b60bc40869639.json', 'place_type': 'city', 'name': 'Cajicá', 'full_name': 'Cajicá, Colombia', 'country_code': 'CO', 'country': 'Colombia', 'bounding_box': {'type': 'Polygon', 'coordinates': [[[-74.094185, 4.860285], [-74.094185, 4.958987], [-74.003342, 4.958987], [-74.003342, 4.860285]]]}, 'attributes': {}}, 'contributors': None, 'is_quote_status': False, 'extended_tweet': {'full_text': 'Cuándo el número de empleados supera el círculo de influencia de su fundador, la cultura se vuelve un código abierto y quienes viven allí la podrán reescribir cuantas veces se necesite. En este nuevo escenario se necesitan empleados que definan la nueva cultura. @plurum @aro1975', 'display_text_range': [0, 279], 'entities': {'hashtags': [], 'urls': [], 'user_mentions': [{'screen_name': 'Plurum', 'name': 'Plurum Consultores', 'id': 1226161896, 'id_str': '1226161896', 'indices': [263, 270]}, {'screen_name': 'aro1975', 'name': 'Andres Ramirez O', 'id': 376326913, 'id_str': '376326913', 'indices': [271, 279]}], 'symbols': []}}, 'quote_count': 0, 'reply_count': 0, 'retweet_count': 0, 'favorite_count': 0, 'entities': {'hashtags': [], 'urls': [{'url': 'https://t.co/wJkftCpE2l', 'expanded_url': 'https://twitter.com/i/web/status/1267541369595273216', 'display_url': 'twitter.com/i/web/status/1…', 'indices': [117, 140]}], 'user_mentions': [], 'symbols': []}, 'favorited': False, 'retweeted': False, 'filter_level': 'low', 'lang': 'es', 'timestamp_ms': '1591040386948'}\n"
     ]
    },
    {
     "name": "stdout",
     "output_type": "stream",
     "text": [
      "{'created_at': 'Mon Jun 01 19:39:47 +0000 2020', 'id': 1267541370207690761, 'id_str': '1267541370207690761', 'text': 'Lo dije hace unos días y lo repito, @NiteshMayani debe responder solidariamente por este robo, a este tipo hay que… https://t.co/GwQYWSpwTU', 'source': '<a href=\"http://twitter.com/download/android\" rel=\"nofollow\">Twitter for Android</a>', 'truncated': True, 'in_reply_to_status_id': None, 'in_reply_to_status_id_str': None, 'in_reply_to_user_id': None, 'in_reply_to_user_id_str': None, 'in_reply_to_screen_name': None, 'user': {'id': 359927986, 'id_str': '359927986', 'name': 'Mario Góngora M.', 'screen_name': 'mgongoram', 'location': 'Panama', 'url': None, 'description': 'Hablo de política y otras cosas.', 'translator_type': 'none', 'protected': False, 'verified': False, 'followers_count': 7643, 'friends_count': 7539, 'listed_count': 3, 'favourites_count': 9354, 'statuses_count': 36978, 'created_at': 'Mon Aug 22 12:05:19 +0000 2011', 'utc_offset': None, 'time_zone': None, 'geo_enabled': True, 'lang': None, 'contributors_enabled': False, 'is_translator': False, 'profile_background_color': 'C0DEED', 'profile_background_image_url': 'http://abs.twimg.com/images/themes/theme1/bg.png', 'profile_background_image_url_https': 'https://abs.twimg.com/images/themes/theme1/bg.png', 'profile_background_tile': False, 'profile_link_color': '1DA1F2', 'profile_sidebar_border_color': 'C0DEED', 'profile_sidebar_fill_color': 'DDEEF6', 'profile_text_color': '333333', 'profile_use_background_image': True, 'profile_image_url': 'http://pbs.twimg.com/profile_images/1253759401997017088/VILnlbUP_normal.jpg', 'profile_image_url_https': 'https://pbs.twimg.com/profile_images/1253759401997017088/VILnlbUP_normal.jpg', 'profile_banner_url': 'https://pbs.twimg.com/profile_banners/359927986/1587754511', 'default_profile': True, 'default_profile_image': False, 'following': None, 'follow_request_sent': None, 'notifications': None}, 'geo': None, 'coordinates': None, 'place': {'id': '9d8ae4b0fac2036a', 'url': 'https://api.twitter.com/1.1/geo/id/9d8ae4b0fac2036a.json', 'place_type': 'country', 'name': 'Panamá', 'full_name': 'Panamá', 'country_code': 'PA', 'country': 'Panamá', 'bounding_box': {'type': 'Polygon', 'coordinates': [[[-83.051445, 7.20386], [-83.051445, 9.639486], [-77.13939, 9.639486], [-77.13939, 7.20386]]]}, 'attributes': {}}, 'contributors': None, 'quoted_status_id': 1267467060721958917, 'quoted_status_id_str': '1267467060721958917', 'quoted_status': {'created_at': 'Mon Jun 01 14:44:30 +0000 2020', 'id': 1267467060721958917, 'id_str': '1267467060721958917', 'text': 'Una alerta de Google, en la que se mencionaba el nombre de su empresas en una licitación para construir un hospital… https://t.co/hsi5JTaeCP', 'source': '<a href=\"https://mobile.twitter.com\" rel=\"nofollow\">Twitter Web App</a>', 'truncated': True, 'in_reply_to_status_id': None, 'in_reply_to_status_id_str': None, 'in_reply_to_user_id': None, 'in_reply_to_user_id_str': None, 'in_reply_to_screen_name': None, 'user': {'id': 27011708, 'id_str': '27011708', 'name': 'La Prensa Panamá', 'screen_name': 'prensacom', 'location': 'Panamá', 'url': 'http://www.prensa.com', 'description': 'Entérate donde estés de las noticias más recientes y promociones exclusivas. También en: http://facebook.com/prensacom e http://instagram.com/prensacom', 'translator_type': 'none', 'protected': False, 'verified': True, 'followers_count': 531631, 'friends_count': 345, 'listed_count': 1709, 'favourites_count': 616, 'statuses_count': 333469, 'created_at': 'Fri Mar 27 14:17:05 +0000 2009', 'utc_offset': None, 'time_zone': None, 'geo_enabled': True, 'lang': None, 'contributors_enabled': False, 'is_translator': False, 'profile_background_color': '1A1B1F', 'profile_background_image_url': 'http://abs.twimg.com/images/themes/theme1/bg.png', 'profile_background_image_url_https': 'https://abs.twimg.com/images/themes/theme1/bg.png', 'profile_background_tile': False, 'profile_link_color': '0099CC', 'profile_sidebar_border_color': '000000', 'profile_sidebar_fill_color': '252429', 'profile_text_color': '7D7D7D', 'profile_use_background_image': True, 'profile_image_url': 'http://pbs.twimg.com/profile_images/1265652914552537092/bDak70G3_normal.jpg', 'profile_image_url_https': 'https://pbs.twimg.com/profile_images/1265652914552537092/bDak70G3_normal.jpg', 'profile_banner_url': 'https://pbs.twimg.com/profile_banners/27011708/1553291826', 'default_profile': False, 'default_profile_image': False, 'following': None, 'follow_request_sent': None, 'notifications': None}, 'geo': None, 'coordinates': None, 'place': None, 'contributors': None, 'is_quote_status': False, 'extended_tweet': {'full_text': 'Una alerta de Google, en la que se mencionaba el nombre de su empresas en una licitación para construir un hospital modular en Panamá, lo sorprendió. https://t.co/MUx94hzxaW', 'display_text_range': [0, 173], 'entities': {'hashtags': [], 'urls': [{'url': 'https://t.co/MUx94hzxaW', 'expanded_url': 'https://www.prensa.com/sociedad/turmaks-cotizo-para-colombia-pero-su-oferta-termino-en-la-licitacion-del-hospital-de-albrook/', 'display_url': 'prensa.com/sociedad/turma…', 'indices': [150, 173]}], 'user_mentions': [], 'symbols': []}}, 'quote_count': 16, 'reply_count': 16, 'retweet_count': 80, 'favorite_count': 89, 'entities': {'hashtags': [], 'urls': [{'url': 'https://t.co/hsi5JTaeCP', 'expanded_url': 'https://twitter.com/i/web/status/1267467060721958917', 'display_url': 'twitter.com/i/web/status/1…', 'indices': [117, 140]}], 'user_mentions': [], 'symbols': []}, 'favorited': False, 'retweeted': False, 'possibly_sensitive': False, 'filter_level': 'low', 'lang': 'es'}, 'quoted_status_permalink': {'url': 'https://t.co/ffxE1ImhOD', 'expanded': 'https://twitter.com/prensacom/status/1267467060721958917', 'display': 'twitter.com/prensacom/stat…'}, 'is_quote_status': True, 'extended_tweet': {'full_text': 'Lo dije hace unos días y lo repito, @NiteshMayani debe responder solidariamente por este robo, a este tipo hay que investigarlo y si se determina que hubo asociación ilícita para delinquir y robarle al pueblo de Panamá debe ir preso.', 'display_text_range': [0, 233], 'entities': {'hashtags': [], 'urls': [], 'user_mentions': [{'screen_name': 'NiteshMayani', 'name': 'Nitesh Mayani', 'id': 112574014, 'id_str': '112574014', 'indices': [36, 49]}], 'symbols': []}}, 'quote_count': 0, 'reply_count': 0, 'retweet_count': 0, 'favorite_count': 0, 'entities': {'hashtags': [], 'urls': [{'url': 'https://t.co/GwQYWSpwTU', 'expanded_url': 'https://twitter.com/i/web/status/1267541370207690761', 'display_url': 'twitter.com/i/web/status/1…', 'indices': [116, 139]}], 'user_mentions': [{'screen_name': 'NiteshMayani', 'name': 'Nitesh Mayani', 'id': 112574014, 'id_str': '112574014', 'indices': [36, 49]}], 'symbols': []}, 'favorited': False, 'retweeted': False, 'filter_level': 'low', 'lang': 'es', 'timestamp_ms': '1591040387094'}\n",
      "{'created_at': 'Mon Jun 01 19:39:47 +0000 2020', 'id': 1267541370518069251, 'id_str': '1267541370518069251', 'text': '@RAMIMAR098 Esa eres tú realmente mi negrita', 'display_text_range': [12, 44], 'source': '<a href=\"http://twitter.com/download/android\" rel=\"nofollow\">Twitter for Android</a>', 'truncated': False, 'in_reply_to_status_id': 1267541105672949760, 'in_reply_to_status_id_str': '1267541105672949760', 'in_reply_to_user_id': 1246136414665916416, 'in_reply_to_user_id_str': '1246136414665916416', 'in_reply_to_screen_name': 'RAMIMAR098', 'user': {'id': 1403654592, 'id_str': '1403654592', 'name': 'Alex runner', 'screen_name': 'Magodragon69', 'location': 'Venezuela', 'url': None, 'description': 'Trabajador,luchador y amo la costa ..practicante del trail runner..practicante CRP ..ventas al mayor de repuesto automotriz ...', 'translator_type': 'none', 'protected': False, 'verified': False, 'followers_count': 197, 'friends_count': 675, 'listed_count': 0, 'favourites_count': 4930, 'statuses_count': 2504, 'created_at': 'Sun May 05 00:03:18 +0000 2013', 'utc_offset': None, 'time_zone': None, 'geo_enabled': True, 'lang': None, 'contributors_enabled': False, 'is_translator': False, 'profile_background_color': '000000', 'profile_background_image_url': 'http://abs.twimg.com/images/themes/theme8/bg.gif', 'profile_background_image_url_https': 'https://abs.twimg.com/images/themes/theme8/bg.gif', 'profile_background_tile': False, 'profile_link_color': '1B95E0', 'profile_sidebar_border_color': '000000', 'profile_sidebar_fill_color': '000000', 'profile_text_color': '000000', 'profile_use_background_image': False, 'profile_image_url': 'http://pbs.twimg.com/profile_images/1005034117849845760/msIv8BEQ_normal.jpg', 'profile_image_url_https': 'https://pbs.twimg.com/profile_images/1005034117849845760/msIv8BEQ_normal.jpg', 'profile_banner_url': 'https://pbs.twimg.com/profile_banners/1403654592/1528453875', 'default_profile': False, 'default_profile_image': False, 'following': None, 'follow_request_sent': None, 'notifications': None}, 'geo': None, 'coordinates': None, 'place': {'id': '0198c6f108778b40', 'url': 'https://api.twitter.com/1.1/geo/id/0198c6f108778b40.json', 'place_type': 'city', 'name': 'Maracay', 'full_name': 'Maracay, Venezuela', 'country_code': 'VE', 'country': 'Venezuela', 'bounding_box': {'type': 'Polygon', 'coordinates': [[[-67.67456, 10.202531], [-67.67456, 10.328137], [-67.542106, 10.328137], [-67.542106, 10.202531]]]}, 'attributes': {}}, 'contributors': None, 'is_quote_status': False, 'quote_count': 0, 'reply_count': 0, 'retweet_count': 0, 'favorite_count': 0, 'entities': {'hashtags': [], 'urls': [], 'user_mentions': [{'screen_name': 'RAMIMAR098', 'name': 'la mala del tuy', 'id': 1246136414665916416, 'id_str': '1246136414665916416', 'indices': [0, 11]}], 'symbols': []}, 'favorited': False, 'retweeted': False, 'filter_level': 'low', 'lang': 'es', 'timestamp_ms': '1591040387168'}\n",
      "{'created_at': 'Mon Jun 01 19:39:47 +0000 2020', 'id': 1267541370652286979, 'id_str': '1267541370652286979', 'text': '@sanvalgo @ClaudiaLopez Es costumbre de los izquierdosos decir mentiras y la gallina clueca de la López pues peor,… https://t.co/9XFN03Tlpf', 'display_text_range': [24, 140], 'source': '<a href=\"http://twitter.com/download/android\" rel=\"nofollow\">Twitter for Android</a>', 'truncated': True, 'in_reply_to_status_id': 1267508098253684736, 'in_reply_to_status_id_str': '1267508098253684736', 'in_reply_to_user_id': 93681558, 'in_reply_to_user_id_str': '93681558', 'in_reply_to_screen_name': 'sanvalgo', 'user': {'id': 715531309, 'id_str': '715531309', 'name': 'Esperanza_selon', 'screen_name': 'esperanza2277', 'location': 'Colombia', 'url': None, 'description': \"Tus acciones son reflejos de tus valores.  ''Nunca cedas ante el mal, sino combátelo con mayor audacia”\\n- Acá sólo caminamos en la derecha!\", 'translator_type': 'none', 'protected': False, 'verified': False, 'followers_count': 603, 'friends_count': 385, 'listed_count': 1, 'favourites_count': 22837, 'statuses_count': 36147, 'created_at': 'Wed Jul 25 05:25:21 +0000 2012', 'utc_offset': None, 'time_zone': None, 'geo_enabled': True, 'lang': None, 'contributors_enabled': False, 'is_translator': False, 'profile_background_color': 'C0DEED', 'profile_background_image_url': 'http://abs.twimg.com/images/themes/theme1/bg.png', 'profile_background_image_url_https': 'https://abs.twimg.com/images/themes/theme1/bg.png', 'profile_background_tile': False, 'profile_link_color': '1DA1F2', 'profile_sidebar_border_color': 'C0DEED', 'profile_sidebar_fill_color': 'DDEEF6', 'profile_text_color': '333333', 'profile_use_background_image': True, 'profile_image_url': 'http://pbs.twimg.com/profile_images/443827528432496640/idQu7sg4_normal.jpeg', 'profile_image_url_https': 'https://pbs.twimg.com/profile_images/443827528432496640/idQu7sg4_normal.jpeg', 'profile_banner_url': 'https://pbs.twimg.com/profile_banners/715531309/1402503157', 'default_profile': True, 'default_profile_image': False, 'following': None, 'follow_request_sent': None, 'notifications': None}, 'geo': None, 'coordinates': None, 'place': {'id': '002129bd2622e876', 'url': 'https://api.twitter.com/1.1/geo/id/002129bd2622e876.json', 'place_type': 'city', 'name': 'Neiva', 'full_name': 'Neiva, Colombia', 'country_code': 'CO', 'country': 'Colombia', 'bounding_box': {'type': 'Polygon', 'coordinates': [[[-75.706143, 2.712253], [-75.706143, 3.26522], [-74.9384, 3.26522], [-74.9384, 2.712253]]]}, 'attributes': {}}, 'contributors': None, 'is_quote_status': False, 'extended_tweet': {'full_text': '@sanvalgo @ClaudiaLopez Es costumbre de los izquierdosos decir mentiras y la gallina clueca de la López pues peor, así se lo muestren sigue diciendo que es falso. La prepotencia de esta egocéntrica le está nublando la razón y el entendimiento. \\nBueno al fin y al cabo como cualquier gallina clueca.', 'display_text_range': [24, 298], 'entities': {'hashtags': [], 'urls': [], 'user_mentions': [{'screen_name': 'sanvalgo', 'name': 'Santiago Valencia G.', 'id': 93681558, 'id_str': '93681558', 'indices': [0, 9]}, {'screen_name': 'ClaudiaLopez', 'name': 'Claudia López 👍', 'id': 137908875, 'id_str': '137908875', 'indices': [10, 23]}], 'symbols': []}}, 'quote_count': 0, 'reply_count': 0, 'retweet_count': 0, 'favorite_count': 0, 'entities': {'hashtags': [], 'urls': [{'url': 'https://t.co/9XFN03Tlpf', 'expanded_url': 'https://twitter.com/i/web/status/1267541370652286979', 'display_url': 'twitter.com/i/web/status/1…', 'indices': [116, 139]}], 'user_mentions': [{'screen_name': 'sanvalgo', 'name': 'Santiago Valencia G.', 'id': 93681558, 'id_str': '93681558', 'indices': [0, 9]}, {'screen_name': 'ClaudiaLopez', 'name': 'Claudia López 👍', 'id': 137908875, 'id_str': '137908875', 'indices': [10, 23]}], 'symbols': []}, 'favorited': False, 'retweeted': False, 'filter_level': 'low', 'lang': 'es', 'timestamp_ms': '1591040387200'}\n"
     ]
    },
    {
     "name": "stdout",
     "output_type": "stream",
     "text": [
      "{'created_at': 'Mon Jun 01 19:39:48 +0000 2020', 'id': 1267541374221660161, 'id_str': '1267541374221660161', 'text': '@cirilibigiil Te voy a bloquear', 'display_text_range': [14, 31], 'source': '<a href=\"http://twitter.com/download/iphone\" rel=\"nofollow\">Twitter for iPhone</a>', 'truncated': False, 'in_reply_to_status_id': 1267540524313034753, 'in_reply_to_status_id_str': '1267540524313034753', 'in_reply_to_user_id': 1007035044416933889, 'in_reply_to_user_id_str': '1007035044416933889', 'in_reply_to_screen_name': 'cirilibigiil', 'user': {'id': 242980572, 'id_str': '242980572', 'name': 'Bruno Mars', 'screen_name': 'JorgeCordob', 'location': 'Planet Earth', 'url': 'http://www.instagram.com/jorgecordob', 'description': 'There’s always time for one more beer | Football player 🏈#13 | Future Filmaker🎬🇵🇦', 'translator_type': 'none', 'protected': False, 'verified': False, 'followers_count': 1217, 'friends_count': 834, 'listed_count': 5, 'favourites_count': 13217, 'statuses_count': 34555, 'created_at': 'Wed Jan 26 01:24:06 +0000 2011', 'utc_offset': None, 'time_zone': None, 'geo_enabled': True, 'lang': None, 'contributors_enabled': False, 'is_translator': False, 'profile_background_color': '1A1B1F', 'profile_background_image_url': 'http://abs.twimg.com/images/themes/theme9/bg.gif', 'profile_background_image_url_https': 'https://abs.twimg.com/images/themes/theme9/bg.gif', 'profile_background_tile': True, 'profile_link_color': '2FC2EF', 'profile_sidebar_border_color': 'FFFFFF', 'profile_sidebar_fill_color': '252429', 'profile_text_color': '666666', 'profile_use_background_image': True, 'profile_image_url': 'http://pbs.twimg.com/profile_images/936512179666333696/o-lREh3y_normal.jpg', 'profile_image_url_https': 'https://pbs.twimg.com/profile_images/936512179666333696/o-lREh3y_normal.jpg', 'profile_banner_url': 'https://pbs.twimg.com/profile_banners/242980572/1542780170', 'default_profile': False, 'default_profile_image': False, 'following': None, 'follow_request_sent': None, 'notifications': None}, 'geo': None, 'coordinates': None, 'place': {'id': '9d8ae4b0fac2036a', 'url': 'https://api.twitter.com/1.1/geo/id/9d8ae4b0fac2036a.json', 'place_type': 'country', 'name': 'Panamá', 'full_name': 'Panamá', 'country_code': 'PA', 'country': 'Panamá', 'bounding_box': {'type': 'Polygon', 'coordinates': [[[-83.051445, 7.20386], [-83.051445, 9.639486], [-77.13939, 9.639486], [-77.13939, 7.20386]]]}, 'attributes': {}}, 'contributors': None, 'is_quote_status': False, 'quote_count': 0, 'reply_count': 0, 'retweet_count': 0, 'favorite_count': 0, 'entities': {'hashtags': [], 'urls': [], 'user_mentions': [{'screen_name': 'cirilibigiil', 'name': 'Carol Abigail\\U0001f90d', 'id': 1007035044416933889, 'id_str': '1007035044416933889', 'indices': [0, 13]}], 'symbols': []}, 'favorited': False, 'retweeted': False, 'filter_level': 'low', 'lang': 'es', 'timestamp_ms': '1591040388051'}\n",
      "{'created_at': 'Mon Jun 01 19:39:48 +0000 2020', 'id': 1267541376545296386, 'id_str': '1267541376545296386', 'text': 'Señora yo le canto las mañanitas todos los días si quiere 🥺', 'source': '<a href=\"http://twitter.com/download/iphone\" rel=\"nofollow\">Twitter for iPhone</a>', 'truncated': False, 'in_reply_to_status_id': None, 'in_reply_to_status_id_str': None, 'in_reply_to_user_id': None, 'in_reply_to_user_id_str': None, 'in_reply_to_screen_name': None, 'user': {'id': 363336258, 'id_str': '363336258', 'name': 'mars', 'screen_name': 'marianatolosa3', 'location': 'Barranquilla, Colombia', 'url': None, 'description': 'I got a thing for red.', 'translator_type': 'none', 'protected': False, 'verified': False, 'followers_count': 1208, 'friends_count': 1777, 'listed_count': 3, 'favourites_count': 24007, 'statuses_count': 18685, 'created_at': 'Sat Aug 27 22:49:02 +0000 2011', 'utc_offset': None, 'time_zone': None, 'geo_enabled': True, 'lang': None, 'contributors_enabled': False, 'is_translator': False, 'profile_background_color': 'ACDED6', 'profile_background_image_url': 'http://abs.twimg.com/images/themes/theme18/bg.gif', 'profile_background_image_url_https': 'https://abs.twimg.com/images/themes/theme18/bg.gif', 'profile_background_tile': False, 'profile_link_color': '038543', 'profile_sidebar_border_color': 'EEEEEE', 'profile_sidebar_fill_color': 'F6F6F6', 'profile_text_color': '333333', 'profile_use_background_image': True, 'profile_image_url': 'http://pbs.twimg.com/profile_images/1267533757285875714/-NlhuHez_normal.jpg', 'profile_image_url_https': 'https://pbs.twimg.com/profile_images/1267533757285875714/-NlhuHez_normal.jpg', 'profile_banner_url': 'https://pbs.twimg.com/profile_banners/363336258/1591038574', 'default_profile': False, 'default_profile_image': False, 'following': None, 'follow_request_sent': None, 'notifications': None}, 'geo': None, 'coordinates': None, 'place': {'id': '0105a80417c159b4', 'url': 'https://api.twitter.com/1.1/geo/id/0105a80417c159b4.json', 'place_type': 'city', 'name': 'Barranquilla', 'full_name': 'Barranquilla, Colombia', 'country_code': 'CO', 'country': 'Colombia', 'bounding_box': {'type': 'Polygon', 'coordinates': [[[-74.925765, 10.869528], [-74.925765, 11.046618], [-74.774101, 11.046618], [-74.774101, 10.869528]]]}, 'attributes': {}}, 'contributors': None, 'quoted_status_id': 1267330618360242183, 'quoted_status_id_str': '1267330618360242183', 'quoted_status': {'created_at': 'Mon Jun 01 05:42:19 +0000 2020', 'id': 1267330618360242183, 'id_str': '1267330618360242183', 'text': ':-( https://t.co/YrvD134som', 'display_text_range': [0, 3], 'source': '<a href=\"http://twitter.com/download/iphone\" rel=\"nofollow\">Twitter for iPhone</a>', 'truncated': False, 'in_reply_to_status_id': None, 'in_reply_to_status_id_str': None, 'in_reply_to_user_id': None, 'in_reply_to_user_id_str': None, 'in_reply_to_screen_name': None, 'user': {'id': 798001624845262852, 'id_str': '798001624845262852', 'name': 'valón ☆', 'screen_name': 'valonvs', 'location': None, 'url': 'https://www.instagram.com/valonvs/', 'description': '2001 muse', 'translator_type': 'none', 'protected': False, 'verified': False, 'followers_count': 237, 'friends_count': 237, 'listed_count': 0, 'favourites_count': 23780, 'statuses_count': 3496, 'created_at': 'Mon Nov 14 03:16:28 +0000 2016', 'utc_offset': None, 'time_zone': None, 'geo_enabled': False, 'lang': None, 'contributors_enabled': False, 'is_translator': False, 'profile_background_color': 'F5F8FA', 'profile_background_image_url': '', 'profile_background_image_url_https': '', 'profile_background_tile': False, 'profile_link_color': '1DA1F2', 'profile_sidebar_border_color': 'C0DEED', 'profile_sidebar_fill_color': 'DDEEF6', 'profile_text_color': '333333', 'profile_use_background_image': True, 'profile_image_url': 'http://pbs.twimg.com/profile_images/1266204449032282112/bFI14-Js_normal.jpg', 'profile_image_url_https': 'https://pbs.twimg.com/profile_images/1266204449032282112/bFI14-Js_normal.jpg', 'profile_banner_url': 'https://pbs.twimg.com/profile_banners/798001624845262852/1582922091', 'default_profile': True, 'default_profile_image': False, 'following': None, 'follow_request_sent': None, 'notifications': None}, 'geo': None, 'coordinates': None, 'place': None, 'contributors': None, 'is_quote_status': False, 'quote_count': 181, 'reply_count': 35, 'retweet_count': 49, 'favorite_count': 861, 'entities': {'hashtags': [], 'urls': [], 'user_mentions': [], 'symbols': [], 'media': [{'id': 1267330546427990017, 'id_str': '1267330546427990017', 'indices': [4, 27], 'additional_media_info': {'monetizable': False}, 'media_url': 'http://pbs.twimg.com/ext_tw_video_thumb/1267330546427990017/pu/img/DGIR5zjIIiLmw6JD.jpg', 'media_url_https': 'https://pbs.twimg.com/ext_tw_video_thumb/1267330546427990017/pu/img/DGIR5zjIIiLmw6JD.jpg', 'url': 'https://t.co/YrvD134som', 'display_url': 'pic.twitter.com/YrvD134som', 'expanded_url': 'https://twitter.com/valonvs/status/1267330618360242183/video/1', 'type': 'photo', 'sizes': {'thumb': {'w': 150, 'h': 150, 'resize': 'crop'}, 'small': {'w': 383, 'h': 680, 'resize': 'fit'}, 'large': {'w': 576, 'h': 1024, 'resize': 'fit'}, 'medium': {'w': 576, 'h': 1024, 'resize': 'fit'}}}]}, 'extended_entities': {'media': [{'id': 1267330546427990017, 'id_str': '1267330546427990017', 'indices': [4, 27], 'additional_media_info': {'monetizable': False}, 'media_url': 'http://pbs.twimg.com/ext_tw_video_thumb/1267330546427990017/pu/img/DGIR5zjIIiLmw6JD.jpg', 'media_url_https': 'https://pbs.twimg.com/ext_tw_video_thumb/1267330546427990017/pu/img/DGIR5zjIIiLmw6JD.jpg', 'url': 'https://t.co/YrvD134som', 'display_url': 'pic.twitter.com/YrvD134som', 'expanded_url': 'https://twitter.com/valonvs/status/1267330618360242183/video/1', 'type': 'video', 'video_info': {'aspect_ratio': [9, 16], 'duration_millis': 34133, 'variants': [{'bitrate': 632000, 'content_type': 'video/mp4', 'url': 'https://video.twimg.com/ext_tw_video/1267330546427990017/pu/vid/320x568/UosEYh0xGbbfneVG.mp4?tag=10'}, {'bitrate': 2176000, 'content_type': 'video/mp4', 'url': 'https://video.twimg.com/ext_tw_video/1267330546427990017/pu/vid/576x1024/a2w6t6tKlmDhbYBe.mp4?tag=10'}, {'bitrate': 832000, 'content_type': 'video/mp4', 'url': 'https://video.twimg.com/ext_tw_video/1267330546427990017/pu/vid/360x640/nP-o4vdqJSlPYfxa.mp4?tag=10'}, {'content_type': 'application/x-mpegURL', 'url': 'https://video.twimg.com/ext_tw_video/1267330546427990017/pu/pl/y0LmD5RbkL1oOJ6-.m3u8?tag=10'}]}, 'sizes': {'thumb': {'w': 150, 'h': 150, 'resize': 'crop'}, 'small': {'w': 383, 'h': 680, 'resize': 'fit'}, 'large': {'w': 576, 'h': 1024, 'resize': 'fit'}, 'medium': {'w': 576, 'h': 1024, 'resize': 'fit'}}}]}, 'favorited': False, 'retweeted': False, 'possibly_sensitive': False, 'filter_level': 'low', 'lang': 'und'}, 'quoted_status_permalink': {'url': 'https://t.co/arfCFR8ffB', 'expanded': 'https://twitter.com/valonvs/status/1267330618360242183', 'display': 'twitter.com/valonvs/status…'}, 'is_quote_status': True, 'quote_count': 0, 'reply_count': 0, 'retweet_count': 0, 'favorite_count': 0, 'entities': {'hashtags': [], 'urls': [], 'user_mentions': [], 'symbols': []}, 'favorited': False, 'retweeted': False, 'filter_level': 'low', 'lang': 'es', 'timestamp_ms': '1591040388605'}\n"
     ]
    },
    {
     "name": "stdout",
     "output_type": "stream",
     "text": [
      "{'created_at': 'Mon Jun 01 19:39:49 +0000 2020', 'id': 1267541380441747466, 'id_str': '1267541380441747466', 'text': 'si quieren reirse un rato vean esta vaina pls https://t.co/4VPZfNE9mw', 'source': '<a href=\"http://twitter.com/download/iphone\" rel=\"nofollow\">Twitter for iPhone</a>', 'truncated': False, 'in_reply_to_status_id': None, 'in_reply_to_status_id_str': None, 'in_reply_to_user_id': None, 'in_reply_to_user_id_str': None, 'in_reply_to_screen_name': None, 'user': {'id': 1109523420763557897, 'id_str': '1109523420763557897', 'name': 'scott peregrino #blm', 'screen_name': 'dungaratungara', 'location': 'danny | she/her | pty ', 'url': 'https://boxd.it/1p3Kh', 'description': 'Tenet (2020) dir. Christopher Nolan', 'translator_type': 'none', 'protected': False, 'verified': False, 'followers_count': 108, 'friends_count': 1479, 'listed_count': 0, 'favourites_count': 13139, 'statuses_count': 6153, 'created_at': 'Sat Mar 23 18:32:52 +0000 2019', 'utc_offset': None, 'time_zone': None, 'geo_enabled': True, 'lang': None, 'contributors_enabled': False, 'is_translator': False, 'profile_background_color': 'F5F8FA', 'profile_background_image_url': '', 'profile_background_image_url_https': '', 'profile_background_tile': False, 'profile_link_color': '1DA1F2', 'profile_sidebar_border_color': 'C0DEED', 'profile_sidebar_fill_color': 'DDEEF6', 'profile_text_color': '333333', 'profile_use_background_image': True, 'profile_image_url': 'http://pbs.twimg.com/profile_images/1264815257819766784/_FXp_IB7_normal.jpg', 'profile_image_url_https': 'https://pbs.twimg.com/profile_images/1264815257819766784/_FXp_IB7_normal.jpg', 'profile_banner_url': 'https://pbs.twimg.com/profile_banners/1109523420763557897/1590898282', 'default_profile': True, 'default_profile_image': False, 'following': None, 'follow_request_sent': None, 'notifications': None}, 'geo': None, 'coordinates': None, 'place': {'id': '9d8ae4b0fac2036a', 'url': 'https://api.twitter.com/1.1/geo/id/9d8ae4b0fac2036a.json', 'place_type': 'country', 'name': 'Panama', 'full_name': 'Panama', 'country_code': 'PA', 'country': 'Panama', 'bounding_box': {'type': 'Polygon', 'coordinates': [[[-83.051445, 7.20386], [-83.051445, 9.639486], [-77.13939, 9.639486], [-77.13939, 7.20386]]]}, 'attributes': {}}, 'contributors': None, 'is_quote_status': False, 'quote_count': 0, 'reply_count': 0, 'retweet_count': 0, 'favorite_count': 0, 'entities': {'hashtags': [], 'urls': [{'url': 'https://t.co/4VPZfNE9mw', 'expanded_url': 'https://www.youtube.com/watch?v=MOyrbMa7OE8', 'display_url': 'youtube.com/watch?v=MOyrbM…', 'indices': [46, 69]}], 'user_mentions': [], 'symbols': []}, 'favorited': False, 'retweeted': False, 'possibly_sensitive': False, 'filter_level': 'low', 'lang': 'es', 'timestamp_ms': '1591040389534'}\n",
      "Stopped.\n",
      "Done.\n"
     ]
    }
   ],
   "source": [
    "listener = Listener()\n",
    "region=[ -79.0576171875, -4.477856485570586, -66.7529296875, 12.46876014482322]\n",
    "stream = tweepy.Stream(auth=api.auth, listener=listener, wait_on_rate_limit=True,wait_on_rate_limit_notify=True)\n",
    "try:\n",
    "    print('Start streaming.')\n",
    "    stream.filter(track=queries_l, locations=region, languages=['es'])\n",
    "except KeyboardInterrupt as e :\n",
    "    print(\"Stopped.\")\n",
    "finally:\n",
    "    print('Done.')\n",
    "    stream.disconnect()"
   ]
  },
  {
   "cell_type": "code",
   "execution_count": 47,
   "metadata": {},
   "outputs": [
    {
     "name": "stdout",
     "output_type": "stream",
     "text": [
      "0\n",
      "1\n",
      "2\n",
      "3\n",
      "4\n",
      "5\n",
      "6\n",
      "7\n",
      "8\n",
      "9\n",
      "10\n",
      "11\n",
      "12\n",
      "13\n",
      "14\n",
      "mayor\n"
     ]
    }
   ],
   "source": [
    "myStream."
   ]
  },
  {
   "cell_type": "code",
   "execution_count": 48,
   "metadata": {},
   "outputs": [
    {
     "data": {
      "text/plain": [
       "['Got a 12 hr twitter timeout for calling Ivanka Trump a silverspoon assqueen and telling her to GFHS.\\nI have learned… https://t.co/8B9IHMZaDZ',\n",
       " 'RT @B52Malmet: The time is now. #BunkerDon does not serve the nation. He serves only himself while the rest of us try to stay alive in a pa…',\n",
       " 'Some Hispanics are literally so brainwashed. Trump &amp; all these racist white people dont give a shit about us either… https://t.co/CtDp8pqTLy',\n",
       " 'RT @YourAnonNews: The issue with the US is that Trump wholeheartedly sucks as a President (and a person), Joe Biden is just the dems trying…',\n",
       " 'RT @kylegriffin1: Fact checking Trump\\'s tweet: \"More important, even if antifa were a real organization, the laws that permit the federal g…',\n",
       " 'As a Warren Dem, it was difficult for me to not vote for Greenfield. But I found Graham the most persuasive, eloque… https://t.co/043OsdiwYB',\n",
       " 'RT @SteveSchmidtSES: Trump’s Presidency isn’t just a failure, it is a disaster unequaled in the 244 year history of the United States. Amer…',\n",
       " 'RT @kylegriffin1: Trump spoke today with Putin, according to the Kremlin. https://t.co/eB7GBwSiaj',\n",
       " 'Trump is not protecting us from blm, anti-fa and the criminal cops. We need a President who 1. Knows how to protect… https://t.co/hr5HITn5Uo',\n",
       " 'RT @JohnnyChiang12: It is regrettable and short-sighted that the US wants to withdraw from the WHO , and ceding global leadership to others…',\n",
       " '@WhiteHouse Trump called the protesters thugs.His unguarded tweet is responsible the uprising in the US… https://t.co/LL4i1ginyZ',\n",
       " 'RT @AshaRangappa_: \"Despotism, which in its nature is fearful, sees the most certain guarantee of its own duration in the isolation of men.…',\n",
       " 'RT @Bill_Maxwell_: Again the Kremlin has told us that Trump called Putin today after the White House failed to mention the call.',\n",
       " \"RT @drawandstrike: And that's why by Sunday afternoon both President Donald Trump &amp; US AG William Barr are announcing they are designating…\",\n",
       " 'RT @GovCTW: other issues facing us. We need a leader to plan for the future. You, Mr. #President, are not that leader. In fact, you are mak…',\n",
       " 'RT @TrueHoop: Gregg Popovich: “McConnell has destroyed and degraded our judicial system. He has tried to destroy heath care. He’s destroyed…']"
      ]
     },
     "execution_count": 48,
     "metadata": {},
     "output_type": "execute_result"
    }
   ],
   "source": [
    "tweets, count = myStreamListener.return_data()\n",
    "tweets"
   ]
  },
  {
   "cell_type": "code",
   "execution_count": 31,
   "metadata": {},
   "outputs": [
    {
     "data": {
      "text/plain": [
       "0"
      ]
     },
     "execution_count": 31,
     "metadata": {},
     "output_type": "execute_result"
    }
   ],
   "source": []
  },
  {
   "cell_type": "code",
   "execution_count": null,
   "metadata": {},
   "outputs": [],
   "source": []
  }
 ],
 "metadata": {
  "kernelspec": {
   "display_name": "Python 3",
   "language": "python",
   "name": "python3"
  },
  "language_info": {
   "codemirror_mode": {
    "name": "ipython",
    "version": 3
   },
   "file_extension": ".py",
   "mimetype": "text/x-python",
   "name": "python",
   "nbconvert_exporter": "python",
   "pygments_lexer": "ipython3",
   "version": "3.7.4"
  }
 },
 "nbformat": 4,
 "nbformat_minor": 2
}
