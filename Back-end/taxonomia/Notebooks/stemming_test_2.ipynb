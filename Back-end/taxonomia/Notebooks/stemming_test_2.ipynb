{
 "cells": [
  {
   "cell_type": "code",
   "execution_count": 1,
   "metadata": {},
   "outputs": [],
   "source": [
    "# NLP Lab (Stemming, Lemmanization, Vectorization, Tokenization)\n",
    "## Made by David Bautista"
   ]
  },
  {
   "cell_type": "code",
   "execution_count": 4,
   "metadata": {},
   "outputs": [],
   "source": [
    "import spacy\n",
    "nlp = spacy.load(\"es_core_news_sm\")"
   ]
  },
  {
   "cell_type": "code",
   "execution_count": 5,
   "metadata": {},
   "outputs": [],
   "source": [
    "text = \"Soy un texto. Normalmente soy más largo y más grande. Que no te engañe mi tamaño.\"\n",
    "doc = nlp(text) # Crea un objeto de spacy tipo nlp"
   ]
  },
  {
   "cell_type": "code",
   "execution_count": 11,
   "metadata": {},
   "outputs": [
    {
     "data": {
      "text/plain": [
       "\"['Soy', 'un', 'texto', '.', 'Normalmente', 'soy', 'más', 'largo', 'y', 'más', 'grande', '.', 'Que', 'no', 'te', 'engañe', 'mi', 'tamaño', '.']\""
      ]
     },
     "execution_count": 11,
     "metadata": {},
     "output_type": "execute_result"
    }
   ],
   "source": [
    "tokens = [t.orth_ for t in doc] # Crea una lista con las palabras del textot\n",
    "str(tokens)"
   ]
  },
  {
   "cell_type": "code",
   "execution_count": 27,
   "metadata": {},
   "outputs": [
    {
     "data": {
      "text/plain": [
       "['texto', 'Normalmente', 'y', 'grande', 'engañe', 'tamaño']"
      ]
     },
     "execution_count": 27,
     "metadata": {},
     "output_type": "execute_result"
    }
   ],
   "source": [
    "lexical_tokens = [t.orth_ for t in doc if not (t.is_punct | t.is_stop)]\n",
    "lexical_tokens"
   ]
  },
  {
   "cell_type": "code",
   "execution_count": 12,
   "metadata": {},
   "outputs": [
    {
     "data": {
      "text/plain": [
       "['texto', 'normalmente', 'grande', 'engañe', 'tamaño']"
      ]
     },
     "execution_count": 12,
     "metadata": {},
     "output_type": "execute_result"
    }
   ],
   "source": [
    "words = [t.lower() for t in lexical_tokens if len(t) > 3 and t.isalpha()]\n",
    "words"
   ]
  },
  {
   "cell_type": "code",
   "execution_count": 15,
   "metadata": {},
   "outputs": [
    {
     "data": {
      "text/plain": [
       "['soy',\n",
       " 'uno',\n",
       " 'texto',\n",
       " '.',\n",
       " 'normalmente',\n",
       " 'ser',\n",
       " 'más',\n",
       " 'largar',\n",
       " 'y',\n",
       " 'más',\n",
       " 'grande',\n",
       " '.',\n",
       " 'que',\n",
       " 'no',\n",
       " 'te',\n",
       " 'engañar',\n",
       " 'mi',\n",
       " 'tamaño',\n",
       " '.']"
      ]
     },
     "execution_count": 15,
     "metadata": {},
     "output_type": "execute_result"
    }
   ],
   "source": [
    "lemmas = [tok.lemma_.lower() for tok in doc]\n",
    "lemmas"
   ]
  },
  {
   "cell_type": "code",
   "execution_count": 28,
   "metadata": {},
   "outputs": [
    {
     "data": {
      "text/plain": [
       "['texto', 'normalmente', 'y', 'grande', 'engañar', 'tamaño']"
      ]
     },
     "execution_count": 28,
     "metadata": {},
     "output_type": "execute_result"
    }
   ],
   "source": [
    "lemmas_no_pron = [tok.lemma_.lower() for tok in doc if tok.pos_ != 'PRON' and not (tok.is_punct | tok.is_stop)]\n",
    "lemmas_no_pron"
   ]
  },
  {
   "cell_type": "code",
   "execution_count": 21,
   "metadata": {},
   "outputs": [],
   "source": [
    "import nltk\n",
    "from nltk import SnowballStemmer\n",
    "spanishstemmer=SnowballStemmer('spanish')\n",
    "text = 'Soy un texto que pide a gritos que lo procesen. Por eso yo canto, tú cantas, ella canta, nosotros cantamos, cantáis, cantan…'\n",
    "tokens = lemmas_no_pron # crear una lista de tokens\n",
    "stems = [spanishstemmer.stem(token) for token in tokens]"
   ]
  },
  {
   "cell_type": "code",
   "execution_count": 22,
   "metadata": {},
   "outputs": [
    {
     "data": {
      "text/plain": [
       "['soy',\n",
       " 'uno',\n",
       " 'text',\n",
       " '.',\n",
       " 'normal',\n",
       " 'ser',\n",
       " 'mas',\n",
       " 'larg',\n",
       " 'y',\n",
       " 'mas',\n",
       " 'grand',\n",
       " '.',\n",
       " 'que',\n",
       " 'no',\n",
       " 'engañ',\n",
       " 'mi',\n",
       " 'tamañ',\n",
       " '.']"
      ]
     },
     "execution_count": 22,
     "metadata": {},
     "output_type": "execute_result"
    }
   ],
   "source": [
    "stems"
   ]
  },
  {
   "cell_type": "code",
   "execution_count": null,
   "metadata": {},
   "outputs": [],
   "source": []
  }
 ],
 "metadata": {
  "kernelspec": {
   "display_name": "Python 3",
   "language": "python",
   "name": "python3"
  },
  "language_info": {
   "codemirror_mode": {
    "name": "ipython",
    "version": 3
   },
   "file_extension": ".py",
   "mimetype": "text/x-python",
   "name": "python",
   "nbconvert_exporter": "python",
   "pygments_lexer": "ipython3",
   "version": "3.7.4"
  }
 },
 "nbformat": 4,
 "nbformat_minor": 2
}
